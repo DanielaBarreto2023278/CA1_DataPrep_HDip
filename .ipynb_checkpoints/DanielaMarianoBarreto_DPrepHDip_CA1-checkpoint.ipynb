{
 "cells": [
  {
   "cell_type": "markdown",
   "id": "6d07f04a",
   "metadata": {},
   "source": [
    "### Exploratory Data Analysis (EDA):\n",
    "According to Sahoo *et al*. (2019, p.4727), Exploratory Data Analysis can describe the data sets, such as several rows/columns, missing data, data types, and so on, inclusively cleaning corrupted data. Besides that, measures of mean, mode, median, standard deviation, variance, distribution and the existence of outliers are essential aspects of the EDA (Sahoo *et al*., 2019, p.4727; Sagala and Aryatama, 2022, p.579).\n",
    "\n",
    "Exploratory Data Analysis is helpful to increase the understanding of the dataset because it analyses and summarize the main characteristics of the dataset and also by using data visualization such as Histograms, Box plot, Scatter plots and others (Sagala and Aryatama, 2022, p.579).\n",
    "\n",
    "\n",
    "### Characterisation of the dataset:\n",
    "Data Characterization is part of Exploratory Data Analysis (EDA); it describes the data and can be referenced as metadata (\"data about data\"), which is the data characteristics, for example, data type, size, distribution and pattern (Panzner *et al*., 2022, p.7). The purpose of the data characterization is to examine and understand the fundamental characteristics and properties of a dataset to gain insights about the data.\n",
    "\n",
    "This dataset contains 60,000 observations, 170 numerical features and 1 categorical feature. This feature is presented with ‘pos’ when the failure in components is related to a specific APS system, and 'neg' when this failure is not associated with the APS system. \n",
    "I also found that the dataset contains more than 99% of the missing values; consequently, instead of removing them, I had to input them with a median or interpolation because the dataset was skewed. For the first time, I used the median, but some variables showed values so far from the original dataset, and because of this, I used the interpolation values.\n",
    "The dataset is highly imbalanced or skewed because approximately 98% are represented in the 'neg' class, while 2% are in the 'pos' class. This can be a problem when applying machine learning models because it will likely produce biased predictions. \n",
    "\n",
    "### Curse of Dimensionality:\n",
    "I would say that the Curse of Dimensionality is a dilemma, because it is always important to have more data to improve the accuracy of a model. However,  when we increase the number of features, we are increasing the number of dimensions and decreasing the number of observations. \n",
    "This lead to another problem, which is the need for more understanding and explicability because when the dataset has too many dimension (features), it isn't easy to understand what the data is trying to say. \n",
    "To deal with this problem, we have the Principal Component Analysis (PCA), a method to reduce the dimension of the data, maintaining its pattern.\n",
    "\n"
   ]
  },
  {
   "cell_type": "markdown",
   "id": "57d81ffd",
   "metadata": {},
   "source": [
    "To start the EDA, I will import all the libraries I will use, such as Pandas, for functions and methods to manipulate the data in this library and Numpy to solve mathematical problems."
   ]
  },
  {
   "cell_type": "code",
   "execution_count": 1,
   "id": "44693d50",
   "metadata": {},
   "outputs": [],
   "source": [
    "%matplotlib inline\n",
    "import numpy as np\n",
    "from sklearn.decomposition import PCA\n",
    "import matplotlib.pyplot as plt\n",
    "import seaborn as sns\n",
    "import pandas as pd"
   ]
  },
  {
   "cell_type": "markdown",
   "id": "9b05b46b",
   "metadata": {},
   "source": [
    "I used the 'pd.read_csv' method to access the file that I want to work with."
   ]
  },
  {
   "cell_type": "code",
   "execution_count": 2,
   "id": "8157cde2",
   "metadata": {},
   "outputs": [],
   "source": [
    "df = pd.read_csv(\"aps_failure_set.csv\")"
   ]
  },
  {
   "cell_type": "markdown",
   "id": "54bd9525",
   "metadata": {},
   "source": [
    "I used the 'head' method to view the file."
   ]
  },
  {
   "cell_type": "code",
   "execution_count": 3,
   "id": "0118be6e",
   "metadata": {
    "scrolled": true
   },
   "outputs": [
    {
     "data": {
      "text/html": [
       "<div>\n",
       "<style scoped>\n",
       "    .dataframe tbody tr th:only-of-type {\n",
       "        vertical-align: middle;\n",
       "    }\n",
       "\n",
       "    .dataframe tbody tr th {\n",
       "        vertical-align: top;\n",
       "    }\n",
       "\n",
       "    .dataframe thead th {\n",
       "        text-align: right;\n",
       "    }\n",
       "</style>\n",
       "<table border=\"1\" class=\"dataframe\">\n",
       "  <thead>\n",
       "    <tr style=\"text-align: right;\">\n",
       "      <th></th>\n",
       "      <th>class</th>\n",
       "      <th>aa_000</th>\n",
       "      <th>ab_000</th>\n",
       "      <th>ac_000</th>\n",
       "      <th>ad_000</th>\n",
       "      <th>ae_000</th>\n",
       "      <th>af_000</th>\n",
       "      <th>ag_000</th>\n",
       "      <th>ag_001</th>\n",
       "      <th>ag_002</th>\n",
       "      <th>...</th>\n",
       "      <th>ee_002</th>\n",
       "      <th>ee_003</th>\n",
       "      <th>ee_004</th>\n",
       "      <th>ee_005</th>\n",
       "      <th>ee_006</th>\n",
       "      <th>ee_007</th>\n",
       "      <th>ee_008</th>\n",
       "      <th>ee_009</th>\n",
       "      <th>ef_000</th>\n",
       "      <th>eg_000</th>\n",
       "    </tr>\n",
       "  </thead>\n",
       "  <tbody>\n",
       "    <tr>\n",
       "      <th>0</th>\n",
       "      <td>neg</td>\n",
       "      <td>76698</td>\n",
       "      <td>na</td>\n",
       "      <td>2130706438</td>\n",
       "      <td>280</td>\n",
       "      <td>0</td>\n",
       "      <td>0</td>\n",
       "      <td>0</td>\n",
       "      <td>0</td>\n",
       "      <td>0</td>\n",
       "      <td>...</td>\n",
       "      <td>1240520</td>\n",
       "      <td>493384</td>\n",
       "      <td>721044</td>\n",
       "      <td>469792</td>\n",
       "      <td>339156</td>\n",
       "      <td>157956</td>\n",
       "      <td>73224</td>\n",
       "      <td>0</td>\n",
       "      <td>0</td>\n",
       "      <td>0</td>\n",
       "    </tr>\n",
       "    <tr>\n",
       "      <th>1</th>\n",
       "      <td>neg</td>\n",
       "      <td>33058</td>\n",
       "      <td>na</td>\n",
       "      <td>0</td>\n",
       "      <td>na</td>\n",
       "      <td>0</td>\n",
       "      <td>0</td>\n",
       "      <td>0</td>\n",
       "      <td>0</td>\n",
       "      <td>0</td>\n",
       "      <td>...</td>\n",
       "      <td>421400</td>\n",
       "      <td>178064</td>\n",
       "      <td>293306</td>\n",
       "      <td>245416</td>\n",
       "      <td>133654</td>\n",
       "      <td>81140</td>\n",
       "      <td>97576</td>\n",
       "      <td>1500</td>\n",
       "      <td>0</td>\n",
       "      <td>0</td>\n",
       "    </tr>\n",
       "    <tr>\n",
       "      <th>2</th>\n",
       "      <td>neg</td>\n",
       "      <td>41040</td>\n",
       "      <td>na</td>\n",
       "      <td>228</td>\n",
       "      <td>100</td>\n",
       "      <td>0</td>\n",
       "      <td>0</td>\n",
       "      <td>0</td>\n",
       "      <td>0</td>\n",
       "      <td>0</td>\n",
       "      <td>...</td>\n",
       "      <td>277378</td>\n",
       "      <td>159812</td>\n",
       "      <td>423992</td>\n",
       "      <td>409564</td>\n",
       "      <td>320746</td>\n",
       "      <td>158022</td>\n",
       "      <td>95128</td>\n",
       "      <td>514</td>\n",
       "      <td>0</td>\n",
       "      <td>0</td>\n",
       "    </tr>\n",
       "    <tr>\n",
       "      <th>3</th>\n",
       "      <td>neg</td>\n",
       "      <td>12</td>\n",
       "      <td>0</td>\n",
       "      <td>70</td>\n",
       "      <td>66</td>\n",
       "      <td>0</td>\n",
       "      <td>10</td>\n",
       "      <td>0</td>\n",
       "      <td>0</td>\n",
       "      <td>0</td>\n",
       "      <td>...</td>\n",
       "      <td>240</td>\n",
       "      <td>46</td>\n",
       "      <td>58</td>\n",
       "      <td>44</td>\n",
       "      <td>10</td>\n",
       "      <td>0</td>\n",
       "      <td>0</td>\n",
       "      <td>0</td>\n",
       "      <td>4</td>\n",
       "      <td>32</td>\n",
       "    </tr>\n",
       "    <tr>\n",
       "      <th>4</th>\n",
       "      <td>neg</td>\n",
       "      <td>60874</td>\n",
       "      <td>na</td>\n",
       "      <td>1368</td>\n",
       "      <td>458</td>\n",
       "      <td>0</td>\n",
       "      <td>0</td>\n",
       "      <td>0</td>\n",
       "      <td>0</td>\n",
       "      <td>0</td>\n",
       "      <td>...</td>\n",
       "      <td>622012</td>\n",
       "      <td>229790</td>\n",
       "      <td>405298</td>\n",
       "      <td>347188</td>\n",
       "      <td>286954</td>\n",
       "      <td>311560</td>\n",
       "      <td>433954</td>\n",
       "      <td>1218</td>\n",
       "      <td>0</td>\n",
       "      <td>0</td>\n",
       "    </tr>\n",
       "  </tbody>\n",
       "</table>\n",
       "<p>5 rows × 171 columns</p>\n",
       "</div>"
      ],
      "text/plain": [
       "  class  aa_000 ab_000      ac_000 ad_000 ae_000 af_000 ag_000 ag_001 ag_002  \\\n",
       "0   neg   76698     na  2130706438    280      0      0      0      0      0   \n",
       "1   neg   33058     na           0     na      0      0      0      0      0   \n",
       "2   neg   41040     na         228    100      0      0      0      0      0   \n",
       "3   neg      12      0          70     66      0     10      0      0      0   \n",
       "4   neg   60874     na        1368    458      0      0      0      0      0   \n",
       "\n",
       "   ...   ee_002  ee_003  ee_004  ee_005  ee_006  ee_007  ee_008 ee_009 ef_000  \\\n",
       "0  ...  1240520  493384  721044  469792  339156  157956   73224      0      0   \n",
       "1  ...   421400  178064  293306  245416  133654   81140   97576   1500      0   \n",
       "2  ...   277378  159812  423992  409564  320746  158022   95128    514      0   \n",
       "3  ...      240      46      58      44      10       0       0      0      4   \n",
       "4  ...   622012  229790  405298  347188  286954  311560  433954   1218      0   \n",
       "\n",
       "  eg_000  \n",
       "0      0  \n",
       "1      0  \n",
       "2      0  \n",
       "3     32  \n",
       "4      0  \n",
       "\n",
       "[5 rows x 171 columns]"
      ]
     },
     "execution_count": 3,
     "metadata": {},
     "output_type": "execute_result"
    }
   ],
   "source": [
    "df.head()"
   ]
  },
  {
   "cell_type": "markdown",
   "id": "ad04de27",
   "metadata": {},
   "source": [
    "I used the method df.shape to have an idea of the dataset size. And I found that this dataset has 60000 rows and 171 columns."
   ]
  },
  {
   "cell_type": "code",
   "execution_count": 4,
   "id": "d4f81b97",
   "metadata": {},
   "outputs": [
    {
     "data": {
      "text/plain": [
       "(60000, 171)"
      ]
     },
     "execution_count": 4,
     "metadata": {},
     "output_type": "execute_result"
    }
   ],
   "source": [
    "df.shape"
   ]
  },
  {
   "cell_type": "markdown",
   "id": "89e50510",
   "metadata": {},
   "source": [
    "With the describe() method, I can see that this dataset is skewed by comparing the values of mean and median (50% value). Thus, I will start the cleaning process but take care not to distort the data. "
   ]
  },
  {
   "cell_type": "code",
   "execution_count": 5,
   "id": "c76a3940",
   "metadata": {
    "scrolled": true
   },
   "outputs": [
    {
     "data": {
      "text/html": [
       "<div>\n",
       "<style scoped>\n",
       "    .dataframe tbody tr th:only-of-type {\n",
       "        vertical-align: middle;\n",
       "    }\n",
       "\n",
       "    .dataframe tbody tr th {\n",
       "        vertical-align: top;\n",
       "    }\n",
       "\n",
       "    .dataframe thead th {\n",
       "        text-align: right;\n",
       "    }\n",
       "</style>\n",
       "<table border=\"1\" class=\"dataframe\">\n",
       "  <thead>\n",
       "    <tr style=\"text-align: right;\">\n",
       "      <th></th>\n",
       "      <th>aa_000</th>\n",
       "    </tr>\n",
       "  </thead>\n",
       "  <tbody>\n",
       "    <tr>\n",
       "      <th>count</th>\n",
       "      <td>6.000000e+04</td>\n",
       "    </tr>\n",
       "    <tr>\n",
       "      <th>mean</th>\n",
       "      <td>5.933650e+04</td>\n",
       "    </tr>\n",
       "    <tr>\n",
       "      <th>std</th>\n",
       "      <td>1.454301e+05</td>\n",
       "    </tr>\n",
       "    <tr>\n",
       "      <th>min</th>\n",
       "      <td>0.000000e+00</td>\n",
       "    </tr>\n",
       "    <tr>\n",
       "      <th>25%</th>\n",
       "      <td>8.340000e+02</td>\n",
       "    </tr>\n",
       "    <tr>\n",
       "      <th>50%</th>\n",
       "      <td>3.077600e+04</td>\n",
       "    </tr>\n",
       "    <tr>\n",
       "      <th>75%</th>\n",
       "      <td>4.866800e+04</td>\n",
       "    </tr>\n",
       "    <tr>\n",
       "      <th>max</th>\n",
       "      <td>2.746564e+06</td>\n",
       "    </tr>\n",
       "  </tbody>\n",
       "</table>\n",
       "</div>"
      ],
      "text/plain": [
       "             aa_000\n",
       "count  6.000000e+04\n",
       "mean   5.933650e+04\n",
       "std    1.454301e+05\n",
       "min    0.000000e+00\n",
       "25%    8.340000e+02\n",
       "50%    3.077600e+04\n",
       "75%    4.866800e+04\n",
       "max    2.746564e+06"
      ]
     },
     "execution_count": 5,
     "metadata": {},
     "output_type": "execute_result"
    }
   ],
   "source": [
    "df.describe()"
   ]
  },
  {
   "cell_type": "markdown",
   "id": "cea4320e",
   "metadata": {},
   "source": [
    "### Cleaning the dataset"
   ]
  },
  {
   "cell_type": "markdown",
   "id": "4ed6d84d",
   "metadata": {},
   "source": [
    "The method df.info() gave me an idea about the values inside the dataset."
   ]
  },
  {
   "cell_type": "code",
   "execution_count": 6,
   "id": "9ff4d8ac",
   "metadata": {
    "scrolled": true
   },
   "outputs": [
    {
     "name": "stdout",
     "output_type": "stream",
     "text": [
      "<class 'pandas.core.frame.DataFrame'>\n",
      "RangeIndex: 60000 entries, 0 to 59999\n",
      "Columns: 171 entries, class to eg_000\n",
      "dtypes: int64(1), object(170)\n",
      "memory usage: 78.3+ MB\n"
     ]
    }
   ],
   "source": [
    "df.info()"
   ]
  },
  {
   "cell_type": "markdown",
   "id": "fba22b29",
   "metadata": {},
   "source": [
    "After run the df.info() method I realized that the dataset has 170 features denominated as object which means that in this feature there are values that are string or sinalized as 'NaN' by the programm for unkown values."
   ]
  },
  {
   "cell_type": "markdown",
   "id": "08ff8aa7",
   "metadata": {},
   "source": [
    "I used the unique() method to obtain all kind of data that there is inside of column \"class\". As a result is showed that I have strings in this column with two types: 'neg' and 'pos'. "
   ]
  },
  {
   "cell_type": "code",
   "execution_count": 7,
   "id": "7cf56310",
   "metadata": {},
   "outputs": [
    {
     "data": {
      "text/plain": [
       "array(['neg', 'pos'], dtype=object)"
      ]
     },
     "execution_count": 7,
     "metadata": {},
     "output_type": "execute_result"
    }
   ],
   "source": [
    "df[\"class\"].unique()"
   ]
  },
  {
   "cell_type": "markdown",
   "id": "1cedf395",
   "metadata": {},
   "source": [
    "The method miss_val_formats call a list of strings that have some possible formats that might be used to indicate missing or invalid data in the dataset. Then the code below will search on the entire dataset for all the data that are in the list 'miss_val_formats' which may represent missing or invalid data and place them with 'NaN', which means not a number."
   ]
  },
  {
   "cell_type": "code",
   "execution_count": 8,
   "id": "6d58af5f",
   "metadata": {},
   "outputs": [],
   "source": [
    "miss_val_formats = [\"n.a.\", \"?\", \"NA\", \"n/a\", \"na\", \"--\"]"
   ]
  },
  {
   "cell_type": "code",
   "execution_count": 9,
   "id": "960e6b98",
   "metadata": {},
   "outputs": [],
   "source": [
    "df = pd.read_csv(\"aps_failure_set.csv\", na_values=miss_val_formats)"
   ]
  },
  {
   "cell_type": "code",
   "execution_count": 10,
   "id": "f5ffcc54",
   "metadata": {
    "scrolled": true
   },
   "outputs": [
    {
     "name": "stdout",
     "output_type": "stream",
     "text": [
      "<class 'pandas.core.frame.DataFrame'>\n",
      "RangeIndex: 60000 entries, 0 to 59999\n",
      "Columns: 171 entries, class to eg_000\n",
      "dtypes: float64(169), int64(1), object(1)\n",
      "memory usage: 78.3+ MB\n"
     ]
    }
   ],
   "source": [
    "df.info()"
   ]
  },
  {
   "cell_type": "code",
   "execution_count": 11,
   "id": "5d43221f",
   "metadata": {},
   "outputs": [
    {
     "data": {
      "text/plain": [
       "class      object\n",
       "aa_000      int64\n",
       "ab_000    float64\n",
       "ac_000    float64\n",
       "ad_000    float64\n",
       "           ...   \n",
       "ee_007    float64\n",
       "ee_008    float64\n",
       "ee_009    float64\n",
       "ef_000    float64\n",
       "eg_000    float64\n",
       "Length: 171, dtype: object"
      ]
     },
     "execution_count": 11,
     "metadata": {},
     "output_type": "execute_result"
    }
   ],
   "source": [
    "df.dtypes"
   ]
  },
  {
   "cell_type": "code",
   "execution_count": 12,
   "id": "1e4b7bc9",
   "metadata": {},
   "outputs": [
    {
     "data": {
      "text/plain": [
       "neg    59000\n",
       "pos     1000\n",
       "Name: class, dtype: int64"
      ]
     },
     "execution_count": 12,
     "metadata": {},
     "output_type": "execute_result"
    }
   ],
   "source": [
    "df[\"class\"].value_counts()"
   ]
  },
  {
   "cell_type": "markdown",
   "id": "1bb0621b",
   "metadata": {},
   "source": [
    "After running the method info() again, I saw that the data types have changed. There are float, integer, and object (string) because there was probably missing or invalid data that changed columns with float values in string columns."
   ]
  },
  {
   "cell_type": "markdown",
   "id": "43db8c96",
   "metadata": {},
   "source": [
    "Now I am using the code df.isnull().sum() to calculate the numbers of missing (null and NaN) values in all columns of the dataset. As result I found that there are a lot of missing values, for example in the column ab_000 there are 46329 records missing (null and NaN). \n",
    "Considering that this dataset has a huge amount of missing values I will not allowed to use the code df.dropna(axis=0) because if I do it I will lose the confiability on the information that this dataset have.\n",
    "Just for instance if I follow this pathway I will get a dataset with only 591 rows, which means that I would lose more than 99% of the dataset."
   ]
  },
  {
   "cell_type": "code",
   "execution_count": 13,
   "id": "26a4dad2",
   "metadata": {},
   "outputs": [
    {
     "data": {
      "text/plain": [
       "class         0\n",
       "aa_000        0\n",
       "ab_000    46329\n",
       "ac_000     3335\n",
       "ad_000    14861\n",
       "          ...  \n",
       "ee_007      671\n",
       "ee_008      671\n",
       "ee_009      671\n",
       "ef_000     2724\n",
       "eg_000     2723\n",
       "Length: 171, dtype: int64"
      ]
     },
     "execution_count": 13,
     "metadata": {},
     "output_type": "execute_result"
    }
   ],
   "source": [
    "df.isnull().sum()"
   ]
  },
  {
   "cell_type": "code",
   "execution_count": 14,
   "id": "7bd2cf4c",
   "metadata": {},
   "outputs": [],
   "source": [
    "new_df = df.dropna(axis=0)"
   ]
  },
  {
   "cell_type": "code",
   "execution_count": 15,
   "id": "0e1f0d12",
   "metadata": {},
   "outputs": [
    {
     "data": {
      "text/plain": [
       "class     0\n",
       "aa_000    0\n",
       "ab_000    0\n",
       "ac_000    0\n",
       "ad_000    0\n",
       "         ..\n",
       "ee_007    0\n",
       "ee_008    0\n",
       "ee_009    0\n",
       "ef_000    0\n",
       "eg_000    0\n",
       "Length: 171, dtype: int64"
      ]
     },
     "execution_count": 15,
     "metadata": {},
     "output_type": "execute_result"
    }
   ],
   "source": [
    "new_df.isnull().sum()"
   ]
  },
  {
   "cell_type": "code",
   "execution_count": 16,
   "id": "784dfd54",
   "metadata": {},
   "outputs": [
    {
     "data": {
      "text/plain": [
       "(591, 171)"
      ]
     },
     "execution_count": 16,
     "metadata": {},
     "output_type": "execute_result"
    }
   ],
   "source": [
    "new_df.shape"
   ]
  },
  {
   "cell_type": "markdown",
   "id": "cc3c0a36",
   "metadata": {},
   "source": [
    "Above is shown that after proceeding that pathway I ended up with only 591 records (rows). In this case I wil use another solution to replace those missing values."
   ]
  },
  {
   "cell_type": "markdown",
   "id": "06cc8948",
   "metadata": {},
   "source": [
    "When I repeated the process above, I saw that instead of the dataset having 171 columns, it became only 2 columns, meaning that 169 were deleted from the dataset."
   ]
  },
  {
   "cell_type": "code",
   "execution_count": 17,
   "id": "bd4fa670",
   "metadata": {},
   "outputs": [
    {
     "data": {
      "text/plain": [
       "(60000, 171)"
      ]
     },
     "execution_count": 17,
     "metadata": {},
     "output_type": "execute_result"
    }
   ],
   "source": [
    "df.shape"
   ]
  },
  {
   "cell_type": "code",
   "execution_count": 18,
   "id": "80d5d325",
   "metadata": {},
   "outputs": [],
   "source": [
    "new_df = df.dropna(axis=1)"
   ]
  },
  {
   "cell_type": "code",
   "execution_count": 19,
   "id": "f4106e35",
   "metadata": {},
   "outputs": [
    {
     "data": {
      "text/plain": [
       "(60000, 2)"
      ]
     },
     "execution_count": 19,
     "metadata": {},
     "output_type": "execute_result"
    }
   ],
   "source": [
    "new_df.shape"
   ]
  },
  {
   "cell_type": "markdown",
   "id": "01b1d72d",
   "metadata": {},
   "source": [
    "Now I will again access the original dataframe (df) and apply the fillna method to replace all missing data."
   ]
  },
  {
   "cell_type": "code",
   "execution_count": 20,
   "id": "fc5ad765",
   "metadata": {},
   "outputs": [
    {
     "data": {
      "text/plain": [
       "(60000, 171)"
      ]
     },
     "execution_count": 20,
     "metadata": {},
     "output_type": "execute_result"
    }
   ],
   "source": [
    "df.shape"
   ]
  },
  {
   "cell_type": "markdown",
   "id": "f069b77a",
   "metadata": {},
   "source": [
    "### Inputing data with median values"
   ]
  },
  {
   "cell_type": "markdown",
   "id": "b52027e5",
   "metadata": {},
   "source": [
    "According to df.describe(), we can see that the data is skewed. Therefore, it is recommended to use the **median** to replace missing values, as it provides a better representation of the majority of the variable's values. In contrast, the mean is influenced by values at the extreme of the distribution.\n",
    "\n",
    "I opted not to use the \"warnings.filterwarnings\" to suppress alerts because some can be useful during my analysis."
   ]
  },
  {
   "cell_type": "code",
   "execution_count": 21,
   "id": "40e5f818",
   "metadata": {},
   "outputs": [
    {
     "name": "stderr",
     "output_type": "stream",
     "text": [
      "C:\\Users\\danie\\AppData\\Local\\Temp\\ipykernel_48364\\2636348673.py:1: FutureWarning: The default value of numeric_only in DataFrame.median is deprecated. In a future version, it will default to False. In addition, specifying 'numeric_only=None' is deprecated. Select only valid columns or specify the value of numeric_only to silence this warning.\n",
      "  df2 = df.fillna(df.median())\n"
     ]
    }
   ],
   "source": [
    "df2 = df.fillna(df.median())"
   ]
  },
  {
   "cell_type": "code",
   "execution_count": 22,
   "id": "18f32f3d",
   "metadata": {
    "scrolled": true
   },
   "outputs": [
    {
     "data": {
      "text/html": [
       "<div>\n",
       "<style scoped>\n",
       "    .dataframe tbody tr th:only-of-type {\n",
       "        vertical-align: middle;\n",
       "    }\n",
       "\n",
       "    .dataframe tbody tr th {\n",
       "        vertical-align: top;\n",
       "    }\n",
       "\n",
       "    .dataframe thead th {\n",
       "        text-align: right;\n",
       "    }\n",
       "</style>\n",
       "<table border=\"1\" class=\"dataframe\">\n",
       "  <thead>\n",
       "    <tr style=\"text-align: right;\">\n",
       "      <th></th>\n",
       "      <th>class</th>\n",
       "      <th>aa_000</th>\n",
       "      <th>ab_000</th>\n",
       "      <th>ac_000</th>\n",
       "      <th>ad_000</th>\n",
       "      <th>ae_000</th>\n",
       "      <th>af_000</th>\n",
       "      <th>ag_000</th>\n",
       "      <th>ag_001</th>\n",
       "      <th>ag_002</th>\n",
       "      <th>...</th>\n",
       "      <th>ee_002</th>\n",
       "      <th>ee_003</th>\n",
       "      <th>ee_004</th>\n",
       "      <th>ee_005</th>\n",
       "      <th>ee_006</th>\n",
       "      <th>ee_007</th>\n",
       "      <th>ee_008</th>\n",
       "      <th>ee_009</th>\n",
       "      <th>ef_000</th>\n",
       "      <th>eg_000</th>\n",
       "    </tr>\n",
       "  </thead>\n",
       "  <tbody>\n",
       "    <tr>\n",
       "      <th>0</th>\n",
       "      <td>neg</td>\n",
       "      <td>76698</td>\n",
       "      <td>0.0</td>\n",
       "      <td>2.130706e+09</td>\n",
       "      <td>280.0</td>\n",
       "      <td>0.0</td>\n",
       "      <td>0.0</td>\n",
       "      <td>0.0</td>\n",
       "      <td>0.0</td>\n",
       "      <td>0.0</td>\n",
       "      <td>...</td>\n",
       "      <td>1240520.0</td>\n",
       "      <td>493384.0</td>\n",
       "      <td>721044.0</td>\n",
       "      <td>469792.0</td>\n",
       "      <td>339156.0</td>\n",
       "      <td>157956.0</td>\n",
       "      <td>73224.0</td>\n",
       "      <td>0.0</td>\n",
       "      <td>0.0</td>\n",
       "      <td>0.0</td>\n",
       "    </tr>\n",
       "    <tr>\n",
       "      <th>1</th>\n",
       "      <td>neg</td>\n",
       "      <td>33058</td>\n",
       "      <td>0.0</td>\n",
       "      <td>0.000000e+00</td>\n",
       "      <td>126.0</td>\n",
       "      <td>0.0</td>\n",
       "      <td>0.0</td>\n",
       "      <td>0.0</td>\n",
       "      <td>0.0</td>\n",
       "      <td>0.0</td>\n",
       "      <td>...</td>\n",
       "      <td>421400.0</td>\n",
       "      <td>178064.0</td>\n",
       "      <td>293306.0</td>\n",
       "      <td>245416.0</td>\n",
       "      <td>133654.0</td>\n",
       "      <td>81140.0</td>\n",
       "      <td>97576.0</td>\n",
       "      <td>1500.0</td>\n",
       "      <td>0.0</td>\n",
       "      <td>0.0</td>\n",
       "    </tr>\n",
       "    <tr>\n",
       "      <th>2</th>\n",
       "      <td>neg</td>\n",
       "      <td>41040</td>\n",
       "      <td>0.0</td>\n",
       "      <td>2.280000e+02</td>\n",
       "      <td>100.0</td>\n",
       "      <td>0.0</td>\n",
       "      <td>0.0</td>\n",
       "      <td>0.0</td>\n",
       "      <td>0.0</td>\n",
       "      <td>0.0</td>\n",
       "      <td>...</td>\n",
       "      <td>277378.0</td>\n",
       "      <td>159812.0</td>\n",
       "      <td>423992.0</td>\n",
       "      <td>409564.0</td>\n",
       "      <td>320746.0</td>\n",
       "      <td>158022.0</td>\n",
       "      <td>95128.0</td>\n",
       "      <td>514.0</td>\n",
       "      <td>0.0</td>\n",
       "      <td>0.0</td>\n",
       "    </tr>\n",
       "    <tr>\n",
       "      <th>3</th>\n",
       "      <td>neg</td>\n",
       "      <td>12</td>\n",
       "      <td>0.0</td>\n",
       "      <td>7.000000e+01</td>\n",
       "      <td>66.0</td>\n",
       "      <td>0.0</td>\n",
       "      <td>10.0</td>\n",
       "      <td>0.0</td>\n",
       "      <td>0.0</td>\n",
       "      <td>0.0</td>\n",
       "      <td>...</td>\n",
       "      <td>240.0</td>\n",
       "      <td>46.0</td>\n",
       "      <td>58.0</td>\n",
       "      <td>44.0</td>\n",
       "      <td>10.0</td>\n",
       "      <td>0.0</td>\n",
       "      <td>0.0</td>\n",
       "      <td>0.0</td>\n",
       "      <td>4.0</td>\n",
       "      <td>32.0</td>\n",
       "    </tr>\n",
       "    <tr>\n",
       "      <th>4</th>\n",
       "      <td>neg</td>\n",
       "      <td>60874</td>\n",
       "      <td>0.0</td>\n",
       "      <td>1.368000e+03</td>\n",
       "      <td>458.0</td>\n",
       "      <td>0.0</td>\n",
       "      <td>0.0</td>\n",
       "      <td>0.0</td>\n",
       "      <td>0.0</td>\n",
       "      <td>0.0</td>\n",
       "      <td>...</td>\n",
       "      <td>622012.0</td>\n",
       "      <td>229790.0</td>\n",
       "      <td>405298.0</td>\n",
       "      <td>347188.0</td>\n",
       "      <td>286954.0</td>\n",
       "      <td>311560.0</td>\n",
       "      <td>433954.0</td>\n",
       "      <td>1218.0</td>\n",
       "      <td>0.0</td>\n",
       "      <td>0.0</td>\n",
       "    </tr>\n",
       "  </tbody>\n",
       "</table>\n",
       "<p>5 rows × 171 columns</p>\n",
       "</div>"
      ],
      "text/plain": [
       "  class  aa_000  ab_000        ac_000  ad_000  ae_000  af_000  ag_000  ag_001  \\\n",
       "0   neg   76698     0.0  2.130706e+09   280.0     0.0     0.0     0.0     0.0   \n",
       "1   neg   33058     0.0  0.000000e+00   126.0     0.0     0.0     0.0     0.0   \n",
       "2   neg   41040     0.0  2.280000e+02   100.0     0.0     0.0     0.0     0.0   \n",
       "3   neg      12     0.0  7.000000e+01    66.0     0.0    10.0     0.0     0.0   \n",
       "4   neg   60874     0.0  1.368000e+03   458.0     0.0     0.0     0.0     0.0   \n",
       "\n",
       "   ag_002  ...     ee_002    ee_003    ee_004    ee_005    ee_006    ee_007  \\\n",
       "0     0.0  ...  1240520.0  493384.0  721044.0  469792.0  339156.0  157956.0   \n",
       "1     0.0  ...   421400.0  178064.0  293306.0  245416.0  133654.0   81140.0   \n",
       "2     0.0  ...   277378.0  159812.0  423992.0  409564.0  320746.0  158022.0   \n",
       "3     0.0  ...      240.0      46.0      58.0      44.0      10.0       0.0   \n",
       "4     0.0  ...   622012.0  229790.0  405298.0  347188.0  286954.0  311560.0   \n",
       "\n",
       "     ee_008  ee_009  ef_000  eg_000  \n",
       "0   73224.0     0.0     0.0     0.0  \n",
       "1   97576.0  1500.0     0.0     0.0  \n",
       "2   95128.0   514.0     0.0     0.0  \n",
       "3       0.0     0.0     4.0    32.0  \n",
       "4  433954.0  1218.0     0.0     0.0  \n",
       "\n",
       "[5 rows x 171 columns]"
      ]
     },
     "execution_count": 22,
     "metadata": {},
     "output_type": "execute_result"
    }
   ],
   "source": [
    "df2.head()"
   ]
  },
  {
   "cell_type": "code",
   "execution_count": 23,
   "id": "4dc88f85",
   "metadata": {},
   "outputs": [
    {
     "data": {
      "text/plain": [
       "(60000, 171)"
      ]
     },
     "execution_count": 23,
     "metadata": {},
     "output_type": "execute_result"
    }
   ],
   "source": [
    "df2.shape"
   ]
  },
  {
   "cell_type": "code",
   "execution_count": 24,
   "id": "af0bd784",
   "metadata": {},
   "outputs": [
    {
     "data": {
      "text/plain": [
       "class     0\n",
       "aa_000    0\n",
       "ab_000    0\n",
       "ac_000    0\n",
       "ad_000    0\n",
       "         ..\n",
       "ee_007    0\n",
       "ee_008    0\n",
       "ee_009    0\n",
       "ef_000    0\n",
       "eg_000    0\n",
       "Length: 171, dtype: int64"
      ]
     },
     "execution_count": 24,
     "metadata": {},
     "output_type": "execute_result"
    }
   ],
   "source": [
    "df2.isnull().sum()"
   ]
  },
  {
   "cell_type": "code",
   "execution_count": 25,
   "id": "1ef3ecb3",
   "metadata": {},
   "outputs": [
    {
     "data": {
      "text/plain": [
       "(60000, 171)"
      ]
     },
     "execution_count": 25,
     "metadata": {},
     "output_type": "execute_result"
    }
   ],
   "source": [
    "df2.shape"
   ]
  },
  {
   "cell_type": "code",
   "execution_count": 26,
   "id": "e6800b9f",
   "metadata": {},
   "outputs": [
    {
     "data": {
      "text/html": [
       "<div>\n",
       "<style scoped>\n",
       "    .dataframe tbody tr th:only-of-type {\n",
       "        vertical-align: middle;\n",
       "    }\n",
       "\n",
       "    .dataframe tbody tr th {\n",
       "        vertical-align: top;\n",
       "    }\n",
       "\n",
       "    .dataframe thead th {\n",
       "        text-align: right;\n",
       "    }\n",
       "</style>\n",
       "<table border=\"1\" class=\"dataframe\">\n",
       "  <thead>\n",
       "    <tr style=\"text-align: right;\">\n",
       "      <th></th>\n",
       "      <th>aa_000</th>\n",
       "      <th>ab_000</th>\n",
       "      <th>ac_000</th>\n",
       "      <th>ad_000</th>\n",
       "      <th>ae_000</th>\n",
       "      <th>af_000</th>\n",
       "      <th>ag_000</th>\n",
       "      <th>ag_001</th>\n",
       "      <th>ag_002</th>\n",
       "      <th>ag_003</th>\n",
       "      <th>...</th>\n",
       "      <th>ee_002</th>\n",
       "      <th>ee_003</th>\n",
       "      <th>ee_004</th>\n",
       "      <th>ee_005</th>\n",
       "      <th>ee_006</th>\n",
       "      <th>ee_007</th>\n",
       "      <th>ee_008</th>\n",
       "      <th>ee_009</th>\n",
       "      <th>ef_000</th>\n",
       "      <th>eg_000</th>\n",
       "    </tr>\n",
       "  </thead>\n",
       "  <tbody>\n",
       "    <tr>\n",
       "      <th>count</th>\n",
       "      <td>6.000000e+04</td>\n",
       "      <td>60000.000000</td>\n",
       "      <td>6.000000e+04</td>\n",
       "      <td>6.000000e+04</td>\n",
       "      <td>60000.000000</td>\n",
       "      <td>60000.000000</td>\n",
       "      <td>6.000000e+04</td>\n",
       "      <td>6.000000e+04</td>\n",
       "      <td>6.000000e+04</td>\n",
       "      <td>6.000000e+04</td>\n",
       "      <td>...</td>\n",
       "      <td>6.000000e+04</td>\n",
       "      <td>6.000000e+04</td>\n",
       "      <td>6.000000e+04</td>\n",
       "      <td>6.000000e+04</td>\n",
       "      <td>6.000000e+04</td>\n",
       "      <td>6.000000e+04</td>\n",
       "      <td>6.000000e+04</td>\n",
       "      <td>6.000000e+04</td>\n",
       "      <td>60000.000000</td>\n",
       "      <td>60000.000000</td>\n",
       "    </tr>\n",
       "    <tr>\n",
       "      <th>mean</th>\n",
       "      <td>5.933650e+04</td>\n",
       "      <td>0.162500</td>\n",
       "      <td>3.362258e+08</td>\n",
       "      <td>1.434383e+05</td>\n",
       "      <td>6.535000</td>\n",
       "      <td>10.548200</td>\n",
       "      <td>2.191577e+02</td>\n",
       "      <td>9.648104e+02</td>\n",
       "      <td>8.509771e+03</td>\n",
       "      <td>8.760054e+04</td>\n",
       "      <td>...</td>\n",
       "      <td>4.431223e+05</td>\n",
       "      <td>2.100188e+05</td>\n",
       "      <td>4.432268e+05</td>\n",
       "      <td>3.916653e+05</td>\n",
       "      <td>3.303672e+05</td>\n",
       "      <td>3.428586e+05</td>\n",
       "      <td>1.372212e+05</td>\n",
       "      <td>8.295099e+03</td>\n",
       "      <td>0.086467</td>\n",
       "      <td>0.203100</td>\n",
       "    </tr>\n",
       "    <tr>\n",
       "      <th>std</th>\n",
       "      <td>1.454301e+05</td>\n",
       "      <td>1.687318</td>\n",
       "      <td>7.767625e+08</td>\n",
       "      <td>3.504525e+07</td>\n",
       "      <td>158.147893</td>\n",
       "      <td>205.387115</td>\n",
       "      <td>2.036364e+04</td>\n",
       "      <td>3.400891e+04</td>\n",
       "      <td>1.494818e+05</td>\n",
       "      <td>7.575171e+05</td>\n",
       "      <td>...</td>\n",
       "      <td>1.149276e+06</td>\n",
       "      <td>5.403725e+05</td>\n",
       "      <td>1.162002e+06</td>\n",
       "      <td>1.114964e+06</td>\n",
       "      <td>1.063465e+06</td>\n",
       "      <td>1.718666e+06</td>\n",
       "      <td>4.472145e+05</td>\n",
       "      <td>4.721249e+04</td>\n",
       "      <td>4.268570</td>\n",
       "      <td>8.628043</td>\n",
       "    </tr>\n",
       "    <tr>\n",
       "      <th>min</th>\n",
       "      <td>0.000000e+00</td>\n",
       "      <td>0.000000</td>\n",
       "      <td>0.000000e+00</td>\n",
       "      <td>0.000000e+00</td>\n",
       "      <td>0.000000</td>\n",
       "      <td>0.000000</td>\n",
       "      <td>0.000000e+00</td>\n",
       "      <td>0.000000e+00</td>\n",
       "      <td>0.000000e+00</td>\n",
       "      <td>0.000000e+00</td>\n",
       "      <td>...</td>\n",
       "      <td>0.000000e+00</td>\n",
       "      <td>0.000000e+00</td>\n",
       "      <td>0.000000e+00</td>\n",
       "      <td>0.000000e+00</td>\n",
       "      <td>0.000000e+00</td>\n",
       "      <td>0.000000e+00</td>\n",
       "      <td>0.000000e+00</td>\n",
       "      <td>0.000000e+00</td>\n",
       "      <td>0.000000</td>\n",
       "      <td>0.000000</td>\n",
       "    </tr>\n",
       "    <tr>\n",
       "      <th>25%</th>\n",
       "      <td>8.340000e+02</td>\n",
       "      <td>0.000000</td>\n",
       "      <td>2.000000e+01</td>\n",
       "      <td>4.200000e+01</td>\n",
       "      <td>0.000000</td>\n",
       "      <td>0.000000</td>\n",
       "      <td>0.000000e+00</td>\n",
       "      <td>0.000000e+00</td>\n",
       "      <td>0.000000e+00</td>\n",
       "      <td>0.000000e+00</td>\n",
       "      <td>...</td>\n",
       "      <td>3.033500e+03</td>\n",
       "      <td>1.204000e+03</td>\n",
       "      <td>2.848500e+03</td>\n",
       "      <td>3.839000e+03</td>\n",
       "      <td>5.600000e+02</td>\n",
       "      <td>1.180000e+02</td>\n",
       "      <td>0.000000e+00</td>\n",
       "      <td>0.000000e+00</td>\n",
       "      <td>0.000000</td>\n",
       "      <td>0.000000</td>\n",
       "    </tr>\n",
       "    <tr>\n",
       "      <th>50%</th>\n",
       "      <td>3.077600e+04</td>\n",
       "      <td>0.000000</td>\n",
       "      <td>1.520000e+02</td>\n",
       "      <td>1.260000e+02</td>\n",
       "      <td>0.000000</td>\n",
       "      <td>0.000000</td>\n",
       "      <td>0.000000e+00</td>\n",
       "      <td>0.000000e+00</td>\n",
       "      <td>0.000000e+00</td>\n",
       "      <td>0.000000e+00</td>\n",
       "      <td>...</td>\n",
       "      <td>2.337960e+05</td>\n",
       "      <td>1.120860e+05</td>\n",
       "      <td>2.215180e+05</td>\n",
       "      <td>1.899880e+05</td>\n",
       "      <td>9.243200e+04</td>\n",
       "      <td>4.109800e+04</td>\n",
       "      <td>3.812000e+03</td>\n",
       "      <td>0.000000e+00</td>\n",
       "      <td>0.000000</td>\n",
       "      <td>0.000000</td>\n",
       "    </tr>\n",
       "    <tr>\n",
       "      <th>75%</th>\n",
       "      <td>4.866800e+04</td>\n",
       "      <td>0.000000</td>\n",
       "      <td>8.480000e+02</td>\n",
       "      <td>2.920000e+02</td>\n",
       "      <td>0.000000</td>\n",
       "      <td>0.000000</td>\n",
       "      <td>0.000000e+00</td>\n",
       "      <td>0.000000e+00</td>\n",
       "      <td>0.000000e+00</td>\n",
       "      <td>0.000000e+00</td>\n",
       "      <td>...</td>\n",
       "      <td>4.350315e+05</td>\n",
       "      <td>2.164440e+05</td>\n",
       "      <td>4.624655e+05</td>\n",
       "      <td>4.003010e+05</td>\n",
       "      <td>2.725220e+05</td>\n",
       "      <td>1.663465e+05</td>\n",
       "      <td>1.367255e+05</td>\n",
       "      <td>1.934000e+03</td>\n",
       "      <td>0.000000</td>\n",
       "      <td>0.000000</td>\n",
       "    </tr>\n",
       "    <tr>\n",
       "      <th>max</th>\n",
       "      <td>2.746564e+06</td>\n",
       "      <td>204.000000</td>\n",
       "      <td>2.130707e+09</td>\n",
       "      <td>8.584298e+09</td>\n",
       "      <td>21050.000000</td>\n",
       "      <td>20070.000000</td>\n",
       "      <td>3.376892e+06</td>\n",
       "      <td>4.109372e+06</td>\n",
       "      <td>1.055286e+07</td>\n",
       "      <td>6.340207e+07</td>\n",
       "      <td>...</td>\n",
       "      <td>7.793393e+07</td>\n",
       "      <td>3.775839e+07</td>\n",
       "      <td>9.715238e+07</td>\n",
       "      <td>5.743524e+07</td>\n",
       "      <td>3.160781e+07</td>\n",
       "      <td>1.195801e+08</td>\n",
       "      <td>1.926740e+07</td>\n",
       "      <td>3.810078e+06</td>\n",
       "      <td>482.000000</td>\n",
       "      <td>1146.000000</td>\n",
       "    </tr>\n",
       "  </tbody>\n",
       "</table>\n",
       "<p>8 rows × 170 columns</p>\n",
       "</div>"
      ],
      "text/plain": [
       "             aa_000        ab_000        ac_000        ad_000        ae_000  \\\n",
       "count  6.000000e+04  60000.000000  6.000000e+04  6.000000e+04  60000.000000   \n",
       "mean   5.933650e+04      0.162500  3.362258e+08  1.434383e+05      6.535000   \n",
       "std    1.454301e+05      1.687318  7.767625e+08  3.504525e+07    158.147893   \n",
       "min    0.000000e+00      0.000000  0.000000e+00  0.000000e+00      0.000000   \n",
       "25%    8.340000e+02      0.000000  2.000000e+01  4.200000e+01      0.000000   \n",
       "50%    3.077600e+04      0.000000  1.520000e+02  1.260000e+02      0.000000   \n",
       "75%    4.866800e+04      0.000000  8.480000e+02  2.920000e+02      0.000000   \n",
       "max    2.746564e+06    204.000000  2.130707e+09  8.584298e+09  21050.000000   \n",
       "\n",
       "             af_000        ag_000        ag_001        ag_002        ag_003  \\\n",
       "count  60000.000000  6.000000e+04  6.000000e+04  6.000000e+04  6.000000e+04   \n",
       "mean      10.548200  2.191577e+02  9.648104e+02  8.509771e+03  8.760054e+04   \n",
       "std      205.387115  2.036364e+04  3.400891e+04  1.494818e+05  7.575171e+05   \n",
       "min        0.000000  0.000000e+00  0.000000e+00  0.000000e+00  0.000000e+00   \n",
       "25%        0.000000  0.000000e+00  0.000000e+00  0.000000e+00  0.000000e+00   \n",
       "50%        0.000000  0.000000e+00  0.000000e+00  0.000000e+00  0.000000e+00   \n",
       "75%        0.000000  0.000000e+00  0.000000e+00  0.000000e+00  0.000000e+00   \n",
       "max    20070.000000  3.376892e+06  4.109372e+06  1.055286e+07  6.340207e+07   \n",
       "\n",
       "       ...        ee_002        ee_003        ee_004        ee_005  \\\n",
       "count  ...  6.000000e+04  6.000000e+04  6.000000e+04  6.000000e+04   \n",
       "mean   ...  4.431223e+05  2.100188e+05  4.432268e+05  3.916653e+05   \n",
       "std    ...  1.149276e+06  5.403725e+05  1.162002e+06  1.114964e+06   \n",
       "min    ...  0.000000e+00  0.000000e+00  0.000000e+00  0.000000e+00   \n",
       "25%    ...  3.033500e+03  1.204000e+03  2.848500e+03  3.839000e+03   \n",
       "50%    ...  2.337960e+05  1.120860e+05  2.215180e+05  1.899880e+05   \n",
       "75%    ...  4.350315e+05  2.164440e+05  4.624655e+05  4.003010e+05   \n",
       "max    ...  7.793393e+07  3.775839e+07  9.715238e+07  5.743524e+07   \n",
       "\n",
       "             ee_006        ee_007        ee_008        ee_009        ef_000  \\\n",
       "count  6.000000e+04  6.000000e+04  6.000000e+04  6.000000e+04  60000.000000   \n",
       "mean   3.303672e+05  3.428586e+05  1.372212e+05  8.295099e+03      0.086467   \n",
       "std    1.063465e+06  1.718666e+06  4.472145e+05  4.721249e+04      4.268570   \n",
       "min    0.000000e+00  0.000000e+00  0.000000e+00  0.000000e+00      0.000000   \n",
       "25%    5.600000e+02  1.180000e+02  0.000000e+00  0.000000e+00      0.000000   \n",
       "50%    9.243200e+04  4.109800e+04  3.812000e+03  0.000000e+00      0.000000   \n",
       "75%    2.725220e+05  1.663465e+05  1.367255e+05  1.934000e+03      0.000000   \n",
       "max    3.160781e+07  1.195801e+08  1.926740e+07  3.810078e+06    482.000000   \n",
       "\n",
       "             eg_000  \n",
       "count  60000.000000  \n",
       "mean       0.203100  \n",
       "std        8.628043  \n",
       "min        0.000000  \n",
       "25%        0.000000  \n",
       "50%        0.000000  \n",
       "75%        0.000000  \n",
       "max     1146.000000  \n",
       "\n",
       "[8 rows x 170 columns]"
      ]
     },
     "execution_count": 26,
     "metadata": {},
     "output_type": "execute_result"
    }
   ],
   "source": [
    "df2.describe()"
   ]
  },
  {
   "cell_type": "code",
   "execution_count": 27,
   "id": "b80d2f89",
   "metadata": {},
   "outputs": [
    {
     "data": {
      "text/plain": [
       "(60000, 171)"
      ]
     },
     "execution_count": 27,
     "metadata": {},
     "output_type": "execute_result"
    }
   ],
   "source": [
    "df2.shape"
   ]
  },
  {
   "cell_type": "markdown",
   "id": "026273c2",
   "metadata": {},
   "source": [
    "### Inputing data with interpolation values"
   ]
  },
  {
   "cell_type": "markdown",
   "id": "bc0fbfd4",
   "metadata": {},
   "source": [
    "After replacing the missing values with the median of each variable, there were no more null or missing values, but the variables remained skewed.\n",
    "However, variables like 'ab_000' and 'ef_000' have shown values so far from the original dataset, meaning that the input with median was less effective than I imagined.  \n",
    "In this case, it will be necessary to use **Interpolation**, which performs linear Interpolation on missing data points."
   ]
  },
  {
   "cell_type": "code",
   "execution_count": 28,
   "id": "83b1dd50",
   "metadata": {},
   "outputs": [
    {
     "data": {
      "text/plain": [
       "(60000, 171)"
      ]
     },
     "execution_count": 28,
     "metadata": {},
     "output_type": "execute_result"
    }
   ],
   "source": [
    "df.shape"
   ]
  },
  {
   "cell_type": "code",
   "execution_count": 29,
   "id": "71f75778",
   "metadata": {},
   "outputs": [],
   "source": [
    "df3 = df.interpolate(method=\"linear\", direction=\"forward\")"
   ]
  },
  {
   "cell_type": "code",
   "execution_count": 30,
   "id": "5cf2eacb",
   "metadata": {},
   "outputs": [
    {
     "data": {
      "text/html": [
       "<div>\n",
       "<style scoped>\n",
       "    .dataframe tbody tr th:only-of-type {\n",
       "        vertical-align: middle;\n",
       "    }\n",
       "\n",
       "    .dataframe tbody tr th {\n",
       "        vertical-align: top;\n",
       "    }\n",
       "\n",
       "    .dataframe thead th {\n",
       "        text-align: right;\n",
       "    }\n",
       "</style>\n",
       "<table border=\"1\" class=\"dataframe\">\n",
       "  <thead>\n",
       "    <tr style=\"text-align: right;\">\n",
       "      <th></th>\n",
       "      <th>aa_000</th>\n",
       "      <th>ab_000</th>\n",
       "      <th>ac_000</th>\n",
       "      <th>ad_000</th>\n",
       "      <th>ae_000</th>\n",
       "      <th>af_000</th>\n",
       "      <th>ag_000</th>\n",
       "      <th>ag_001</th>\n",
       "      <th>ag_002</th>\n",
       "      <th>ag_003</th>\n",
       "      <th>...</th>\n",
       "      <th>ee_002</th>\n",
       "      <th>ee_003</th>\n",
       "      <th>ee_004</th>\n",
       "      <th>ee_005</th>\n",
       "      <th>ee_006</th>\n",
       "      <th>ee_007</th>\n",
       "      <th>ee_008</th>\n",
       "      <th>ee_009</th>\n",
       "      <th>ef_000</th>\n",
       "      <th>eg_000</th>\n",
       "    </tr>\n",
       "  </thead>\n",
       "  <tbody>\n",
       "    <tr>\n",
       "      <th>count</th>\n",
       "      <td>6.000000e+04</td>\n",
       "      <td>59997.000000</td>\n",
       "      <td>6.000000e+04</td>\n",
       "      <td>6.000000e+04</td>\n",
       "      <td>60000.000000</td>\n",
       "      <td>60000.000000</td>\n",
       "      <td>6.000000e+04</td>\n",
       "      <td>6.000000e+04</td>\n",
       "      <td>6.000000e+04</td>\n",
       "      <td>6.000000e+04</td>\n",
       "      <td>...</td>\n",
       "      <td>6.000000e+04</td>\n",
       "      <td>6.000000e+04</td>\n",
       "      <td>6.000000e+04</td>\n",
       "      <td>6.000000e+04</td>\n",
       "      <td>6.000000e+04</td>\n",
       "      <td>6.000000e+04</td>\n",
       "      <td>6.000000e+04</td>\n",
       "      <td>6.000000e+04</td>\n",
       "      <td>60000.000000</td>\n",
       "      <td>60000.000000</td>\n",
       "    </tr>\n",
       "    <tr>\n",
       "      <th>mean</th>\n",
       "      <td>5.933650e+04</td>\n",
       "      <td>0.701035</td>\n",
       "      <td>3.565030e+08</td>\n",
       "      <td>1.435263e+05</td>\n",
       "      <td>6.886533</td>\n",
       "      <td>11.100517</td>\n",
       "      <td>2.203502e+02</td>\n",
       "      <td>9.691852e+02</td>\n",
       "      <td>8.571722e+03</td>\n",
       "      <td>8.844413e+04</td>\n",
       "      <td>...</td>\n",
       "      <td>4.453309e+05</td>\n",
       "      <td>2.110075e+05</td>\n",
       "      <td>4.454135e+05</td>\n",
       "      <td>3.935807e+05</td>\n",
       "      <td>3.327470e+05</td>\n",
       "      <td>3.455027e+05</td>\n",
       "      <td>1.386618e+05</td>\n",
       "      <td>8.386621e+03</td>\n",
       "      <td>0.090400</td>\n",
       "      <td>0.211217</td>\n",
       "    </tr>\n",
       "    <tr>\n",
       "      <th>std</th>\n",
       "      <td>1.454301e+05</td>\n",
       "      <td>2.650264</td>\n",
       "      <td>7.837943e+08</td>\n",
       "      <td>3.504525e+07</td>\n",
       "      <td>160.644593</td>\n",
       "      <td>208.515341</td>\n",
       "      <td>2.036531e+04</td>\n",
       "      <td>3.401127e+04</td>\n",
       "      <td>1.495479e+05</td>\n",
       "      <td>7.589686e+05</td>\n",
       "      <td>...</td>\n",
       "      <td>1.152805e+06</td>\n",
       "      <td>5.421643e+05</td>\n",
       "      <td>1.164657e+06</td>\n",
       "      <td>1.116694e+06</td>\n",
       "      <td>1.065782e+06</td>\n",
       "      <td>1.720842e+06</td>\n",
       "      <td>4.487702e+05</td>\n",
       "      <td>4.736593e+04</td>\n",
       "      <td>4.321733</td>\n",
       "      <td>8.660519</td>\n",
       "    </tr>\n",
       "    <tr>\n",
       "      <th>min</th>\n",
       "      <td>0.000000e+00</td>\n",
       "      <td>0.000000</td>\n",
       "      <td>0.000000e+00</td>\n",
       "      <td>0.000000e+00</td>\n",
       "      <td>0.000000</td>\n",
       "      <td>0.000000</td>\n",
       "      <td>0.000000e+00</td>\n",
       "      <td>0.000000e+00</td>\n",
       "      <td>0.000000e+00</td>\n",
       "      <td>0.000000e+00</td>\n",
       "      <td>...</td>\n",
       "      <td>0.000000e+00</td>\n",
       "      <td>0.000000e+00</td>\n",
       "      <td>0.000000e+00</td>\n",
       "      <td>0.000000e+00</td>\n",
       "      <td>0.000000e+00</td>\n",
       "      <td>0.000000e+00</td>\n",
       "      <td>0.000000e+00</td>\n",
       "      <td>0.000000e+00</td>\n",
       "      <td>0.000000</td>\n",
       "      <td>0.000000</td>\n",
       "    </tr>\n",
       "    <tr>\n",
       "      <th>25%</th>\n",
       "      <td>8.340000e+02</td>\n",
       "      <td>0.000000</td>\n",
       "      <td>1.800000e+01</td>\n",
       "      <td>3.200000e+01</td>\n",
       "      <td>0.000000</td>\n",
       "      <td>0.000000</td>\n",
       "      <td>0.000000e+00</td>\n",
       "      <td>0.000000e+00</td>\n",
       "      <td>0.000000e+00</td>\n",
       "      <td>0.000000e+00</td>\n",
       "      <td>...</td>\n",
       "      <td>2.992000e+03</td>\n",
       "      <td>1.192000e+03</td>\n",
       "      <td>2.790000e+03</td>\n",
       "      <td>3.751500e+03</td>\n",
       "      <td>5.420000e+02</td>\n",
       "      <td>1.160000e+02</td>\n",
       "      <td>0.000000e+00</td>\n",
       "      <td>0.000000e+00</td>\n",
       "      <td>0.000000</td>\n",
       "      <td>0.000000</td>\n",
       "    </tr>\n",
       "    <tr>\n",
       "      <th>50%</th>\n",
       "      <td>3.077600e+04</td>\n",
       "      <td>0.000000</td>\n",
       "      <td>1.620000e+02</td>\n",
       "      <td>1.500000e+02</td>\n",
       "      <td>0.000000</td>\n",
       "      <td>0.000000</td>\n",
       "      <td>0.000000e+00</td>\n",
       "      <td>0.000000e+00</td>\n",
       "      <td>0.000000e+00</td>\n",
       "      <td>0.000000e+00</td>\n",
       "      <td>...</td>\n",
       "      <td>2.341870e+05</td>\n",
       "      <td>1.122220e+05</td>\n",
       "      <td>2.219390e+05</td>\n",
       "      <td>1.906900e+05</td>\n",
       "      <td>9.407350e+04</td>\n",
       "      <td>4.185700e+04</td>\n",
       "      <td>4.129000e+03</td>\n",
       "      <td>0.000000e+00</td>\n",
       "      <td>0.000000</td>\n",
       "      <td>0.000000</td>\n",
       "    </tr>\n",
       "    <tr>\n",
       "      <th>75%</th>\n",
       "      <td>4.866800e+04</td>\n",
       "      <td>0.800000</td>\n",
       "      <td>1.042000e+03</td>\n",
       "      <td>4.460000e+02</td>\n",
       "      <td>0.000000</td>\n",
       "      <td>0.000000</td>\n",
       "      <td>0.000000e+00</td>\n",
       "      <td>0.000000e+00</td>\n",
       "      <td>0.000000e+00</td>\n",
       "      <td>0.000000e+00</td>\n",
       "      <td>...</td>\n",
       "      <td>4.386280e+05</td>\n",
       "      <td>2.183070e+05</td>\n",
       "      <td>4.666820e+05</td>\n",
       "      <td>4.031165e+05</td>\n",
       "      <td>2.749965e+05</td>\n",
       "      <td>1.676955e+05</td>\n",
       "      <td>1.397620e+05</td>\n",
       "      <td>2.062500e+03</td>\n",
       "      <td>0.000000</td>\n",
       "      <td>0.000000</td>\n",
       "    </tr>\n",
       "    <tr>\n",
       "      <th>max</th>\n",
       "      <td>2.746564e+06</td>\n",
       "      <td>204.000000</td>\n",
       "      <td>2.130707e+09</td>\n",
       "      <td>8.584298e+09</td>\n",
       "      <td>21050.000000</td>\n",
       "      <td>20070.000000</td>\n",
       "      <td>3.376892e+06</td>\n",
       "      <td>4.109372e+06</td>\n",
       "      <td>1.055286e+07</td>\n",
       "      <td>6.340207e+07</td>\n",
       "      <td>...</td>\n",
       "      <td>7.793393e+07</td>\n",
       "      <td>3.775839e+07</td>\n",
       "      <td>9.715238e+07</td>\n",
       "      <td>5.743524e+07</td>\n",
       "      <td>3.160781e+07</td>\n",
       "      <td>1.195801e+08</td>\n",
       "      <td>1.926740e+07</td>\n",
       "      <td>3.810078e+06</td>\n",
       "      <td>482.000000</td>\n",
       "      <td>1146.000000</td>\n",
       "    </tr>\n",
       "  </tbody>\n",
       "</table>\n",
       "<p>8 rows × 170 columns</p>\n",
       "</div>"
      ],
      "text/plain": [
       "             aa_000        ab_000        ac_000        ad_000        ae_000  \\\n",
       "count  6.000000e+04  59997.000000  6.000000e+04  6.000000e+04  60000.000000   \n",
       "mean   5.933650e+04      0.701035  3.565030e+08  1.435263e+05      6.886533   \n",
       "std    1.454301e+05      2.650264  7.837943e+08  3.504525e+07    160.644593   \n",
       "min    0.000000e+00      0.000000  0.000000e+00  0.000000e+00      0.000000   \n",
       "25%    8.340000e+02      0.000000  1.800000e+01  3.200000e+01      0.000000   \n",
       "50%    3.077600e+04      0.000000  1.620000e+02  1.500000e+02      0.000000   \n",
       "75%    4.866800e+04      0.800000  1.042000e+03  4.460000e+02      0.000000   \n",
       "max    2.746564e+06    204.000000  2.130707e+09  8.584298e+09  21050.000000   \n",
       "\n",
       "             af_000        ag_000        ag_001        ag_002        ag_003  \\\n",
       "count  60000.000000  6.000000e+04  6.000000e+04  6.000000e+04  6.000000e+04   \n",
       "mean      11.100517  2.203502e+02  9.691852e+02  8.571722e+03  8.844413e+04   \n",
       "std      208.515341  2.036531e+04  3.401127e+04  1.495479e+05  7.589686e+05   \n",
       "min        0.000000  0.000000e+00  0.000000e+00  0.000000e+00  0.000000e+00   \n",
       "25%        0.000000  0.000000e+00  0.000000e+00  0.000000e+00  0.000000e+00   \n",
       "50%        0.000000  0.000000e+00  0.000000e+00  0.000000e+00  0.000000e+00   \n",
       "75%        0.000000  0.000000e+00  0.000000e+00  0.000000e+00  0.000000e+00   \n",
       "max    20070.000000  3.376892e+06  4.109372e+06  1.055286e+07  6.340207e+07   \n",
       "\n",
       "       ...        ee_002        ee_003        ee_004        ee_005  \\\n",
       "count  ...  6.000000e+04  6.000000e+04  6.000000e+04  6.000000e+04   \n",
       "mean   ...  4.453309e+05  2.110075e+05  4.454135e+05  3.935807e+05   \n",
       "std    ...  1.152805e+06  5.421643e+05  1.164657e+06  1.116694e+06   \n",
       "min    ...  0.000000e+00  0.000000e+00  0.000000e+00  0.000000e+00   \n",
       "25%    ...  2.992000e+03  1.192000e+03  2.790000e+03  3.751500e+03   \n",
       "50%    ...  2.341870e+05  1.122220e+05  2.219390e+05  1.906900e+05   \n",
       "75%    ...  4.386280e+05  2.183070e+05  4.666820e+05  4.031165e+05   \n",
       "max    ...  7.793393e+07  3.775839e+07  9.715238e+07  5.743524e+07   \n",
       "\n",
       "             ee_006        ee_007        ee_008        ee_009        ef_000  \\\n",
       "count  6.000000e+04  6.000000e+04  6.000000e+04  6.000000e+04  60000.000000   \n",
       "mean   3.327470e+05  3.455027e+05  1.386618e+05  8.386621e+03      0.090400   \n",
       "std    1.065782e+06  1.720842e+06  4.487702e+05  4.736593e+04      4.321733   \n",
       "min    0.000000e+00  0.000000e+00  0.000000e+00  0.000000e+00      0.000000   \n",
       "25%    5.420000e+02  1.160000e+02  0.000000e+00  0.000000e+00      0.000000   \n",
       "50%    9.407350e+04  4.185700e+04  4.129000e+03  0.000000e+00      0.000000   \n",
       "75%    2.749965e+05  1.676955e+05  1.397620e+05  2.062500e+03      0.000000   \n",
       "max    3.160781e+07  1.195801e+08  1.926740e+07  3.810078e+06    482.000000   \n",
       "\n",
       "             eg_000  \n",
       "count  60000.000000  \n",
       "mean       0.211217  \n",
       "std        8.660519  \n",
       "min        0.000000  \n",
       "25%        0.000000  \n",
       "50%        0.000000  \n",
       "75%        0.000000  \n",
       "max     1146.000000  \n",
       "\n",
       "[8 rows x 170 columns]"
      ]
     },
     "execution_count": 30,
     "metadata": {},
     "output_type": "execute_result"
    }
   ],
   "source": [
    "df3.describe()"
   ]
  },
  {
   "cell_type": "code",
   "execution_count": 31,
   "id": "ddd80dbd",
   "metadata": {},
   "outputs": [
    {
     "data": {
      "text/plain": [
       "class     0\n",
       "aa_000    0\n",
       "ab_000    3\n",
       "ac_000    0\n",
       "ad_000    0\n",
       "         ..\n",
       "ee_007    0\n",
       "ee_008    0\n",
       "ee_009    0\n",
       "ef_000    0\n",
       "eg_000    0\n",
       "Length: 171, dtype: int64"
      ]
     },
     "execution_count": 31,
     "metadata": {},
     "output_type": "execute_result"
    }
   ],
   "source": [
    "df3.isnull().sum()"
   ]
  },
  {
   "cell_type": "markdown",
   "id": "0fe7fad7",
   "metadata": {},
   "source": [
    "When I compare the descriptive parameters between the original dataset (df) and the dataset with interpolation values (df3), I see that these parameters are still similar, but with the advantage that the missing values are only present in a few rows.\n",
    "Now, I will drop these values without losing the integrity of the dataset.\n",
    "Below, you can see that I only removed 13 rows, less than 0.1% of the total amount of the dataset, which is insignificant."
   ]
  },
  {
   "cell_type": "code",
   "execution_count": 32,
   "id": "9a55d7c1",
   "metadata": {},
   "outputs": [],
   "source": [
    "df4 = df3.dropna(axis=0)"
   ]
  },
  {
   "cell_type": "code",
   "execution_count": 33,
   "id": "3efab761",
   "metadata": {},
   "outputs": [
    {
     "data": {
      "text/plain": [
       "class     0\n",
       "aa_000    0\n",
       "ab_000    0\n",
       "ac_000    0\n",
       "ad_000    0\n",
       "         ..\n",
       "ee_007    0\n",
       "ee_008    0\n",
       "ee_009    0\n",
       "ef_000    0\n",
       "eg_000    0\n",
       "Length: 171, dtype: int64"
      ]
     },
     "execution_count": 33,
     "metadata": {},
     "output_type": "execute_result"
    }
   ],
   "source": [
    "df4.isnull().sum()"
   ]
  },
  {
   "cell_type": "code",
   "execution_count": 34,
   "id": "f4646d41",
   "metadata": {},
   "outputs": [
    {
     "data": {
      "text/plain": [
       "(59987, 171)"
      ]
     },
     "execution_count": 34,
     "metadata": {},
     "output_type": "execute_result"
    }
   ],
   "source": [
    "df4.shape"
   ]
  },
  {
   "cell_type": "markdown",
   "id": "d00de595",
   "metadata": {},
   "source": [
    "I will use the duplicated() method to eliminate records that may be duplicated. However in this dataset there is no duplicates as we can see below."
   ]
  },
  {
   "cell_type": "code",
   "execution_count": 35,
   "id": "fe735d49",
   "metadata": {},
   "outputs": [
    {
     "data": {
      "text/plain": [
       "0"
      ]
     },
     "execution_count": 35,
     "metadata": {},
     "output_type": "execute_result"
    }
   ],
   "source": [
    "df4.duplicated().sum()"
   ]
  },
  {
   "cell_type": "markdown",
   "id": "de975e1b",
   "metadata": {},
   "source": [
    "I used the value_counts() method to find out how many observations we have in each of these classes, positive and negative.\n",
    "As we can see, we have 999 records for positive class, meaning that occurrences are related to a failure in components specifics of the APS system. In contrast, the remainder, 58988 records (negative), means that the truck's failure in components is unrelated to the APS system. In other words, approximately 98% of the component failures are not due to the APS system."
   ]
  },
  {
   "cell_type": "code",
   "execution_count": 36,
   "id": "284de2d3",
   "metadata": {},
   "outputs": [
    {
     "data": {
      "text/plain": [
       "neg    58988\n",
       "pos      999\n",
       "Name: class, dtype: int64"
      ]
     },
     "execution_count": 36,
     "metadata": {},
     "output_type": "execute_result"
    }
   ],
   "source": [
    "df4[\"class\"].value_counts()"
   ]
  },
  {
   "cell_type": "markdown",
   "id": "3f30bdd1",
   "metadata": {},
   "source": [
    "I will import the Seaborn data visualization library to make the histogram; thus, that difference will be visualized."
   ]
  },
  {
   "cell_type": "code",
   "execution_count": 38,
   "id": "64b08233",
   "metadata": {
    "scrolled": false
   },
   "outputs": [
    {
     "data": {
      "text/plain": [
       "<Axes: xlabel='class', ylabel='Count'>"
      ]
     },
     "execution_count": 38,
     "metadata": {},
     "output_type": "execute_result"
    },
    {
     "data": {
      "image/png": "[encoded data removed]",
      "text/plain": [
       "<Figure size 640x480 with 1 Axes>"
      ]
     },
     "metadata": {},
     "output_type": "display_data"
    }
   ],
   "source": [
    "sns.histplot(data=df4, x=\"class\")"
   ]
  },
  {
   "cell_type": "markdown",
   "id": "fe11d042",
   "metadata": {},
   "source": [
    "### Focusing on Positive Class"
   ]
  },
  {
   "cell_type": "markdown",
   "id": "cee1c478",
   "metadata": {},
   "source": [
    "Considering that the company wants to know about the specific component failures related to the APS system, I need to focus the analysis in this class ('pos'), which is around 2% of the total dataset.\n",
    "To proceed, I will create a subset of the dataset (df4) that only contains data of the positive class.\n",
    "Below, the methods \"shape and unique\" certify that the subset contains exclusively the positive class."
   ]
  },
  {
   "cell_type": "code",
   "execution_count": 39,
   "id": "fca71657",
   "metadata": {
    "collapsed": true
   },
   "outputs": [
    {
     "name": "stdout",
     "output_type": "stream",
     "text": [
      "      class   aa_000    ab_000        ac_000       ad_000  ae_000  af_000  \\\n",
      "23      pos   453236  0.000000  2.926000e+03  1420.000000     0.0     0.0   \n",
      "60      pos    72504  0.000000  1.594000e+03  1052.000000     0.0     0.0   \n",
      "115     pos   762958  0.000000  1.065353e+09    98.000000     0.0     0.0   \n",
      "135     pos   695994  1.000000  1.300000e+01    12.000000     0.0     0.0   \n",
      "156     pos  1056758  0.000000  4.232800e+04   856.000000     0.0     0.0   \n",
      "...     ...      ...       ...           ...          ...     ...     ...   \n",
      "59484   pos   895178  0.000000  1.065353e+09    19.000000     0.0     0.0   \n",
      "59601   pos   862134  3.384615  1.840000e+02   420.000000     0.0     0.0   \n",
      "59692   pos   186856  0.000000  1.065353e+09   982.666667     0.0     0.0   \n",
      "59742   pos   605092  1.818182  1.420471e+09    28.666667     0.0     0.0   \n",
      "59769   pos   331704  0.000000  1.484000e+03  1142.000000     0.0     0.0   \n",
      "\n",
      "       ag_000    ag_001     ag_002  ...     ee_002     ee_003     ee_004  \\\n",
      "23        0.0       0.0      222.0  ...  7908038.0  3026002.0  5025350.0   \n",
      "60        0.0     244.0   178226.0  ...  1432098.0   372252.0   527514.0   \n",
      "115     776.0  281128.0  2186308.0  ...   179282.0    85194.0   192889.0   \n",
      "135       0.0       0.0        0.0  ...  1397742.0   495544.0   361646.0   \n",
      "156       0.0   50394.0   184552.0  ...  1450086.0   713608.0  1750894.0   \n",
      "...       ...       ...        ...  ...        ...        ...        ...   \n",
      "59484     0.0       0.0        0.0  ...  9116224.0  4276644.0  8701496.0   \n",
      "59601     0.0   38834.0  1227952.0  ...  3456564.0  1793170.0  4159190.0   \n",
      "59692     0.0       0.0     4300.0  ...  2713108.0   800182.0   322322.0   \n",
      "59742     0.0   44320.0  1048970.0  ...  3940400.0  1865730.0  3698692.0   \n",
      "59769     0.0  267100.0  1384372.0  ...  3738648.0  1425312.0  3381954.0   \n",
      "\n",
      "          ee_005     ee_006      ee_007     ee_008   ee_009  ef_000  eg_000  \n",
      "23     2025766.0  1160638.0    533834.0   493800.0   6914.0     0.0     0.0  \n",
      "60      358274.0   332818.0    284178.0     3742.0      0.0     0.0     0.0  \n",
      "115     209641.0   115781.0     63662.0    86572.0   7663.0     0.0     0.0  \n",
      "135      28610.0     5130.0       212.0        0.0      0.0     0.0     0.0  \n",
      "156    4054554.0  4096660.0   2295880.0   220478.0    482.0     0.0     0.0  \n",
      "...          ...        ...         ...        ...      ...     ...     ...  \n",
      "59484  8082264.0  5827284.0   2057354.0  1662302.0  10790.0     0.0     0.0  \n",
      "59601  5847384.0  8364506.0  12875424.0   661442.0   2458.0     0.0     0.0  \n",
      "59692    71638.0    34662.0      7304.0     2538.0      0.0     0.0     0.0  \n",
      "59742  3271958.0  9831898.0   3755392.0    65610.0      0.0     0.0     0.0  \n",
      "59769  4346910.0  2166330.0    296580.0    15434.0      0.0     0.0     0.0  \n",
      "\n",
      "[999 rows x 171 columns]\n"
     ]
    }
   ],
   "source": [
    "by_category = df4.groupby('class')\n",
    "subset = by_category.get_group('pos')\n",
    "print(subset)"
   ]
  },
  {
   "cell_type": "markdown",
   "id": "7e647b5f",
   "metadata": {},
   "source": [
    "Using the code below, the 'pos' class will be represented by the number 1. It is important because PCA and machine learning models handle numbers; otherwise, this feature will not be recognised. "
   ]
  },
  {
   "cell_type": "code",
   "execution_count": 40,
   "id": "0b8715c7",
   "metadata": {
    "collapsed": true
   },
   "outputs": [
    {
     "name": "stdout",
     "output_type": "stream",
     "text": [
      "23       1\n",
      "60       1\n",
      "115      1\n",
      "135      1\n",
      "156      1\n",
      "        ..\n",
      "59484    1\n",
      "59601    1\n",
      "59692    1\n",
      "59742    1\n",
      "59769    1\n",
      "Name: class, Length: 999, dtype: int64\n"
     ]
    },
    {
     "name": "stderr",
     "output_type": "stream",
     "text": [
      "C:\\Users\\danie\\AppData\\Local\\Temp\\ipykernel_48364\\2464997387.py:1: SettingWithCopyWarning: \n",
      "A value is trying to be set on a copy of a slice from a DataFrame\n",
      "\n",
      "See the caveats in the documentation: https://pandas.pydata.org/pandas-docs/stable/user_guide/indexing.html#returning-a-view-versus-a-copy\n",
      "  subset['class'].replace('pos', 1, inplace = True)\n"
     ]
    }
   ],
   "source": [
    "subset['class'].replace('pos', 1, inplace = True)\n",
    "print(subset['class'])"
   ]
  },
  {
   "cell_type": "code",
   "execution_count": 41,
   "id": "837bc23d",
   "metadata": {},
   "outputs": [
    {
     "data": {
      "text/plain": [
       "(999, 171)"
      ]
     },
     "execution_count": 41,
     "metadata": {},
     "output_type": "execute_result"
    }
   ],
   "source": [
    "subset.shape"
   ]
  },
  {
   "cell_type": "code",
   "execution_count": 42,
   "id": "e68153c8",
   "metadata": {},
   "outputs": [
    {
     "data": {
      "text/plain": [
       "array([1], dtype=int64)"
      ]
     },
     "execution_count": 42,
     "metadata": {},
     "output_type": "execute_result"
    }
   ],
   "source": [
    "subset[\"class\"].unique()"
   ]
  },
  {
   "cell_type": "code",
   "execution_count": 43,
   "id": "ab5ddd00",
   "metadata": {},
   "outputs": [
    {
     "data": {
      "text/html": [
       "<div>\n",
       "<style scoped>\n",
       "    .dataframe tbody tr th:only-of-type {\n",
       "        vertical-align: middle;\n",
       "    }\n",
       "\n",
       "    .dataframe tbody tr th {\n",
       "        vertical-align: top;\n",
       "    }\n",
       "\n",
       "    .dataframe thead th {\n",
       "        text-align: right;\n",
       "    }\n",
       "</style>\n",
       "<table border=\"1\" class=\"dataframe\">\n",
       "  <thead>\n",
       "    <tr style=\"text-align: right;\">\n",
       "      <th></th>\n",
       "      <th>class</th>\n",
       "      <th>aa_000</th>\n",
       "      <th>ab_000</th>\n",
       "      <th>ac_000</th>\n",
       "      <th>ad_000</th>\n",
       "      <th>ae_000</th>\n",
       "      <th>af_000</th>\n",
       "      <th>ag_000</th>\n",
       "      <th>ag_001</th>\n",
       "      <th>ag_002</th>\n",
       "      <th>...</th>\n",
       "      <th>ee_002</th>\n",
       "      <th>ee_003</th>\n",
       "      <th>ee_004</th>\n",
       "      <th>ee_005</th>\n",
       "      <th>ee_006</th>\n",
       "      <th>ee_007</th>\n",
       "      <th>ee_008</th>\n",
       "      <th>ee_009</th>\n",
       "      <th>ef_000</th>\n",
       "      <th>eg_000</th>\n",
       "    </tr>\n",
       "  </thead>\n",
       "  <tbody>\n",
       "    <tr>\n",
       "      <th>23</th>\n",
       "      <td>1</td>\n",
       "      <td>453236</td>\n",
       "      <td>0.0</td>\n",
       "      <td>2.926000e+03</td>\n",
       "      <td>1420.0</td>\n",
       "      <td>0.0</td>\n",
       "      <td>0.0</td>\n",
       "      <td>0.0</td>\n",
       "      <td>0.0</td>\n",
       "      <td>222.0</td>\n",
       "      <td>...</td>\n",
       "      <td>7908038.0</td>\n",
       "      <td>3026002.0</td>\n",
       "      <td>5025350.0</td>\n",
       "      <td>2025766.0</td>\n",
       "      <td>1160638.0</td>\n",
       "      <td>533834.0</td>\n",
       "      <td>493800.0</td>\n",
       "      <td>6914.0</td>\n",
       "      <td>0.0</td>\n",
       "      <td>0.0</td>\n",
       "    </tr>\n",
       "    <tr>\n",
       "      <th>60</th>\n",
       "      <td>1</td>\n",
       "      <td>72504</td>\n",
       "      <td>0.0</td>\n",
       "      <td>1.594000e+03</td>\n",
       "      <td>1052.0</td>\n",
       "      <td>0.0</td>\n",
       "      <td>0.0</td>\n",
       "      <td>0.0</td>\n",
       "      <td>244.0</td>\n",
       "      <td>178226.0</td>\n",
       "      <td>...</td>\n",
       "      <td>1432098.0</td>\n",
       "      <td>372252.0</td>\n",
       "      <td>527514.0</td>\n",
       "      <td>358274.0</td>\n",
       "      <td>332818.0</td>\n",
       "      <td>284178.0</td>\n",
       "      <td>3742.0</td>\n",
       "      <td>0.0</td>\n",
       "      <td>0.0</td>\n",
       "      <td>0.0</td>\n",
       "    </tr>\n",
       "    <tr>\n",
       "      <th>115</th>\n",
       "      <td>1</td>\n",
       "      <td>762958</td>\n",
       "      <td>0.0</td>\n",
       "      <td>1.065353e+09</td>\n",
       "      <td>98.0</td>\n",
       "      <td>0.0</td>\n",
       "      <td>0.0</td>\n",
       "      <td>776.0</td>\n",
       "      <td>281128.0</td>\n",
       "      <td>2186308.0</td>\n",
       "      <td>...</td>\n",
       "      <td>179282.0</td>\n",
       "      <td>85194.0</td>\n",
       "      <td>192889.0</td>\n",
       "      <td>209641.0</td>\n",
       "      <td>115781.0</td>\n",
       "      <td>63662.0</td>\n",
       "      <td>86572.0</td>\n",
       "      <td>7663.0</td>\n",
       "      <td>0.0</td>\n",
       "      <td>0.0</td>\n",
       "    </tr>\n",
       "    <tr>\n",
       "      <th>135</th>\n",
       "      <td>1</td>\n",
       "      <td>695994</td>\n",
       "      <td>1.0</td>\n",
       "      <td>1.300000e+01</td>\n",
       "      <td>12.0</td>\n",
       "      <td>0.0</td>\n",
       "      <td>0.0</td>\n",
       "      <td>0.0</td>\n",
       "      <td>0.0</td>\n",
       "      <td>0.0</td>\n",
       "      <td>...</td>\n",
       "      <td>1397742.0</td>\n",
       "      <td>495544.0</td>\n",
       "      <td>361646.0</td>\n",
       "      <td>28610.0</td>\n",
       "      <td>5130.0</td>\n",
       "      <td>212.0</td>\n",
       "      <td>0.0</td>\n",
       "      <td>0.0</td>\n",
       "      <td>0.0</td>\n",
       "      <td>0.0</td>\n",
       "    </tr>\n",
       "    <tr>\n",
       "      <th>156</th>\n",
       "      <td>1</td>\n",
       "      <td>1056758</td>\n",
       "      <td>0.0</td>\n",
       "      <td>4.232800e+04</td>\n",
       "      <td>856.0</td>\n",
       "      <td>0.0</td>\n",
       "      <td>0.0</td>\n",
       "      <td>0.0</td>\n",
       "      <td>50394.0</td>\n",
       "      <td>184552.0</td>\n",
       "      <td>...</td>\n",
       "      <td>1450086.0</td>\n",
       "      <td>713608.0</td>\n",
       "      <td>1750894.0</td>\n",
       "      <td>4054554.0</td>\n",
       "      <td>4096660.0</td>\n",
       "      <td>2295880.0</td>\n",
       "      <td>220478.0</td>\n",
       "      <td>482.0</td>\n",
       "      <td>0.0</td>\n",
       "      <td>0.0</td>\n",
       "    </tr>\n",
       "  </tbody>\n",
       "</table>\n",
       "<p>5 rows × 171 columns</p>\n",
       "</div>"
      ],
      "text/plain": [
       "     class   aa_000  ab_000        ac_000  ad_000  ae_000  af_000  ag_000  \\\n",
       "23       1   453236     0.0  2.926000e+03  1420.0     0.0     0.0     0.0   \n",
       "60       1    72504     0.0  1.594000e+03  1052.0     0.0     0.0     0.0   \n",
       "115      1   762958     0.0  1.065353e+09    98.0     0.0     0.0   776.0   \n",
       "135      1   695994     1.0  1.300000e+01    12.0     0.0     0.0     0.0   \n",
       "156      1  1056758     0.0  4.232800e+04   856.0     0.0     0.0     0.0   \n",
       "\n",
       "       ag_001     ag_002  ...     ee_002     ee_003     ee_004     ee_005  \\\n",
       "23        0.0      222.0  ...  7908038.0  3026002.0  5025350.0  2025766.0   \n",
       "60      244.0   178226.0  ...  1432098.0   372252.0   527514.0   358274.0   \n",
       "115  281128.0  2186308.0  ...   179282.0    85194.0   192889.0   209641.0   \n",
       "135       0.0        0.0  ...  1397742.0   495544.0   361646.0    28610.0   \n",
       "156   50394.0   184552.0  ...  1450086.0   713608.0  1750894.0  4054554.0   \n",
       "\n",
       "        ee_006     ee_007    ee_008  ee_009  ef_000  eg_000  \n",
       "23   1160638.0   533834.0  493800.0  6914.0     0.0     0.0  \n",
       "60    332818.0   284178.0    3742.0     0.0     0.0     0.0  \n",
       "115   115781.0    63662.0   86572.0  7663.0     0.0     0.0  \n",
       "135     5130.0      212.0       0.0     0.0     0.0     0.0  \n",
       "156  4096660.0  2295880.0  220478.0   482.0     0.0     0.0  \n",
       "\n",
       "[5 rows x 171 columns]"
      ]
     },
     "execution_count": 43,
     "metadata": {},
     "output_type": "execute_result"
    }
   ],
   "source": [
    "subset.head()"
   ]
  },
  {
   "cell_type": "code",
   "execution_count": 44,
   "id": "62b6921e",
   "metadata": {},
   "outputs": [
    {
     "data": {
      "text/html": [
       "<div>\n",
       "<style scoped>\n",
       "    .dataframe tbody tr th:only-of-type {\n",
       "        vertical-align: middle;\n",
       "    }\n",
       "\n",
       "    .dataframe tbody tr th {\n",
       "        vertical-align: top;\n",
       "    }\n",
       "\n",
       "    .dataframe thead th {\n",
       "        text-align: right;\n",
       "    }\n",
       "</style>\n",
       "<table border=\"1\" class=\"dataframe\">\n",
       "  <thead>\n",
       "    <tr style=\"text-align: right;\">\n",
       "      <th></th>\n",
       "      <th>class</th>\n",
       "      <th>aa_000</th>\n",
       "      <th>ab_000</th>\n",
       "      <th>ac_000</th>\n",
       "      <th>ad_000</th>\n",
       "      <th>ae_000</th>\n",
       "      <th>af_000</th>\n",
       "      <th>ag_000</th>\n",
       "      <th>ag_001</th>\n",
       "      <th>ag_002</th>\n",
       "      <th>...</th>\n",
       "      <th>ee_002</th>\n",
       "      <th>ee_003</th>\n",
       "      <th>ee_004</th>\n",
       "      <th>ee_005</th>\n",
       "      <th>ee_006</th>\n",
       "      <th>ee_007</th>\n",
       "      <th>ee_008</th>\n",
       "      <th>ee_009</th>\n",
       "      <th>ef_000</th>\n",
       "      <th>eg_000</th>\n",
       "    </tr>\n",
       "  </thead>\n",
       "  <tbody>\n",
       "    <tr>\n",
       "      <th>count</th>\n",
       "      <td>999.0</td>\n",
       "      <td>9.990000e+02</td>\n",
       "      <td>999.000000</td>\n",
       "      <td>9.990000e+02</td>\n",
       "      <td>999.000000</td>\n",
       "      <td>999.000000</td>\n",
       "      <td>999.000000</td>\n",
       "      <td>999.000000</td>\n",
       "      <td>9.990000e+02</td>\n",
       "      <td>9.990000e+02</td>\n",
       "      <td>...</td>\n",
       "      <td>9.990000e+02</td>\n",
       "      <td>9.990000e+02</td>\n",
       "      <td>9.990000e+02</td>\n",
       "      <td>9.990000e+02</td>\n",
       "      <td>9.990000e+02</td>\n",
       "      <td>9.990000e+02</td>\n",
       "      <td>9.990000e+02</td>\n",
       "      <td>9.990000e+02</td>\n",
       "      <td>999.000000</td>\n",
       "      <td>999.000000</td>\n",
       "    </tr>\n",
       "    <tr>\n",
       "      <th>mean</th>\n",
       "      <td>1.0</td>\n",
       "      <td>6.596801e+05</td>\n",
       "      <td>0.950826</td>\n",
       "      <td>1.939126e+08</td>\n",
       "      <td>1082.828462</td>\n",
       "      <td>14.934268</td>\n",
       "      <td>42.385719</td>\n",
       "      <td>2153.439439</td>\n",
       "      <td>5.093166e+04</td>\n",
       "      <td>3.992401e+05</td>\n",
       "      <td>...</td>\n",
       "      <td>4.368361e+06</td>\n",
       "      <td>1.993090e+06</td>\n",
       "      <td>4.162920e+06</td>\n",
       "      <td>4.557631e+06</td>\n",
       "      <td>3.727185e+06</td>\n",
       "      <td>2.461809e+06</td>\n",
       "      <td>9.472356e+05</td>\n",
       "      <td>5.039849e+04</td>\n",
       "      <td>0.540541</td>\n",
       "      <td>1.066066</td>\n",
       "    </tr>\n",
       "    <tr>\n",
       "      <th>std</th>\n",
       "      <td>0.0</td>\n",
       "      <td>4.343059e+05</td>\n",
       "      <td>5.408213</td>\n",
       "      <td>4.886145e+08</td>\n",
       "      <td>3428.779917</td>\n",
       "      <td>191.543154</td>\n",
       "      <td>516.616354</td>\n",
       "      <td>22211.974371</td>\n",
       "      <td>2.557236e+05</td>\n",
       "      <td>9.986194e+05</td>\n",
       "      <td>...</td>\n",
       "      <td>4.242721e+06</td>\n",
       "      <td>2.131283e+06</td>\n",
       "      <td>4.508443e+06</td>\n",
       "      <td>5.564934e+06</td>\n",
       "      <td>4.598109e+06</td>\n",
       "      <td>3.987306e+06</td>\n",
       "      <td>2.175600e+06</td>\n",
       "      <td>2.204516e+05</td>\n",
       "      <td>11.835636</td>\n",
       "      <td>20.364210</td>\n",
       "    </tr>\n",
       "    <tr>\n",
       "      <th>min</th>\n",
       "      <td>1.0</td>\n",
       "      <td>0.000000e+00</td>\n",
       "      <td>0.000000</td>\n",
       "      <td>0.000000e+00</td>\n",
       "      <td>0.000000</td>\n",
       "      <td>0.000000</td>\n",
       "      <td>0.000000</td>\n",
       "      <td>0.000000</td>\n",
       "      <td>0.000000e+00</td>\n",
       "      <td>0.000000e+00</td>\n",
       "      <td>...</td>\n",
       "      <td>0.000000e+00</td>\n",
       "      <td>0.000000e+00</td>\n",
       "      <td>0.000000e+00</td>\n",
       "      <td>0.000000e+00</td>\n",
       "      <td>0.000000e+00</td>\n",
       "      <td>0.000000e+00</td>\n",
       "      <td>0.000000e+00</td>\n",
       "      <td>0.000000e+00</td>\n",
       "      <td>0.000000</td>\n",
       "      <td>0.000000</td>\n",
       "    </tr>\n",
       "    <tr>\n",
       "      <th>25%</th>\n",
       "      <td>1.0</td>\n",
       "      <td>3.203520e+05</td>\n",
       "      <td>0.000000</td>\n",
       "      <td>7.800000e+01</td>\n",
       "      <td>96.733333</td>\n",
       "      <td>0.000000</td>\n",
       "      <td>0.000000</td>\n",
       "      <td>0.000000</td>\n",
       "      <td>0.000000e+00</td>\n",
       "      <td>0.000000e+00</td>\n",
       "      <td>...</td>\n",
       "      <td>1.130900e+06</td>\n",
       "      <td>4.716790e+05</td>\n",
       "      <td>9.078210e+05</td>\n",
       "      <td>8.346860e+05</td>\n",
       "      <td>5.183860e+05</td>\n",
       "      <td>1.390990e+05</td>\n",
       "      <td>7.410000e+03</td>\n",
       "      <td>0.000000e+00</td>\n",
       "      <td>0.000000</td>\n",
       "      <td>0.000000</td>\n",
       "    </tr>\n",
       "    <tr>\n",
       "      <th>50%</th>\n",
       "      <td>1.0</td>\n",
       "      <td>5.849940e+05</td>\n",
       "      <td>0.000000</td>\n",
       "      <td>6.030000e+02</td>\n",
       "      <td>298.000000</td>\n",
       "      <td>0.000000</td>\n",
       "      <td>0.000000</td>\n",
       "      <td>0.000000</td>\n",
       "      <td>0.000000e+00</td>\n",
       "      <td>1.942000e+03</td>\n",
       "      <td>...</td>\n",
       "      <td>2.930346e+06</td>\n",
       "      <td>1.283518e+06</td>\n",
       "      <td>2.526192e+06</td>\n",
       "      <td>2.699056e+06</td>\n",
       "      <td>2.126150e+06</td>\n",
       "      <td>9.094160e+05</td>\n",
       "      <td>6.461200e+04</td>\n",
       "      <td>8.000000e+00</td>\n",
       "      <td>0.000000</td>\n",
       "      <td>0.000000</td>\n",
       "    </tr>\n",
       "    <tr>\n",
       "      <th>75%</th>\n",
       "      <td>1.0</td>\n",
       "      <td>9.308770e+05</td>\n",
       "      <td>1.000000</td>\n",
       "      <td>3.324000e+03</td>\n",
       "      <td>791.500000</td>\n",
       "      <td>0.000000</td>\n",
       "      <td>0.000000</td>\n",
       "      <td>0.000000</td>\n",
       "      <td>7.762000e+03</td>\n",
       "      <td>3.704400e+05</td>\n",
       "      <td>...</td>\n",
       "      <td>6.585235e+06</td>\n",
       "      <td>2.928538e+06</td>\n",
       "      <td>5.916142e+06</td>\n",
       "      <td>6.457021e+06</td>\n",
       "      <td>5.423092e+06</td>\n",
       "      <td>3.090390e+06</td>\n",
       "      <td>4.757940e+05</td>\n",
       "      <td>1.968000e+03</td>\n",
       "      <td>0.000000</td>\n",
       "      <td>0.000000</td>\n",
       "    </tr>\n",
       "    <tr>\n",
       "      <th>max</th>\n",
       "      <td>1.0</td>\n",
       "      <td>2.746564e+06</td>\n",
       "      <td>153.000000</td>\n",
       "      <td>2.130706e+09</td>\n",
       "      <td>60466.000000</td>\n",
       "      <td>5386.000000</td>\n",
       "      <td>11284.000000</td>\n",
       "      <td>544866.000000</td>\n",
       "      <td>4.109372e+06</td>\n",
       "      <td>1.055286e+07</td>\n",
       "      <td>...</td>\n",
       "      <td>3.123272e+07</td>\n",
       "      <td>1.454922e+07</td>\n",
       "      <td>2.700915e+07</td>\n",
       "      <td>5.743524e+07</td>\n",
       "      <td>3.160781e+07</td>\n",
       "      <td>2.605551e+07</td>\n",
       "      <td>1.926740e+07</td>\n",
       "      <td>3.810078e+06</td>\n",
       "      <td>362.000000</td>\n",
       "      <td>606.000000</td>\n",
       "    </tr>\n",
       "  </tbody>\n",
       "</table>\n",
       "<p>8 rows × 171 columns</p>\n",
       "</div>"
      ],
      "text/plain": [
       "       class        aa_000      ab_000        ac_000        ad_000  \\\n",
       "count  999.0  9.990000e+02  999.000000  9.990000e+02    999.000000   \n",
       "mean     1.0  6.596801e+05    0.950826  1.939126e+08   1082.828462   \n",
       "std      0.0  4.343059e+05    5.408213  4.886145e+08   3428.779917   \n",
       "min      1.0  0.000000e+00    0.000000  0.000000e+00      0.000000   \n",
       "25%      1.0  3.203520e+05    0.000000  7.800000e+01     96.733333   \n",
       "50%      1.0  5.849940e+05    0.000000  6.030000e+02    298.000000   \n",
       "75%      1.0  9.308770e+05    1.000000  3.324000e+03    791.500000   \n",
       "max      1.0  2.746564e+06  153.000000  2.130706e+09  60466.000000   \n",
       "\n",
       "            ae_000        af_000         ag_000        ag_001        ag_002  \\\n",
       "count   999.000000    999.000000     999.000000  9.990000e+02  9.990000e+02   \n",
       "mean     14.934268     42.385719    2153.439439  5.093166e+04  3.992401e+05   \n",
       "std     191.543154    516.616354   22211.974371  2.557236e+05  9.986194e+05   \n",
       "min       0.000000      0.000000       0.000000  0.000000e+00  0.000000e+00   \n",
       "25%       0.000000      0.000000       0.000000  0.000000e+00  0.000000e+00   \n",
       "50%       0.000000      0.000000       0.000000  0.000000e+00  1.942000e+03   \n",
       "75%       0.000000      0.000000       0.000000  7.762000e+03  3.704400e+05   \n",
       "max    5386.000000  11284.000000  544866.000000  4.109372e+06  1.055286e+07   \n",
       "\n",
       "       ...        ee_002        ee_003        ee_004        ee_005  \\\n",
       "count  ...  9.990000e+02  9.990000e+02  9.990000e+02  9.990000e+02   \n",
       "mean   ...  4.368361e+06  1.993090e+06  4.162920e+06  4.557631e+06   \n",
       "std    ...  4.242721e+06  2.131283e+06  4.508443e+06  5.564934e+06   \n",
       "min    ...  0.000000e+00  0.000000e+00  0.000000e+00  0.000000e+00   \n",
       "25%    ...  1.130900e+06  4.716790e+05  9.078210e+05  8.346860e+05   \n",
       "50%    ...  2.930346e+06  1.283518e+06  2.526192e+06  2.699056e+06   \n",
       "75%    ...  6.585235e+06  2.928538e+06  5.916142e+06  6.457021e+06   \n",
       "max    ...  3.123272e+07  1.454922e+07  2.700915e+07  5.743524e+07   \n",
       "\n",
       "             ee_006        ee_007        ee_008        ee_009      ef_000  \\\n",
       "count  9.990000e+02  9.990000e+02  9.990000e+02  9.990000e+02  999.000000   \n",
       "mean   3.727185e+06  2.461809e+06  9.472356e+05  5.039849e+04    0.540541   \n",
       "std    4.598109e+06  3.987306e+06  2.175600e+06  2.204516e+05   11.835636   \n",
       "min    0.000000e+00  0.000000e+00  0.000000e+00  0.000000e+00    0.000000   \n",
       "25%    5.183860e+05  1.390990e+05  7.410000e+03  0.000000e+00    0.000000   \n",
       "50%    2.126150e+06  9.094160e+05  6.461200e+04  8.000000e+00    0.000000   \n",
       "75%    5.423092e+06  3.090390e+06  4.757940e+05  1.968000e+03    0.000000   \n",
       "max    3.160781e+07  2.605551e+07  1.926740e+07  3.810078e+06  362.000000   \n",
       "\n",
       "           eg_000  \n",
       "count  999.000000  \n",
       "mean     1.066066  \n",
       "std     20.364210  \n",
       "min      0.000000  \n",
       "25%      0.000000  \n",
       "50%      0.000000  \n",
       "75%      0.000000  \n",
       "max    606.000000  \n",
       "\n",
       "[8 rows x 171 columns]"
      ]
     },
     "execution_count": 44,
     "metadata": {},
     "output_type": "execute_result"
    }
   ],
   "source": [
    "subset.describe()"
   ]
  },
  {
   "cell_type": "markdown",
   "id": "34fe3bad",
   "metadata": {},
   "source": [
    "### Checking for outliers"
   ]
  },
  {
   "cell_type": "markdown",
   "id": "03c9554c",
   "metadata": {},
   "source": [
    "As I saw previously, this subset is skewed; thus, there is the possibility that there are many outliers. To check it, I will calculate the Interquartile Range (IQR) using the first and third-quartile values. Then, I will use the boxplot graphic to visualize some features, and finally, I will identify and remove the outliers if it does not affect the integrity of the dataset."
   ]
  },
  {
   "cell_type": "code",
   "execution_count": 45,
   "id": "3d06c043",
   "metadata": {},
   "outputs": [
    {
     "name": "stdout",
     "output_type": "stream",
     "text": [
      "class     0.000000e+00\n",
      "aa_000    6.105250e+05\n",
      "ab_000    1.000000e+00\n",
      "ac_000    3.246000e+03\n",
      "ad_000    6.947667e+02\n",
      "              ...     \n",
      "ee_007    2.951291e+06\n",
      "ee_008    4.683840e+05\n",
      "ee_009    1.968000e+03\n",
      "ef_000    0.000000e+00\n",
      "eg_000    0.000000e+00\n",
      "Length: 171, dtype: float64\n"
     ]
    }
   ],
   "source": [
    "Q1 = subset.quantile(0.25)\n",
    "Q3 = subset.quantile(0.75)\n",
    "IQR = Q3 - Q1\n",
    "print(IQR)"
   ]
  },
  {
   "cell_type": "markdown",
   "id": "1144348c",
   "metadata": {},
   "source": [
    "Boxplot graphics represent the data concentration, such as central tendency, symmetry, skew and outlier. (Sahoo et al., 2019, p.4728).\n",
    "Below are three boxplot graphics to illustrate the outliers in some features."
   ]
  },
  {
   "cell_type": "code",
   "execution_count": 46,
   "id": "31f2a055",
   "metadata": {
    "scrolled": false
   },
   "outputs": [
    {
     "data": {
      "text/plain": [
       "<Axes: xlabel='aa_000'>"
      ]
     },
     "execution_count": 46,
     "metadata": {},
     "output_type": "execute_result"
    },
    {
     "data": {
      "image/png": "[encoded data removed]",
      "text/plain": [
       "<Figure size 640x480 with 1 Axes>"
      ]
     },
     "metadata": {},
     "output_type": "display_data"
    }
   ],
   "source": [
    "sns.boxplot(x=subset['aa_000'])"
   ]
  },
  {
   "cell_type": "code",
   "execution_count": 47,
   "id": "bdea3583",
   "metadata": {
    "scrolled": true
   },
   "outputs": [
    {
     "data": {
      "text/plain": [
       "<Axes: xlabel='ab_000'>"
      ]
     },
     "execution_count": 47,
     "metadata": {},
     "output_type": "execute_result"
    },
    {
     "data": {
      "image/png": "[encoded data removed]",
      "text/plain": [
       "<Figure size 640x480 with 1 Axes>"
      ]
     },
     "metadata": {},
     "output_type": "display_data"
    }
   ],
   "source": [
    "sns.boxplot(x=subset['ab_000'])"
   ]
  },
  {
   "cell_type": "code",
   "execution_count": 48,
   "id": "a06721a9",
   "metadata": {
    "scrolled": true
   },
   "outputs": [
    {
     "data": {
      "text/plain": [
       "<Axes: xlabel='ac_000'>"
      ]
     },
     "execution_count": 48,
     "metadata": {},
     "output_type": "execute_result"
    },
    {
     "data": {
      "image/png": "[encoded data removed]",
      "text/plain": [
       "<Figure size 640x480 with 1 Axes>"
      ]
     },
     "metadata": {},
     "output_type": "display_data"
    }
   ],
   "source": [
    "sns.boxplot(x=subset['ac_000'])"
   ]
  },
  {
   "cell_type": "markdown",
   "id": "ef2fb0e5",
   "metadata": {},
   "source": [
    "The function below is used to identify and remove the outliers based on the interquartile range.\n",
    "When I used the method shape(), I realized that this procedure of removing the outliers would delete almost 100% of the data rows, thus making it impracticable. Therefore I will not remove the outliers from this dataset."
   ]
  },
  {
   "cell_type": "code",
   "execution_count": 49,
   "id": "4a2097cf",
   "metadata": {},
   "outputs": [
    {
     "data": {
      "text/plain": [
       "(8, 171)"
      ]
     },
     "execution_count": 49,
     "metadata": {},
     "output_type": "execute_result"
    }
   ],
   "source": [
    "df_outliers = subset[~((subset<(Q1-1.5*IQR))|(subset>Q3+1.5*IQR)).any(axis=1)]\n",
    "df_outliers.shape"
   ]
  },
  {
   "cell_type": "markdown",
   "id": "c3d02430",
   "metadata": {},
   "source": [
    "### Calculating the sparsity of the dataset"
   ]
  },
  {
   "cell_type": "markdown",
   "id": "f7da4c78",
   "metadata": {},
   "source": [
    "Sparsity is a measurement of how sparse or dense a dataset is. It can be represented as the ratio of the number of zero or missing values to the total number of data points or entries in the dataset. Sparse datasets are characterized by most features having 0 most of the time (Müller and Guido, 2017 p.44)."
   ]
  },
  {
   "cell_type": "code",
   "execution_count": 52,
   "id": "eaf6e567",
   "metadata": {},
   "outputs": [
    {
     "name": "stdout",
     "output_type": "stream",
     "text": [
      "Sparsity of the dataset: 0.273\n"
     ]
    }
   ],
   "source": [
    "missing_values = subset.isnull().sum().sum()\n",
    "zero_values = (subset == 0).sum().sum()\n",
    "\n",
    "total_data_points = subset.size\n",
    "\n",
    "sparsity = (missing_values + zero_values) / total_data_points\n",
    "\n",
    "print(f\"Sparsity of the dataset: {sparsity:.3f}\")"
   ]
  },
  {
   "cell_type": "markdown",
   "id": "e3acc4e6",
   "metadata": {},
   "source": [
    "The sparsity values must be between 0 and 1 when 0 indicates no sparsity, and 1 indicates completely spaced. The result for this dataset was found to be 0.27, meaning that 27% of the dataset is sparse and has a significant portion of missing or zero values. As I input the missing values with interpolation values, I can rationalise that the zero values alone might contribute to the sparsity.\n",
    "\n",
    "Printing the 'zero_values' and 'missing_values' I confirmed that hypothesis."
   ]
  },
  {
   "cell_type": "code",
   "execution_count": 59,
   "id": "b483286d",
   "metadata": {},
   "outputs": [
    {
     "name": "stdout",
     "output_type": "stream",
     "text": [
      "Missing values: 0\n",
      "zero values: 46656\n"
     ]
    }
   ],
   "source": [
    "print(\"Missing values:\", missing_values)\n",
    "print(\"zero values:\", zero_values)"
   ]
  },
  {
   "cell_type": "markdown",
   "id": "cc94dfd6",
   "metadata": {},
   "source": [
    "### Visualizations\n",
    "\n",
    "In this section, I will obtain the median of each component failure associated with the APS system, and I will use it to create the visualizations.\n",
    "I am using the median because the data distribution is highly imbalanced, and the outliers distort the mean significantly. Thus, the median is a more accurate measure of the centre of the distribution (Nicholas, 1999, p.3)."
   ]
  },
  {
   "cell_type": "code",
   "execution_count": 60,
   "id": "2b244853",
   "metadata": {},
   "outputs": [],
   "source": [
    "subset1 = subset.drop(columns=[\"class\"])"
   ]
  },
  {
   "cell_type": "code",
   "execution_count": 61,
   "id": "363da5e9",
   "metadata": {},
   "outputs": [
    {
     "data": {
      "text/html": [
       "<div>\n",
       "<style scoped>\n",
       "    .dataframe tbody tr th:only-of-type {\n",
       "        vertical-align: middle;\n",
       "    }\n",
       "\n",
       "    .dataframe tbody tr th {\n",
       "        vertical-align: top;\n",
       "    }\n",
       "\n",
       "    .dataframe thead th {\n",
       "        text-align: right;\n",
       "    }\n",
       "</style>\n",
       "<table border=\"1\" class=\"dataframe\">\n",
       "  <thead>\n",
       "    <tr style=\"text-align: right;\">\n",
       "      <th></th>\n",
       "      <th>aa_000</th>\n",
       "      <th>ab_000</th>\n",
       "      <th>ac_000</th>\n",
       "      <th>ad_000</th>\n",
       "      <th>ae_000</th>\n",
       "      <th>af_000</th>\n",
       "      <th>ag_000</th>\n",
       "      <th>ag_001</th>\n",
       "      <th>ag_002</th>\n",
       "      <th>ag_003</th>\n",
       "      <th>...</th>\n",
       "      <th>ee_002</th>\n",
       "      <th>ee_003</th>\n",
       "      <th>ee_004</th>\n",
       "      <th>ee_005</th>\n",
       "      <th>ee_006</th>\n",
       "      <th>ee_007</th>\n",
       "      <th>ee_008</th>\n",
       "      <th>ee_009</th>\n",
       "      <th>ef_000</th>\n",
       "      <th>eg_000</th>\n",
       "    </tr>\n",
       "  </thead>\n",
       "  <tbody>\n",
       "    <tr>\n",
       "      <th>23</th>\n",
       "      <td>453236</td>\n",
       "      <td>0.0</td>\n",
       "      <td>2.926000e+03</td>\n",
       "      <td>1420.0</td>\n",
       "      <td>0.0</td>\n",
       "      <td>0.0</td>\n",
       "      <td>0.0</td>\n",
       "      <td>0.0</td>\n",
       "      <td>222.0</td>\n",
       "      <td>323436.0</td>\n",
       "      <td>...</td>\n",
       "      <td>7908038.0</td>\n",
       "      <td>3026002.0</td>\n",
       "      <td>5025350.0</td>\n",
       "      <td>2025766.0</td>\n",
       "      <td>1160638.0</td>\n",
       "      <td>533834.0</td>\n",
       "      <td>493800.0</td>\n",
       "      <td>6914.0</td>\n",
       "      <td>0.0</td>\n",
       "      <td>0.0</td>\n",
       "    </tr>\n",
       "    <tr>\n",
       "      <th>60</th>\n",
       "      <td>72504</td>\n",
       "      <td>0.0</td>\n",
       "      <td>1.594000e+03</td>\n",
       "      <td>1052.0</td>\n",
       "      <td>0.0</td>\n",
       "      <td>0.0</td>\n",
       "      <td>0.0</td>\n",
       "      <td>244.0</td>\n",
       "      <td>178226.0</td>\n",
       "      <td>1249396.0</td>\n",
       "      <td>...</td>\n",
       "      <td>1432098.0</td>\n",
       "      <td>372252.0</td>\n",
       "      <td>527514.0</td>\n",
       "      <td>358274.0</td>\n",
       "      <td>332818.0</td>\n",
       "      <td>284178.0</td>\n",
       "      <td>3742.0</td>\n",
       "      <td>0.0</td>\n",
       "      <td>0.0</td>\n",
       "      <td>0.0</td>\n",
       "    </tr>\n",
       "    <tr>\n",
       "      <th>115</th>\n",
       "      <td>762958</td>\n",
       "      <td>0.0</td>\n",
       "      <td>1.065353e+09</td>\n",
       "      <td>98.0</td>\n",
       "      <td>0.0</td>\n",
       "      <td>0.0</td>\n",
       "      <td>776.0</td>\n",
       "      <td>281128.0</td>\n",
       "      <td>2186308.0</td>\n",
       "      <td>8123016.0</td>\n",
       "      <td>...</td>\n",
       "      <td>179282.0</td>\n",
       "      <td>85194.0</td>\n",
       "      <td>192889.0</td>\n",
       "      <td>209641.0</td>\n",
       "      <td>115781.0</td>\n",
       "      <td>63662.0</td>\n",
       "      <td>86572.0</td>\n",
       "      <td>7663.0</td>\n",
       "      <td>0.0</td>\n",
       "      <td>0.0</td>\n",
       "    </tr>\n",
       "    <tr>\n",
       "      <th>135</th>\n",
       "      <td>695994</td>\n",
       "      <td>1.0</td>\n",
       "      <td>1.300000e+01</td>\n",
       "      <td>12.0</td>\n",
       "      <td>0.0</td>\n",
       "      <td>0.0</td>\n",
       "      <td>0.0</td>\n",
       "      <td>0.0</td>\n",
       "      <td>0.0</td>\n",
       "      <td>55620.0</td>\n",
       "      <td>...</td>\n",
       "      <td>1397742.0</td>\n",
       "      <td>495544.0</td>\n",
       "      <td>361646.0</td>\n",
       "      <td>28610.0</td>\n",
       "      <td>5130.0</td>\n",
       "      <td>212.0</td>\n",
       "      <td>0.0</td>\n",
       "      <td>0.0</td>\n",
       "      <td>0.0</td>\n",
       "      <td>0.0</td>\n",
       "    </tr>\n",
       "    <tr>\n",
       "      <th>156</th>\n",
       "      <td>1056758</td>\n",
       "      <td>0.0</td>\n",
       "      <td>4.232800e+04</td>\n",
       "      <td>856.0</td>\n",
       "      <td>0.0</td>\n",
       "      <td>0.0</td>\n",
       "      <td>0.0</td>\n",
       "      <td>50394.0</td>\n",
       "      <td>184552.0</td>\n",
       "      <td>2116260.0</td>\n",
       "      <td>...</td>\n",
       "      <td>1450086.0</td>\n",
       "      <td>713608.0</td>\n",
       "      <td>1750894.0</td>\n",
       "      <td>4054554.0</td>\n",
       "      <td>4096660.0</td>\n",
       "      <td>2295880.0</td>\n",
       "      <td>220478.0</td>\n",
       "      <td>482.0</td>\n",
       "      <td>0.0</td>\n",
       "      <td>0.0</td>\n",
       "    </tr>\n",
       "  </tbody>\n",
       "</table>\n",
       "<p>5 rows × 170 columns</p>\n",
       "</div>"
      ],
      "text/plain": [
       "      aa_000  ab_000        ac_000  ad_000  ae_000  af_000  ag_000    ag_001  \\\n",
       "23    453236     0.0  2.926000e+03  1420.0     0.0     0.0     0.0       0.0   \n",
       "60     72504     0.0  1.594000e+03  1052.0     0.0     0.0     0.0     244.0   \n",
       "115   762958     0.0  1.065353e+09    98.0     0.0     0.0   776.0  281128.0   \n",
       "135   695994     1.0  1.300000e+01    12.0     0.0     0.0     0.0       0.0   \n",
       "156  1056758     0.0  4.232800e+04   856.0     0.0     0.0     0.0   50394.0   \n",
       "\n",
       "        ag_002     ag_003  ...     ee_002     ee_003     ee_004     ee_005  \\\n",
       "23       222.0   323436.0  ...  7908038.0  3026002.0  5025350.0  2025766.0   \n",
       "60    178226.0  1249396.0  ...  1432098.0   372252.0   527514.0   358274.0   \n",
       "115  2186308.0  8123016.0  ...   179282.0    85194.0   192889.0   209641.0   \n",
       "135        0.0    55620.0  ...  1397742.0   495544.0   361646.0    28610.0   \n",
       "156   184552.0  2116260.0  ...  1450086.0   713608.0  1750894.0  4054554.0   \n",
       "\n",
       "        ee_006     ee_007    ee_008  ee_009  ef_000  eg_000  \n",
       "23   1160638.0   533834.0  493800.0  6914.0     0.0     0.0  \n",
       "60    332818.0   284178.0    3742.0     0.0     0.0     0.0  \n",
       "115   115781.0    63662.0   86572.0  7663.0     0.0     0.0  \n",
       "135     5130.0      212.0       0.0     0.0     0.0     0.0  \n",
       "156  4096660.0  2295880.0  220478.0   482.0     0.0     0.0  \n",
       "\n",
       "[5 rows x 170 columns]"
      ]
     },
     "execution_count": 61,
     "metadata": {},
     "output_type": "execute_result"
    }
   ],
   "source": [
    "subset1.head()"
   ]
  },
  {
   "cell_type": "code",
   "execution_count": 62,
   "id": "40cac030",
   "metadata": {
    "scrolled": false
   },
   "outputs": [
    {
     "name": "stdout",
     "output_type": "stream",
     "text": [
      "Medians for each column:\n",
      "aa_000    584994.0\n",
      "ab_000         0.0\n",
      "ac_000       603.0\n",
      "ad_000       298.0\n",
      "ae_000         0.0\n",
      "            ...   \n",
      "ee_007    909416.0\n",
      "ee_008     64612.0\n",
      "ee_009         8.0\n",
      "ef_000         0.0\n",
      "eg_000         0.0\n",
      "Length: 170, dtype: float64\n"
     ]
    }
   ],
   "source": [
    "df_median = pd.DataFrame(subset1)\n",
    "column_medians = df_median.median()\n",
    "print(\"Medians for each column:\")\n",
    "print(column_medians)"
   ]
  },
  {
   "cell_type": "markdown",
   "id": "bf98da0b",
   "metadata": {},
   "source": [
    "I used the code below to calculate the median for each component failure, and then I created a medians_dataset that I saved."
   ]
  },
  {
   "cell_type": "code",
   "execution_count": 63,
   "id": "483088f0",
   "metadata": {
    "scrolled": true
   },
   "outputs": [
    {
     "name": "stdout",
     "output_type": "stream",
     "text": [
      "         Medians\n",
      "aa_000  584994.0\n",
      "ab_000       0.0\n",
      "ac_000     603.0\n",
      "ad_000     298.0\n",
      "ae_000       0.0\n",
      "...          ...\n",
      "ee_007  909416.0\n",
      "ee_008   64612.0\n",
      "ee_009       8.0\n",
      "ef_000       0.0\n",
      "eg_000       0.0\n",
      "\n",
      "[170 rows x 1 columns]\n"
     ]
    }
   ],
   "source": [
    "df_median = pd.DataFrame(subset1)\n",
    "column_medians = df_median.median()\n",
    "medians_dataset = pd.DataFrame({'Medians': column_medians})\n",
    "print(medians_dataset)\n",
    "medians_dataset.to_csv('medians_dataset.csv', index=False)"
   ]
  },
  {
   "cell_type": "markdown",
   "id": "a5320cc2",
   "metadata": {},
   "source": [
    "The bar chart contains the median values for each component failure. As we can see, it is impossible to identify the components because there are 170 features.\n",
    "\n",
    "From this chart, I can rationalise that some components should have more attention because they have a higher central tendency than others. In the following steps, I will filter the dataset until I find these components to identify which components are failing and deserve more attention.    "
   ]
  },
  {
   "cell_type": "code",
   "execution_count": 64,
   "id": "213b1569",
   "metadata": {
    "scrolled": true
   },
   "outputs": [
    {
     "data": {
      "image/png": "[encoded data removed]",
      "text/plain": [
       "<Figure size 640x480 with 1 Axes>"
      ]
     },
     "metadata": {},
     "output_type": "display_data"
    }
   ],
   "source": [
    "medians_dataset.plot(kind='bar', legend=False)\n",
    "plt.title('Medians for all component failures related to the APS system')\n",
    "plt.xlabel('APS components failure')\n",
    "plt.ylabel('Medians')\n",
    "plt.xticks(rotation=90)\n",
    "plt.show()"
   ]
  },
  {
   "cell_type": "markdown",
   "id": "f647f56c",
   "metadata": {},
   "source": [
    "Here, I will filter the medians less than or equal to zero, and in doing that, I will exclude components specific to the APS system that do not result in component failure. However, we must be careful with these components because it does not precisely mean they did not fail, as the outliers are high."
   ]
  },
  {
   "cell_type": "code",
   "execution_count": 65,
   "id": "105b4f86",
   "metadata": {},
   "outputs": [
    {
     "data": {
      "text/plain": [
       "44"
      ]
     },
     "execution_count": 65,
     "metadata": {},
     "output_type": "execute_result"
    }
   ],
   "source": [
    "filtered_medians = medians_dataset[medians_dataset['Medians'] <= 0]\n",
    "len(filtered_medians)"
   ]
  },
  {
   "cell_type": "markdown",
   "id": "72b6cccf",
   "metadata": {},
   "source": [
    "After applying the code above, discover that 44 components (~26%) may not have faults, but it is necessary to verify this information with more data about these components.\n",
    "\n",
    "However, that information led me to the problem focus, which is that around **74%** of the component's failures are related to the APS system, and it can be a **risk to the safety of the truck drivers** because some of the components should be involved in the **braking and gear changes**.    "
   ]
  },
  {
   "cell_type": "markdown",
   "id": "43e928fe",
   "metadata": {},
   "source": [
    "Now, I will filter out components greater than zero.\n",
    "\n",
    "I found 126 components failed and are directly related to the APS system. However, the chart is still overcrowded because of too many components. I will filter again."
   ]
  },
  {
   "cell_type": "code",
   "execution_count": 66,
   "id": "3ff2a064",
   "metadata": {},
   "outputs": [
    {
     "data": {
      "text/plain": [
       "126"
      ]
     },
     "execution_count": 66,
     "metadata": {},
     "output_type": "execute_result"
    }
   ],
   "source": [
    "filtered_medians1 = medians_dataset[medians_dataset['Medians'] > 0]\n",
    "len(filtered_medians1)"
   ]
  },
  {
   "cell_type": "code",
   "execution_count": 75,
   "id": "a0add834",
   "metadata": {
    "scrolled": true
   },
   "outputs": [
    {
     "data": {
      "image/png": "[encoded data removed]",
      "text/plain": [
       "<Figure size 640x480 with 1 Axes>"
      ]
     },
     "metadata": {},
     "output_type": "display_data"
    }
   ],
   "source": [
    "filtered_medians1.plot(kind='bar', legend=False)\n",
    "plt.title('Component failures related to the APS system > 0')\n",
    "plt.xlabel('APS components failure')\n",
    "plt.ylabel('Medians')\n",
    "plt.xticks(rotation=90)\n",
    "plt.show()"
   ]
  },
  {
   "cell_type": "markdown",
   "id": "91c42cf1",
   "metadata": {},
   "source": [
    "Applying the code below, I can have median values greater than 0.2e7, and I found 44 components. If I focus even more, it will be possible to see better the component failure of the highest central tendency."
   ]
  },
  {
   "cell_type": "code",
   "execution_count": 68,
   "id": "7d9ab2c6",
   "metadata": {},
   "outputs": [
    {
     "data": {
      "text/plain": [
       "44"
      ]
     },
     "execution_count": 68,
     "metadata": {},
     "output_type": "execute_result"
    }
   ],
   "source": [
    "filtered_medians2 = medians_dataset[medians_dataset['Medians'] > 0.2e7]\n",
    "len(filtered_medians2)"
   ]
  },
  {
   "cell_type": "code",
   "execution_count": 74,
   "id": "bd1332d2",
   "metadata": {
    "scrolled": true
   },
   "outputs": [
    {
     "data": {
      "image/png": "[encoded data removed]",
      "text/plain": [
       "<Figure size 640x480 with 1 Axes>"
      ]
     },
     "metadata": {},
     "output_type": "display_data"
    }
   ],
   "source": [
    "filtered_medians2.plot(kind='bar', legend=False)\n",
    "plt.title('Component failures related to the APS system > 0.2e7')\n",
    "plt.xlabel('APS components failure')\n",
    "plt.ylabel('Medians')\n",
    "plt.xticks(rotation=70)\n",
    "plt.show()"
   ]
  },
  {
   "cell_type": "markdown",
   "id": "6b3b2cb4",
   "metadata": {},
   "source": [
    "After filtering, it becomes easier to see which components presented the highest failure tendency. Although it is essential to focus on 75% of the components that failed by the company in the next year, at least 11 components require significant investment as soon as possible because they present the highest failure tendency. These components are presented in the bar chart below and they are: ah_000, an_000, ao_000, bb_000, bg_000, bu_000, bv_000, bx_000, cc_000, ci_000, and cq_000.  "
   ]
  },
  {
   "cell_type": "code",
   "execution_count": 71,
   "id": "7c134324",
   "metadata": {},
   "outputs": [
    {
     "data": {
      "text/plain": [
       "11"
      ]
     },
     "execution_count": 71,
     "metadata": {},
     "output_type": "execute_result"
    }
   ],
   "source": [
    "filtered_medians3 = medians_dataset[medians_dataset['Medians'] > 1.7e7]\n",
    "len(filtered_medians3)"
   ]
  },
  {
   "cell_type": "code",
   "execution_count": 73,
   "id": "1e2a524d",
   "metadata": {
    "scrolled": false
   },
   "outputs": [
    {
     "data": {
      "image/png": "[encoded data removed]",
      "text/plain": [
       "<Figure size 640x480 with 1 Axes>"
      ]
     },
     "metadata": {},
     "output_type": "display_data"
    }
   ],
   "source": [
    "filtered_medians3.plot(kind='bar', legend=False)\n",
    "plt.title('Component failures related to the APS system > 0.2e7')\n",
    "plt.xlabel('APS components failure')\n",
    "plt.ylabel('Medians')\n",
    "plt.xticks(rotation=70)\n",
    "plt.show()"
   ]
  },
  {
   "cell_type": "markdown",
   "id": "5f912100",
   "metadata": {},
   "source": [
    "### Normalization"
   ]
  },
  {
   "cell_type": "markdown",
   "id": "15bdfd00",
   "metadata": {},
   "source": [
    "When the data is under a systematic source of variation, it is necessary to transform it into a scale suitable for analysis (Muralidharan, 2010, p.1). There are some options to carry out the data transformation, such as normalization, min-max scaling and standardization.\n",
    "\n",
    "Principal Component Analysis (PCA) is sensitive to the scale of the data, and because of this, it is highly recommended to standardize or normalize the data before applying PCA (Müller and Guido, 2017 p.144). "
   ]
  },
  {
   "cell_type": "markdown",
   "id": "303d5663",
   "metadata": {},
   "source": [
    "Before starting the normalization, I will to drop the 'class' column because the StandardScaler was designed to handle numeric data.\n",
    "\n",
    "From this process onwards, I will use the entire dataset (df4 - class: 'neg' and 'pos'), because I will apply some machine learning models."
   ]
  },
  {
   "cell_type": "code",
   "execution_count": 76,
   "id": "f2c545ff",
   "metadata": {},
   "outputs": [],
   "source": [
    "df_normalized = df4.drop(columns=[\"class\"])"
   ]
  },
  {
   "cell_type": "code",
   "execution_count": 77,
   "id": "84446c0b",
   "metadata": {},
   "outputs": [
    {
     "data": {
      "text/plain": [
       "(59987, 170)"
      ]
     },
     "execution_count": 77,
     "metadata": {},
     "output_type": "execute_result"
    }
   ],
   "source": [
    "df_normalized.shape"
   ]
  },
  {
   "cell_type": "code",
   "execution_count": 78,
   "id": "fc3d4528",
   "metadata": {},
   "outputs": [],
   "source": [
    "from sklearn.preprocessing import StandardScaler\n",
    "scaler = StandardScaler()\n",
    "normalized_data = scaler.fit_transform(df_normalized)"
   ]
  },
  {
   "cell_type": "code",
   "execution_count": 79,
   "id": "162a4619",
   "metadata": {
    "scrolled": true
   },
   "outputs": [
    {
     "name": "stdout",
     "output_type": "stream",
     "text": [
      "[[ 0.40986329 -0.26454094 -0.45482406 ... -0.17415194 -0.02090469\n",
      "  -0.02433244]\n",
      " [-0.24010848 -0.26454094 -0.45482583 ... -0.11981425 -0.02090469\n",
      "  -0.02433244]\n",
      " [-0.40788527 -0.26454094 -0.45482575 ... -0.17706515 -0.02090469\n",
      "  -0.02433244]\n",
      " ...\n",
      " [-0.40721146 -0.26454094  2.26374838 ... -0.17706515 -0.02090469\n",
      "  -0.02433244]\n",
      " [ 0.14406888 -0.26454094  2.26374838 ...  8.02260715 -0.02090469\n",
      "  -0.02433244]\n",
      " [-0.13143378 -0.26454094 -0.45482494 ... -0.17372974 -0.02090469\n",
      "  -0.02433244]]\n"
     ]
    }
   ],
   "source": [
    "print(normalized_data)"
   ]
  },
  {
   "cell_type": "markdown",
   "id": "82e9b0fa",
   "metadata": {},
   "source": [
    "### Applying Principal Componente Analysis (PCA)"
   ]
  },
  {
   "cell_type": "markdown",
   "id": "b2b6848b",
   "metadata": {},
   "source": [
    "PCA is a technique for data compression and feature extraction with wide use in data analysis and pattern recognition (Xu and Yuille, 1995, p.131).\n",
    "\n",
    "I will use 'normalized_data' to obtain the number of components needed to retain 99.5% variance in the  entire dataset 'df4'."
   ]
  },
  {
   "cell_type": "markdown",
   "id": "f6ae8b3a",
   "metadata": {},
   "source": [
    "To start the PCA analysis I called the PCA instance with 0.995 which is 99.5% variance. Then I fited the PCA model to the data (normalized_data).  "
   ]
  },
  {
   "cell_type": "code",
   "execution_count": 81,
   "id": "4e48edde",
   "metadata": {},
   "outputs": [],
   "source": [
    "pca = PCA(n_components=0.995).fit(normalized_data)"
   ]
  },
  {
   "cell_type": "markdown",
   "id": "de378311",
   "metadata": {},
   "source": [
    " The code below calculates the Explained Variance ratio which is the percentage of variance for each component (Lindgren, 2020, p.1)."
   ]
  },
  {
   "cell_type": "code",
   "execution_count": 82,
   "id": "91616c06",
   "metadata": {},
   "outputs": [],
   "source": [
    "explained_variance = pca.explained_variance_ratio_"
   ]
  },
  {
   "cell_type": "code",
   "execution_count": 83,
   "id": "61454367",
   "metadata": {},
   "outputs": [
    {
     "name": "stdout",
     "output_type": "stream",
     "text": [
      "[0.2877842  0.04658935 0.03750794 0.0323299  0.02811992 0.02360971\n",
      " 0.01927821 0.01775163 0.0173989  0.01549404 0.01427194 0.01385105\n",
      " 0.01224835 0.01169226 0.01122618 0.01080315 0.01022905 0.01001176\n",
      " 0.00973988 0.00965696 0.00937369 0.00916556 0.00893095 0.00865188\n",
      " 0.00800285 0.00777502 0.00772267 0.00753641 0.00731926 0.00719892\n",
      " 0.00701606 0.00695956 0.00672739 0.00664844 0.00654835 0.00648844\n",
      " 0.00634936 0.00607756 0.00602035 0.00595056 0.00591929 0.00587245\n",
      " 0.00581979 0.00566845 0.00565787 0.0055323  0.00550431 0.00542027\n",
      " 0.00529677 0.00510785 0.00490804 0.00457376 0.00451775 0.00440617\n",
      " 0.00433196 0.00425922 0.00413777 0.00413117 0.0039834  0.00392956\n",
      " 0.00375384 0.00367342 0.00359431 0.00344843 0.0033981  0.00335476\n",
      " 0.00317232 0.0030978  0.00291454 0.00286273 0.00279569 0.00266525\n",
      " 0.00264046 0.00257442 0.0025296  0.0024903  0.00236754 0.00229354\n",
      " 0.00224451 0.00214554 0.00212763 0.00207947 0.00204864 0.00203648\n",
      " 0.00191633 0.00189674 0.0018004  0.00177382 0.00174934 0.00170826\n",
      " 0.00162174 0.00156163 0.00150915 0.00140357 0.00137397 0.00135464\n",
      " 0.00127222 0.00121624 0.00119153 0.00115882 0.00114287 0.00109583\n",
      " 0.00107915 0.0010542  0.00103413 0.00100382 0.00095546 0.00093644\n",
      " 0.00090694 0.00084959 0.00083901 0.00079249 0.00074944 0.00074043\n",
      " 0.00068243 0.00065963 0.00061197 0.00060743 0.00060301 0.00058446\n",
      " 0.00055529 0.0005213  0.00050371 0.0004527  0.00043359]\n"
     ]
    }
   ],
   "source": [
    "print(explained_variance)"
   ]
  },
  {
   "cell_type": "code",
   "execution_count": 84,
   "id": "6732ec73",
   "metadata": {},
   "outputs": [
    {
     "data": {
      "text/plain": [
       "(125,)"
      ]
     },
     "execution_count": 84,
     "metadata": {},
     "output_type": "execute_result"
    }
   ],
   "source": [
    "explained_variance.shape"
   ]
  },
  {
   "cell_type": "markdown",
   "id": "9f132b43",
   "metadata": {},
   "source": [
    "Now, using this code, I can get a graphic that shows me the number of components I need to set in my PCA model to achieve a cumulated explained variance of almost 100% (I have said 'almost' because only looking in the graphic is not possible to be precisely). However, previously, I indicated that I wanted 99.5% variance, and the explained_variance already showed me that I need at least 125 components to reduce the dimension of the subset and continue with 99.5% variance. "
   ]
  },
  {
   "cell_type": "code",
   "execution_count": 85,
   "id": "a3f1012d",
   "metadata": {},
   "outputs": [
    {
     "data": {
      "text/plain": [
       "Text(0, 0.5, 'cumulated explained variance')"
      ]
     },
     "execution_count": 85,
     "metadata": {},
     "output_type": "execute_result"
    },
    {
     "data": {
      "image/png": "[encoded data removed]",
      "text/plain": [
       "<Figure size 640x480 with 1 Axes>"
      ]
     },
     "metadata": {},
     "output_type": "display_data"
    }
   ],
   "source": [
    "plt.plot(np.cumsum(pca.explained_variance_ratio_))\n",
    "plt.xlabel(\"No of Componets needed\")\n",
    "plt.ylabel(\"cumulated explained variance\")"
   ]
  },
  {
   "cell_type": "markdown",
   "id": "01afb7b4",
   "metadata": {},
   "source": [
    "Here, I inserted the number of components in the PCA model to reduce the dimensions or number of features and continue with the data pattern with 99.5% variance.\n",
    "The 'projected' part contains the data after the PCA has been applied."
   ]
  },
  {
   "cell_type": "code",
   "execution_count": 86,
   "id": "29295783",
   "metadata": {},
   "outputs": [],
   "source": [
    "num_components = 125\n",
    "pca = PCA(n_components=num_components)\n",
    "projected = pca.fit_transform(normalized_data)"
   ]
  },
  {
   "cell_type": "code",
   "execution_count": 87,
   "id": "45825a31",
   "metadata": {
    "scrolled": true
   },
   "outputs": [
    {
     "data": {
      "text/plain": [
       "array([[ 5.08979068, -2.37724839, -3.76788197, ...,  0.46134257,\n",
       "         0.34349311, -0.36388813],\n",
       "       [-2.07571329, -0.0347313 ,  3.43577992, ...,  0.04136493,\n",
       "         0.01448555, -0.04401778],\n",
       "       [-3.27296865,  0.14652146,  1.63611061, ...,  0.02638979,\n",
       "        -0.0153534 ,  0.02851821],\n",
       "       ...,\n",
       "       [-3.13774174,  0.15781761, -0.39457909, ..., -0.01742197,\n",
       "         0.02511758, -0.01854176],\n",
       "       [ 2.40788358, -2.65437737, -2.42648433, ...,  0.40141302,\n",
       "        -0.51174063,  0.6596781 ],\n",
       "       [-0.69628711, -0.45728321, -1.15663351, ...,  0.01453977,\n",
       "        -0.01504478,  0.04476069]])"
      ]
     },
     "execution_count": 87,
     "metadata": {},
     "output_type": "execute_result"
    }
   ],
   "source": [
    "projected"
   ]
  },
  {
   "cell_type": "markdown",
   "id": "d4639a20",
   "metadata": {},
   "source": [
    "In this part of the code, I am naming the columns with the data projected, with all the principal components."
   ]
  },
  {
   "cell_type": "code",
   "execution_count": 93,
   "id": "2f263a0c",
   "metadata": {
    "scrolled": true
   },
   "outputs": [
    {
     "data": {
      "text/html": [
       "<div>\n",
       "<style scoped>\n",
       "    .dataframe tbody tr th:only-of-type {\n",
       "        vertical-align: middle;\n",
       "    }\n",
       "\n",
       "    .dataframe tbody tr th {\n",
       "        vertical-align: top;\n",
       "    }\n",
       "\n",
       "    .dataframe thead th {\n",
       "        text-align: right;\n",
       "    }\n",
       "</style>\n",
       "<table border=\"1\" class=\"dataframe\">\n",
       "  <thead>\n",
       "    <tr style=\"text-align: right;\">\n",
       "      <th></th>\n",
       "      <th>C1</th>\n",
       "      <th>C2</th>\n",
       "      <th>C3</th>\n",
       "      <th>C4</th>\n",
       "      <th>C5</th>\n",
       "      <th>C6</th>\n",
       "      <th>C7</th>\n",
       "      <th>C8</th>\n",
       "      <th>C9</th>\n",
       "      <th>C10</th>\n",
       "      <th>...</th>\n",
       "      <th>C116</th>\n",
       "      <th>C117</th>\n",
       "      <th>C118</th>\n",
       "      <th>C119</th>\n",
       "      <th>C120</th>\n",
       "      <th>C121</th>\n",
       "      <th>C122</th>\n",
       "      <th>C123</th>\n",
       "      <th>C124</th>\n",
       "      <th>C125</th>\n",
       "    </tr>\n",
       "  </thead>\n",
       "  <tbody>\n",
       "    <tr>\n",
       "      <th>0</th>\n",
       "      <td>5.089791</td>\n",
       "      <td>-2.377248</td>\n",
       "      <td>-3.767882</td>\n",
       "      <td>0.653191</td>\n",
       "      <td>-1.050705</td>\n",
       "      <td>2.418047</td>\n",
       "      <td>-1.509930</td>\n",
       "      <td>0.010781</td>\n",
       "      <td>1.436823</td>\n",
       "      <td>-1.078404</td>\n",
       "      <td>...</td>\n",
       "      <td>0.710389</td>\n",
       "      <td>-0.540686</td>\n",
       "      <td>0.870117</td>\n",
       "      <td>0.171527</td>\n",
       "      <td>-0.241186</td>\n",
       "      <td>-0.075746</td>\n",
       "      <td>-0.146085</td>\n",
       "      <td>0.461343</td>\n",
       "      <td>0.343493</td>\n",
       "      <td>-0.363888</td>\n",
       "    </tr>\n",
       "    <tr>\n",
       "      <th>1</th>\n",
       "      <td>-2.075713</td>\n",
       "      <td>-0.034731</td>\n",
       "      <td>3.435780</td>\n",
       "      <td>3.505157</td>\n",
       "      <td>-1.440814</td>\n",
       "      <td>0.801443</td>\n",
       "      <td>-0.058448</td>\n",
       "      <td>0.017311</td>\n",
       "      <td>-0.269839</td>\n",
       "      <td>-0.400969</td>\n",
       "      <td>...</td>\n",
       "      <td>-0.051885</td>\n",
       "      <td>-0.126970</td>\n",
       "      <td>0.251624</td>\n",
       "      <td>0.022365</td>\n",
       "      <td>0.023091</td>\n",
       "      <td>-0.032319</td>\n",
       "      <td>-0.145948</td>\n",
       "      <td>0.041365</td>\n",
       "      <td>0.014486</td>\n",
       "      <td>-0.044018</td>\n",
       "    </tr>\n",
       "    <tr>\n",
       "      <th>2</th>\n",
       "      <td>-3.272969</td>\n",
       "      <td>0.146521</td>\n",
       "      <td>1.636111</td>\n",
       "      <td>0.698771</td>\n",
       "      <td>-0.132937</td>\n",
       "      <td>-0.107373</td>\n",
       "      <td>0.192365</td>\n",
       "      <td>-0.000747</td>\n",
       "      <td>0.341206</td>\n",
       "      <td>0.678457</td>\n",
       "      <td>...</td>\n",
       "      <td>0.014273</td>\n",
       "      <td>-0.154715</td>\n",
       "      <td>0.370338</td>\n",
       "      <td>0.046362</td>\n",
       "      <td>0.059107</td>\n",
       "      <td>-0.001949</td>\n",
       "      <td>-0.063008</td>\n",
       "      <td>0.026390</td>\n",
       "      <td>-0.015353</td>\n",
       "      <td>0.028518</td>\n",
       "    </tr>\n",
       "    <tr>\n",
       "      <th>3</th>\n",
       "      <td>5.943860</td>\n",
       "      <td>2.214908</td>\n",
       "      <td>-4.006519</td>\n",
       "      <td>2.920174</td>\n",
       "      <td>4.422650</td>\n",
       "      <td>-2.495210</td>\n",
       "      <td>-1.163481</td>\n",
       "      <td>-0.011793</td>\n",
       "      <td>1.043260</td>\n",
       "      <td>2.218713</td>\n",
       "      <td>...</td>\n",
       "      <td>-0.181764</td>\n",
       "      <td>-0.867499</td>\n",
       "      <td>0.353378</td>\n",
       "      <td>-0.028690</td>\n",
       "      <td>0.526535</td>\n",
       "      <td>0.986600</td>\n",
       "      <td>-0.048286</td>\n",
       "      <td>0.533785</td>\n",
       "      <td>-0.275943</td>\n",
       "      <td>-0.642276</td>\n",
       "    </tr>\n",
       "    <tr>\n",
       "      <th>4</th>\n",
       "      <td>-3.074409</td>\n",
       "      <td>0.226797</td>\n",
       "      <td>-0.564052</td>\n",
       "      <td>-1.759298</td>\n",
       "      <td>0.798664</td>\n",
       "      <td>-0.460225</td>\n",
       "      <td>0.336497</td>\n",
       "      <td>-0.024180</td>\n",
       "      <td>0.485678</td>\n",
       "      <td>0.948401</td>\n",
       "      <td>...</td>\n",
       "      <td>0.002758</td>\n",
       "      <td>0.000406</td>\n",
       "      <td>0.010114</td>\n",
       "      <td>0.001026</td>\n",
       "      <td>-0.007181</td>\n",
       "      <td>0.000913</td>\n",
       "      <td>0.034401</td>\n",
       "      <td>0.008036</td>\n",
       "      <td>-0.012254</td>\n",
       "      <td>0.004715</td>\n",
       "    </tr>\n",
       "  </tbody>\n",
       "</table>\n",
       "<p>5 rows × 125 columns</p>\n",
       "</div>"
      ],
      "text/plain": [
       "         C1        C2        C3        C4        C5        C6        C7  \\\n",
       "0  5.089791 -2.377248 -3.767882  0.653191 -1.050705  2.418047 -1.509930   \n",
       "1 -2.075713 -0.034731  3.435780  3.505157 -1.440814  0.801443 -0.058448   \n",
       "2 -3.272969  0.146521  1.636111  0.698771 -0.132937 -0.107373  0.192365   \n",
       "3  5.943860  2.214908 -4.006519  2.920174  4.422650 -2.495210 -1.163481   \n",
       "4 -3.074409  0.226797 -0.564052 -1.759298  0.798664 -0.460225  0.336497   \n",
       "\n",
       "         C8        C9       C10  ...      C116      C117      C118      C119  \\\n",
       "0  0.010781  1.436823 -1.078404  ...  0.710389 -0.540686  0.870117  0.171527   \n",
       "1  0.017311 -0.269839 -0.400969  ... -0.051885 -0.126970  0.251624  0.022365   \n",
       "2 -0.000747  0.341206  0.678457  ...  0.014273 -0.154715  0.370338  0.046362   \n",
       "3 -0.011793  1.043260  2.218713  ... -0.181764 -0.867499  0.353378 -0.028690   \n",
       "4 -0.024180  0.485678  0.948401  ...  0.002758  0.000406  0.010114  0.001026   \n",
       "\n",
       "       C120      C121      C122      C123      C124      C125  \n",
       "0 -0.241186 -0.075746 -0.146085  0.461343  0.343493 -0.363888  \n",
       "1  0.023091 -0.032319 -0.145948  0.041365  0.014486 -0.044018  \n",
       "2  0.059107 -0.001949 -0.063008  0.026390 -0.015353  0.028518  \n",
       "3  0.526535  0.986600 -0.048286  0.533785 -0.275943 -0.642276  \n",
       "4 -0.007181  0.000913  0.034401  0.008036 -0.012254  0.004715  \n",
       "\n",
       "[5 rows x 125 columns]"
      ]
     },
     "execution_count": 93,
     "metadata": {},
     "output_type": "execute_result"
    }
   ],
   "source": [
    "normalized_data_pca = pd.DataFrame(projected,columns=[\"C1\", \"C2\", \"C3\", \"C4\", \"C5\", \"C6\", \"C7\", \"C8\", \"C9\", \"C10\", \"C11\", \"C12\", \"C13\", \"C14\", \"C15\", \"C16\", \"C17\", \"C18\", \"C19\", \"C20\", \"C21\", \"C22\", \"C23\", \"C24\", \"C25\", \"C26\", \"C27\", \"C28\", \"C29\", \"C30\", \"C31\", \"C32\", \"C33\", \"C34\", \"C35\", \"C36\", \"C37\", \"C38\", \"C39\", \"C40\", \"C41\", \"C42\", \"C43\", \"C44\", \"C45\", \"C46\", \"C47\", \"C48\", \"C49\", \"C50\", \"C51\", \"C52\", \"C53\", \"C54\", \"C55\", \"C56\", \"C57\", \"C58\", \"C59\", \"C60\", \"C61\", \"C62\", \"C63\", \"C64\", \"C65\", \"C66\", \"C67\", \"C68\", \"C69\", \"C70\", \"C71\", \"C72\", \"C73\", \"C74\", \"C75\", \"C76\", \"C77\", \"C78\", \"C79\", \"C80\",\"C81\", \"C82\", \"C83\", \"C84\", \"C85\", \"C86\", \"C87\", \"C88\", \"C89\", \"C90\", \"C91\", \"C92\", \"C93\", \"C94\", \"C95\", \"C96\", \"C97\", \"C98\", \"C99\", \"C100\", \"C101\", \"C102\", \"C103\", \"C104\", \"C105\", \"C106\", \"C107\", \"C108\", \"C109\", \"C110\", \"C111\", \"C112\", \"C113\", \"C114\", \"C115\", \"C116\", \"C117\", \"C118\", \"C119\", \"C120\", \"C121\", \"C122\", \"C123\", \"C124\", \"C125\"])\n",
    "normalized_data_pca.head()"
   ]
  },
  {
   "cell_type": "code",
   "execution_count": 94,
   "id": "7dfd0c9d",
   "metadata": {},
   "outputs": [],
   "source": [
    "normalized_data_pca[\"class\"] = df[\"class\"]"
   ]
  },
  {
   "cell_type": "code",
   "execution_count": 95,
   "id": "e8e2fc77",
   "metadata": {},
   "outputs": [
    {
     "data": {
      "text/html": [
       "<div>\n",
       "<style scoped>\n",
       "    .dataframe tbody tr th:only-of-type {\n",
       "        vertical-align: middle;\n",
       "    }\n",
       "\n",
       "    .dataframe tbody tr th {\n",
       "        vertical-align: top;\n",
       "    }\n",
       "\n",
       "    .dataframe thead th {\n",
       "        text-align: right;\n",
       "    }\n",
       "</style>\n",
       "<table border=\"1\" class=\"dataframe\">\n",
       "  <thead>\n",
       "    <tr style=\"text-align: right;\">\n",
       "      <th></th>\n",
       "      <th>C1</th>\n",
       "      <th>C2</th>\n",
       "      <th>C3</th>\n",
       "      <th>C4</th>\n",
       "      <th>C5</th>\n",
       "      <th>C6</th>\n",
       "      <th>C7</th>\n",
       "      <th>C8</th>\n",
       "      <th>C9</th>\n",
       "      <th>C10</th>\n",
       "      <th>...</th>\n",
       "      <th>C117</th>\n",
       "      <th>C118</th>\n",
       "      <th>C119</th>\n",
       "      <th>C120</th>\n",
       "      <th>C121</th>\n",
       "      <th>C122</th>\n",
       "      <th>C123</th>\n",
       "      <th>C124</th>\n",
       "      <th>C125</th>\n",
       "      <th>class</th>\n",
       "    </tr>\n",
       "  </thead>\n",
       "  <tbody>\n",
       "    <tr>\n",
       "      <th>0</th>\n",
       "      <td>5.089791</td>\n",
       "      <td>-2.377248</td>\n",
       "      <td>-3.767882</td>\n",
       "      <td>0.653191</td>\n",
       "      <td>-1.050705</td>\n",
       "      <td>2.418047</td>\n",
       "      <td>-1.509930</td>\n",
       "      <td>0.010781</td>\n",
       "      <td>1.436823</td>\n",
       "      <td>-1.078404</td>\n",
       "      <td>...</td>\n",
       "      <td>-0.540686</td>\n",
       "      <td>0.870117</td>\n",
       "      <td>0.171527</td>\n",
       "      <td>-0.241186</td>\n",
       "      <td>-0.075746</td>\n",
       "      <td>-0.146085</td>\n",
       "      <td>0.461343</td>\n",
       "      <td>0.343493</td>\n",
       "      <td>-0.363888</td>\n",
       "      <td>neg</td>\n",
       "    </tr>\n",
       "    <tr>\n",
       "      <th>1</th>\n",
       "      <td>-2.075713</td>\n",
       "      <td>-0.034731</td>\n",
       "      <td>3.435780</td>\n",
       "      <td>3.505157</td>\n",
       "      <td>-1.440814</td>\n",
       "      <td>0.801443</td>\n",
       "      <td>-0.058448</td>\n",
       "      <td>0.017311</td>\n",
       "      <td>-0.269839</td>\n",
       "      <td>-0.400969</td>\n",
       "      <td>...</td>\n",
       "      <td>-0.126970</td>\n",
       "      <td>0.251624</td>\n",
       "      <td>0.022365</td>\n",
       "      <td>0.023091</td>\n",
       "      <td>-0.032319</td>\n",
       "      <td>-0.145948</td>\n",
       "      <td>0.041365</td>\n",
       "      <td>0.014486</td>\n",
       "      <td>-0.044018</td>\n",
       "      <td>neg</td>\n",
       "    </tr>\n",
       "    <tr>\n",
       "      <th>2</th>\n",
       "      <td>-3.272969</td>\n",
       "      <td>0.146521</td>\n",
       "      <td>1.636111</td>\n",
       "      <td>0.698771</td>\n",
       "      <td>-0.132937</td>\n",
       "      <td>-0.107373</td>\n",
       "      <td>0.192365</td>\n",
       "      <td>-0.000747</td>\n",
       "      <td>0.341206</td>\n",
       "      <td>0.678457</td>\n",
       "      <td>...</td>\n",
       "      <td>-0.154715</td>\n",
       "      <td>0.370338</td>\n",
       "      <td>0.046362</td>\n",
       "      <td>0.059107</td>\n",
       "      <td>-0.001949</td>\n",
       "      <td>-0.063008</td>\n",
       "      <td>0.026390</td>\n",
       "      <td>-0.015353</td>\n",
       "      <td>0.028518</td>\n",
       "      <td>neg</td>\n",
       "    </tr>\n",
       "    <tr>\n",
       "      <th>3</th>\n",
       "      <td>5.943860</td>\n",
       "      <td>2.214908</td>\n",
       "      <td>-4.006519</td>\n",
       "      <td>2.920174</td>\n",
       "      <td>4.422650</td>\n",
       "      <td>-2.495210</td>\n",
       "      <td>-1.163481</td>\n",
       "      <td>-0.011793</td>\n",
       "      <td>1.043260</td>\n",
       "      <td>2.218713</td>\n",
       "      <td>...</td>\n",
       "      <td>-0.867499</td>\n",
       "      <td>0.353378</td>\n",
       "      <td>-0.028690</td>\n",
       "      <td>0.526535</td>\n",
       "      <td>0.986600</td>\n",
       "      <td>-0.048286</td>\n",
       "      <td>0.533785</td>\n",
       "      <td>-0.275943</td>\n",
       "      <td>-0.642276</td>\n",
       "      <td>neg</td>\n",
       "    </tr>\n",
       "    <tr>\n",
       "      <th>4</th>\n",
       "      <td>-3.074409</td>\n",
       "      <td>0.226797</td>\n",
       "      <td>-0.564052</td>\n",
       "      <td>-1.759298</td>\n",
       "      <td>0.798664</td>\n",
       "      <td>-0.460225</td>\n",
       "      <td>0.336497</td>\n",
       "      <td>-0.024180</td>\n",
       "      <td>0.485678</td>\n",
       "      <td>0.948401</td>\n",
       "      <td>...</td>\n",
       "      <td>0.000406</td>\n",
       "      <td>0.010114</td>\n",
       "      <td>0.001026</td>\n",
       "      <td>-0.007181</td>\n",
       "      <td>0.000913</td>\n",
       "      <td>0.034401</td>\n",
       "      <td>0.008036</td>\n",
       "      <td>-0.012254</td>\n",
       "      <td>0.004715</td>\n",
       "      <td>neg</td>\n",
       "    </tr>\n",
       "  </tbody>\n",
       "</table>\n",
       "<p>5 rows × 126 columns</p>\n",
       "</div>"
      ],
      "text/plain": [
       "         C1        C2        C3        C4        C5        C6        C7  \\\n",
       "0  5.089791 -2.377248 -3.767882  0.653191 -1.050705  2.418047 -1.509930   \n",
       "1 -2.075713 -0.034731  3.435780  3.505157 -1.440814  0.801443 -0.058448   \n",
       "2 -3.272969  0.146521  1.636111  0.698771 -0.132937 -0.107373  0.192365   \n",
       "3  5.943860  2.214908 -4.006519  2.920174  4.422650 -2.495210 -1.163481   \n",
       "4 -3.074409  0.226797 -0.564052 -1.759298  0.798664 -0.460225  0.336497   \n",
       "\n",
       "         C8        C9       C10  ...      C117      C118      C119      C120  \\\n",
       "0  0.010781  1.436823 -1.078404  ... -0.540686  0.870117  0.171527 -0.241186   \n",
       "1  0.017311 -0.269839 -0.400969  ... -0.126970  0.251624  0.022365  0.023091   \n",
       "2 -0.000747  0.341206  0.678457  ... -0.154715  0.370338  0.046362  0.059107   \n",
       "3 -0.011793  1.043260  2.218713  ... -0.867499  0.353378 -0.028690  0.526535   \n",
       "4 -0.024180  0.485678  0.948401  ...  0.000406  0.010114  0.001026 -0.007181   \n",
       "\n",
       "       C121      C122      C123      C124      C125  class  \n",
       "0 -0.075746 -0.146085  0.461343  0.343493 -0.363888    neg  \n",
       "1 -0.032319 -0.145948  0.041365  0.014486 -0.044018    neg  \n",
       "2 -0.001949 -0.063008  0.026390 -0.015353  0.028518    neg  \n",
       "3  0.986600 -0.048286  0.533785 -0.275943 -0.642276    neg  \n",
       "4  0.000913  0.034401  0.008036 -0.012254  0.004715    neg  \n",
       "\n",
       "[5 rows x 126 columns]"
      ]
     },
     "execution_count": 95,
     "metadata": {},
     "output_type": "execute_result"
    }
   ],
   "source": [
    "normalized_data_pca.head()"
   ]
  },
  {
   "cell_type": "code",
   "execution_count": 96,
   "id": "379af4ec",
   "metadata": {},
   "outputs": [],
   "source": [
    "normalized_data_pca['class'].replace('neg', 0, inplace = True)\n",
    "normalized_data_pca['class'].replace('pos', 1, inplace = True)"
   ]
  },
  {
   "cell_type": "code",
   "execution_count": 97,
   "id": "18cbad7a",
   "metadata": {
    "scrolled": true
   },
   "outputs": [
    {
     "data": {
      "text/html": [
       "<div>\n",
       "<style scoped>\n",
       "    .dataframe tbody tr th:only-of-type {\n",
       "        vertical-align: middle;\n",
       "    }\n",
       "\n",
       "    .dataframe tbody tr th {\n",
       "        vertical-align: top;\n",
       "    }\n",
       "\n",
       "    .dataframe thead th {\n",
       "        text-align: right;\n",
       "    }\n",
       "</style>\n",
       "<table border=\"1\" class=\"dataframe\">\n",
       "  <thead>\n",
       "    <tr style=\"text-align: right;\">\n",
       "      <th></th>\n",
       "      <th>C1</th>\n",
       "      <th>C2</th>\n",
       "      <th>C3</th>\n",
       "      <th>C4</th>\n",
       "      <th>C5</th>\n",
       "      <th>C6</th>\n",
       "      <th>C7</th>\n",
       "      <th>C8</th>\n",
       "      <th>C9</th>\n",
       "      <th>C10</th>\n",
       "      <th>...</th>\n",
       "      <th>C117</th>\n",
       "      <th>C118</th>\n",
       "      <th>C119</th>\n",
       "      <th>C120</th>\n",
       "      <th>C121</th>\n",
       "      <th>C122</th>\n",
       "      <th>C123</th>\n",
       "      <th>C124</th>\n",
       "      <th>C125</th>\n",
       "      <th>class</th>\n",
       "    </tr>\n",
       "  </thead>\n",
       "  <tbody>\n",
       "    <tr>\n",
       "      <th>0</th>\n",
       "      <td>5.089791</td>\n",
       "      <td>-2.377248</td>\n",
       "      <td>-3.767882</td>\n",
       "      <td>0.653191</td>\n",
       "      <td>-1.050705</td>\n",
       "      <td>2.418047</td>\n",
       "      <td>-1.509930</td>\n",
       "      <td>0.010781</td>\n",
       "      <td>1.436823</td>\n",
       "      <td>-1.078404</td>\n",
       "      <td>...</td>\n",
       "      <td>-0.540686</td>\n",
       "      <td>0.870117</td>\n",
       "      <td>0.171527</td>\n",
       "      <td>-0.241186</td>\n",
       "      <td>-0.075746</td>\n",
       "      <td>-0.146085</td>\n",
       "      <td>0.461343</td>\n",
       "      <td>0.343493</td>\n",
       "      <td>-0.363888</td>\n",
       "      <td>0</td>\n",
       "    </tr>\n",
       "    <tr>\n",
       "      <th>1</th>\n",
       "      <td>-2.075713</td>\n",
       "      <td>-0.034731</td>\n",
       "      <td>3.435780</td>\n",
       "      <td>3.505157</td>\n",
       "      <td>-1.440814</td>\n",
       "      <td>0.801443</td>\n",
       "      <td>-0.058448</td>\n",
       "      <td>0.017311</td>\n",
       "      <td>-0.269839</td>\n",
       "      <td>-0.400969</td>\n",
       "      <td>...</td>\n",
       "      <td>-0.126970</td>\n",
       "      <td>0.251624</td>\n",
       "      <td>0.022365</td>\n",
       "      <td>0.023091</td>\n",
       "      <td>-0.032319</td>\n",
       "      <td>-0.145948</td>\n",
       "      <td>0.041365</td>\n",
       "      <td>0.014486</td>\n",
       "      <td>-0.044018</td>\n",
       "      <td>0</td>\n",
       "    </tr>\n",
       "    <tr>\n",
       "      <th>2</th>\n",
       "      <td>-3.272969</td>\n",
       "      <td>0.146521</td>\n",
       "      <td>1.636111</td>\n",
       "      <td>0.698771</td>\n",
       "      <td>-0.132937</td>\n",
       "      <td>-0.107373</td>\n",
       "      <td>0.192365</td>\n",
       "      <td>-0.000747</td>\n",
       "      <td>0.341206</td>\n",
       "      <td>0.678457</td>\n",
       "      <td>...</td>\n",
       "      <td>-0.154715</td>\n",
       "      <td>0.370338</td>\n",
       "      <td>0.046362</td>\n",
       "      <td>0.059107</td>\n",
       "      <td>-0.001949</td>\n",
       "      <td>-0.063008</td>\n",
       "      <td>0.026390</td>\n",
       "      <td>-0.015353</td>\n",
       "      <td>0.028518</td>\n",
       "      <td>0</td>\n",
       "    </tr>\n",
       "    <tr>\n",
       "      <th>3</th>\n",
       "      <td>5.943860</td>\n",
       "      <td>2.214908</td>\n",
       "      <td>-4.006519</td>\n",
       "      <td>2.920174</td>\n",
       "      <td>4.422650</td>\n",
       "      <td>-2.495210</td>\n",
       "      <td>-1.163481</td>\n",
       "      <td>-0.011793</td>\n",
       "      <td>1.043260</td>\n",
       "      <td>2.218713</td>\n",
       "      <td>...</td>\n",
       "      <td>-0.867499</td>\n",
       "      <td>0.353378</td>\n",
       "      <td>-0.028690</td>\n",
       "      <td>0.526535</td>\n",
       "      <td>0.986600</td>\n",
       "      <td>-0.048286</td>\n",
       "      <td>0.533785</td>\n",
       "      <td>-0.275943</td>\n",
       "      <td>-0.642276</td>\n",
       "      <td>0</td>\n",
       "    </tr>\n",
       "    <tr>\n",
       "      <th>4</th>\n",
       "      <td>-3.074409</td>\n",
       "      <td>0.226797</td>\n",
       "      <td>-0.564052</td>\n",
       "      <td>-1.759298</td>\n",
       "      <td>0.798664</td>\n",
       "      <td>-0.460225</td>\n",
       "      <td>0.336497</td>\n",
       "      <td>-0.024180</td>\n",
       "      <td>0.485678</td>\n",
       "      <td>0.948401</td>\n",
       "      <td>...</td>\n",
       "      <td>0.000406</td>\n",
       "      <td>0.010114</td>\n",
       "      <td>0.001026</td>\n",
       "      <td>-0.007181</td>\n",
       "      <td>0.000913</td>\n",
       "      <td>0.034401</td>\n",
       "      <td>0.008036</td>\n",
       "      <td>-0.012254</td>\n",
       "      <td>0.004715</td>\n",
       "      <td>0</td>\n",
       "    </tr>\n",
       "  </tbody>\n",
       "</table>\n",
       "<p>5 rows × 126 columns</p>\n",
       "</div>"
      ],
      "text/plain": [
       "         C1        C2        C3        C4        C5        C6        C7  \\\n",
       "0  5.089791 -2.377248 -3.767882  0.653191 -1.050705  2.418047 -1.509930   \n",
       "1 -2.075713 -0.034731  3.435780  3.505157 -1.440814  0.801443 -0.058448   \n",
       "2 -3.272969  0.146521  1.636111  0.698771 -0.132937 -0.107373  0.192365   \n",
       "3  5.943860  2.214908 -4.006519  2.920174  4.422650 -2.495210 -1.163481   \n",
       "4 -3.074409  0.226797 -0.564052 -1.759298  0.798664 -0.460225  0.336497   \n",
       "\n",
       "         C8        C9       C10  ...      C117      C118      C119      C120  \\\n",
       "0  0.010781  1.436823 -1.078404  ... -0.540686  0.870117  0.171527 -0.241186   \n",
       "1  0.017311 -0.269839 -0.400969  ... -0.126970  0.251624  0.022365  0.023091   \n",
       "2 -0.000747  0.341206  0.678457  ... -0.154715  0.370338  0.046362  0.059107   \n",
       "3 -0.011793  1.043260  2.218713  ... -0.867499  0.353378 -0.028690  0.526535   \n",
       "4 -0.024180  0.485678  0.948401  ...  0.000406  0.010114  0.001026 -0.007181   \n",
       "\n",
       "       C121      C122      C123      C124      C125  class  \n",
       "0 -0.075746 -0.146085  0.461343  0.343493 -0.363888      0  \n",
       "1 -0.032319 -0.145948  0.041365  0.014486 -0.044018      0  \n",
       "2 -0.001949 -0.063008  0.026390 -0.015353  0.028518      0  \n",
       "3  0.986600 -0.048286  0.533785 -0.275943 -0.642276      0  \n",
       "4  0.000913  0.034401  0.008036 -0.012254  0.004715      0  \n",
       "\n",
       "[5 rows x 126 columns]"
      ]
     },
     "execution_count": 97,
     "metadata": {},
     "output_type": "execute_result"
    }
   ],
   "source": [
    "normalized_data_pca.head()"
   ]
  },
  {
   "cell_type": "code",
   "execution_count": 98,
   "id": "b3845ccc",
   "metadata": {},
   "outputs": [
    {
     "data": {
      "text/plain": [
       "0    58987\n",
       "1     1000\n",
       "Name: class, dtype: int64"
      ]
     },
     "execution_count": 98,
     "metadata": {},
     "output_type": "execute_result"
    }
   ],
   "source": [
    "normalized_data_pca[\"class\"].value_counts()"
   ]
  },
  {
   "cell_type": "code",
   "execution_count": null,
   "id": "ad4f4e1a",
   "metadata": {},
   "outputs": [],
   "source": []
  },
  {
   "cell_type": "code",
   "execution_count": 99,
   "id": "d3c87210",
   "metadata": {},
   "outputs": [
    {
     "ename": "NameError",
     "evalue": "name 'y' is not defined",
     "output_type": "error",
     "traceback": [
      "\u001b[1;31m---------------------------------------------------------------------------\u001b[0m",
      "\u001b[1;31mNameError\u001b[0m                                 Traceback (most recent call last)",
      "Cell \u001b[1;32mIn[99], line 3\u001b[0m\n\u001b[0;32m      1\u001b[0m \u001b[38;5;66;03m# Example: Create a scatter plot of the first two principal components\u001b[39;00m\n\u001b[0;32m      2\u001b[0m plt\u001b[38;5;241m.\u001b[39mfigure(figsize\u001b[38;5;241m=\u001b[39m(\u001b[38;5;241m8\u001b[39m, \u001b[38;5;241m6\u001b[39m))\n\u001b[1;32m----> 3\u001b[0m plt\u001b[38;5;241m.\u001b[39mscatter(projected[:, \u001b[38;5;241m0\u001b[39m], projected[:, \u001b[38;5;241m1\u001b[39m], c\u001b[38;5;241m=\u001b[39my, cmap\u001b[38;5;241m=\u001b[39m\u001b[38;5;124m'\u001b[39m\u001b[38;5;124mviridis\u001b[39m\u001b[38;5;124m'\u001b[39m)\n\u001b[0;32m      4\u001b[0m plt\u001b[38;5;241m.\u001b[39mxlabel(\u001b[38;5;124m\"\u001b[39m\u001b[38;5;124mPrincipal Component 1 \u001b[39m\u001b[38;5;130;01m\\n\u001b[39;00m\u001b[38;5;124m (XX\u001b[39m\u001b[38;5;132;01m% E\u001b[39;00m\u001b[38;5;124mxplained Variance)\u001b[39m\u001b[38;5;124m\"\u001b[39m)\n\u001b[0;32m      5\u001b[0m plt\u001b[38;5;241m.\u001b[39mylabel(\u001b[38;5;124m\"\u001b[39m\u001b[38;5;124mPrincipal Component 2 \u001b[39m\u001b[38;5;130;01m\\n\u001b[39;00m\u001b[38;5;124m (XX\u001b[39m\u001b[38;5;132;01m% E\u001b[39;00m\u001b[38;5;124mxplained Variance)\u001b[39m\u001b[38;5;124m\"\u001b[39m)\n",
      "\u001b[1;31mNameError\u001b[0m: name 'y' is not defined"
     ]
    },
    {
     "data": {
      "text/plain": [
       "<Figure size 800x600 with 0 Axes>"
      ]
     },
     "metadata": {},
     "output_type": "display_data"
    }
   ],
   "source": [
    "# Example: Create a scatter plot of the first two principal components\n",
    "plt.figure(figsize=(8, 6))\n",
    "plt.scatter(projected[:, 0], projected[:, 1], c=y, cmap='viridis')\n",
    "plt.xlabel(\"Principal Component 1 \\n (XX% Explained Variance)\")\n",
    "plt.ylabel(\"Principal Component 2 \\n (XX% Explained Variance)\")\n",
    "plt.title(\"PCA Visualization\")\n",
    "plt.show()"
   ]
  },
  {
   "cell_type": "code",
   "execution_count": null,
   "id": "a36730ad",
   "metadata": {},
   "outputs": [],
   "source": []
  },
  {
   "cell_type": "code",
   "execution_count": 367,
   "id": "73342141",
   "metadata": {},
   "outputs": [
    {
     "data": {
      "image/png": "[encoded data removed]",
      "text/plain": [
       "<Figure size 800x600 with 1 Axes>"
      ]
     },
     "metadata": {},
     "output_type": "display_data"
    }
   ],
   "source": [
    "plt.figure(figsize=(8, 6))\n",
    "plt.scatter(projected[:,0], projected[:,1], c=np.arange(len(projected)), cmap='viridis')\n",
    "plt.xlabel(\"Principal Component 1\")\n",
    "plt.ylabel(\"Principal Component 2\")\n",
    "plt.title(\"PCA Visualization\")\n",
    "plt.show()"
   ]
  },
  {
   "cell_type": "code",
   "execution_count": null,
   "id": "c0287c89",
   "metadata": {},
   "outputs": [],
   "source": []
  },
  {
   "cell_type": "markdown",
   "id": "95db0d8e",
   "metadata": {},
   "source": [
    "The chart below shows the decreasing rate at which variance is explained by additional principal components, meaning that with the first principal component alone, I have 28.7% of variance, and when I added the second principal component, I found 4.65% variance and so on. Considering the first principal component with the second, there is a significant drop-off in percent variance.\n",
    "\n",
    "Analysing this chart, I can rationalise that only the first principal component contributed to the highest portion of the variance, and the other principal components contributed a small portion."
   ]
  },
  {
   "cell_type": "code",
   "execution_count": 101,
   "id": "b46996f8",
   "metadata": {},
   "outputs": [
    {
     "data": {
      "image/png": "[encoded data removed]",
      "text/plain": [
       "<Figure size 800x600 with 1 Axes>"
      ]
     },
     "metadata": {},
     "output_type": "display_data"
    }
   ],
   "source": [
    "explained_variance = pca.explained_variance_ratio_\n",
    "plt.figure(figsize=(8, 6))\n",
    "plt.bar(range(1, 11), explained_variance[:10], tick_label=range(1, 11))\n",
    "plt.xlabel('Principal Component')\n",
    "plt.ylabel('Explained Variance')\n",
    "plt.title('Scree Plot for the First 10 Principal Components')\n",
    "plt.show()"
   ]
  },
  {
   "cell_type": "markdown",
   "id": "772c0c6c",
   "metadata": {},
   "source": [
    "### Assessing ML models using PCA components"
   ]
  },
  {
   "cell_type": "code",
   "execution_count": 444,
   "id": "5c1a217e",
   "metadata": {},
   "outputs": [],
   "source": [
    "normalized_data_array = normalized_data_pca.values"
   ]
  },
  {
   "cell_type": "code",
   "execution_count": 445,
   "id": "8bfe6ac4",
   "metadata": {},
   "outputs": [
    {
     "data": {
      "text/plain": [
       "(59987, 170)"
      ]
     },
     "execution_count": 445,
     "metadata": {},
     "output_type": "execute_result"
    }
   ],
   "source": [
    "normalized_data.shape"
   ]
  },
  {
   "cell_type": "code",
   "execution_count": 446,
   "id": "669f63d1",
   "metadata": {},
   "outputs": [
    {
     "data": {
      "text/plain": [
       "(59987, 131)"
      ]
     },
     "execution_count": 446,
     "metadata": {},
     "output_type": "execute_result"
    }
   ],
   "source": [
    "normalized_data_pca.shape"
   ]
  },
  {
   "cell_type": "code",
   "execution_count": 447,
   "id": "edd0ea1c",
   "metadata": {},
   "outputs": [],
   "source": [
    "from sklearn.model_selection import train_test_split\n",
    "X = normalized_data_array[:, 0:130]\n",
    "y = normalized_data_array[:, 130]\n",
    "X_train, X_validation, Y_train, Y_validation = train_test_split(X, y, test_size=0.20, random_state=26)"
   ]
  },
  {
   "cell_type": "code",
   "execution_count": 448,
   "id": "6d779dd6",
   "metadata": {},
   "outputs": [],
   "source": [
    "from matplotlib import pyplot\n",
    "from sklearn.model_selection import train_test_split\n",
    "from sklearn.model_selection import cross_val_score\n",
    "from sklearn.model_selection import StratifiedKFold\n",
    "from sklearn.linear_model import LogisticRegression\n",
    "from sklearn.tree import DecisionTreeClassifier\n",
    "from sklearn.neighbors import KNeighborsClassifier\n",
    "from sklearn.discriminant_analysis import LinearDiscriminantAnalysis\n",
    "from sklearn.naive_bayes import GaussianNB\n",
    "from sklearn.metrics import classification_report\n",
    "from sklearn.metrics import confusion_matrix\n",
    "from sklearn.metrics import accuracy_score\n",
    "from sklearn.svm import SVC"
   ]
  },
  {
   "cell_type": "code",
   "execution_count": 449,
   "id": "f83b9cdf",
   "metadata": {},
   "outputs": [],
   "source": [
    "models = []\n",
    "models.append(('LR', LogisticRegression(solver='liblinear', multi_class='ovr')))\n",
    "models.append(('LDA', LinearDiscriminantAnalysis()))\n",
    "models.append(('KNN', KNeighborsClassifier()))\n",
    "models.append(('CART', DecisionTreeClassifier()))\n",
    "models.append(('NB', GaussianNB()))\n",
    "models.append(('SVM', SVC(gamma='auto')))"
   ]
  },
  {
   "cell_type": "code",
   "execution_count": 450,
   "id": "ad044f3a",
   "metadata": {},
   "outputs": [
    {
     "name": "stdout",
     "output_type": "stream",
     "text": [
      "LR: 0.983059 (0.000163)\n",
      "LDA: 0.982517 (0.000302)\n",
      "KNN: 0.983330 (0.000001)\n"
     ]
    },
    {
     "ename": "KeyboardInterrupt",
     "evalue": "",
     "output_type": "error",
     "traceback": [
      "\u001b[1;31m---------------------------------------------------------------------------\u001b[0m",
      "\u001b[1;31mKeyboardInterrupt\u001b[0m                         Traceback (most recent call last)",
      "Cell \u001b[1;32mIn[450], line 5\u001b[0m\n\u001b[0;32m      3\u001b[0m \u001b[38;5;28;01mfor\u001b[39;00m name, model \u001b[38;5;129;01min\u001b[39;00m models:\n\u001b[0;32m      4\u001b[0m \tkfold \u001b[38;5;241m=\u001b[39m StratifiedKFold(n_splits\u001b[38;5;241m=\u001b[39m\u001b[38;5;241m10\u001b[39m, random_state\u001b[38;5;241m=\u001b[39m\u001b[38;5;241m1\u001b[39m, shuffle\u001b[38;5;241m=\u001b[39m\u001b[38;5;28;01mTrue\u001b[39;00m)\n\u001b[1;32m----> 5\u001b[0m \tcv_results \u001b[38;5;241m=\u001b[39m cross_val_score(model, X_train, Y_train, cv\u001b[38;5;241m=\u001b[39mkfold, scoring\u001b[38;5;241m=\u001b[39m\u001b[38;5;124m'\u001b[39m\u001b[38;5;124maccuracy\u001b[39m\u001b[38;5;124m'\u001b[39m)\n\u001b[0;32m      6\u001b[0m \tresults\u001b[38;5;241m.\u001b[39mappend(cv_results)\n\u001b[0;32m      7\u001b[0m \tnames\u001b[38;5;241m.\u001b[39mappend(name)\n",
      "File \u001b[1;32m~\\anaconda3\\Lib\\site-packages\\sklearn\\model_selection\\_validation.py:562\u001b[0m, in \u001b[0;36mcross_val_score\u001b[1;34m(estimator, X, y, groups, scoring, cv, n_jobs, verbose, fit_params, pre_dispatch, error_score)\u001b[0m\n\u001b[0;32m    559\u001b[0m \u001b[38;5;66;03m# To ensure multimetric format is not supported\u001b[39;00m\n\u001b[0;32m    560\u001b[0m scorer \u001b[38;5;241m=\u001b[39m check_scoring(estimator, scoring\u001b[38;5;241m=\u001b[39mscoring)\n\u001b[1;32m--> 562\u001b[0m cv_results \u001b[38;5;241m=\u001b[39m cross_validate(\n\u001b[0;32m    563\u001b[0m     estimator\u001b[38;5;241m=\u001b[39mestimator,\n\u001b[0;32m    564\u001b[0m     X\u001b[38;5;241m=\u001b[39mX,\n\u001b[0;32m    565\u001b[0m     y\u001b[38;5;241m=\u001b[39my,\n\u001b[0;32m    566\u001b[0m     groups\u001b[38;5;241m=\u001b[39mgroups,\n\u001b[0;32m    567\u001b[0m     scoring\u001b[38;5;241m=\u001b[39m{\u001b[38;5;124m\"\u001b[39m\u001b[38;5;124mscore\u001b[39m\u001b[38;5;124m\"\u001b[39m: scorer},\n\u001b[0;32m    568\u001b[0m     cv\u001b[38;5;241m=\u001b[39mcv,\n\u001b[0;32m    569\u001b[0m     n_jobs\u001b[38;5;241m=\u001b[39mn_jobs,\n\u001b[0;32m    570\u001b[0m     verbose\u001b[38;5;241m=\u001b[39mverbose,\n\u001b[0;32m    571\u001b[0m     fit_params\u001b[38;5;241m=\u001b[39mfit_params,\n\u001b[0;32m    572\u001b[0m     pre_dispatch\u001b[38;5;241m=\u001b[39mpre_dispatch,\n\u001b[0;32m    573\u001b[0m     error_score\u001b[38;5;241m=\u001b[39merror_score,\n\u001b[0;32m    574\u001b[0m )\n\u001b[0;32m    575\u001b[0m \u001b[38;5;28;01mreturn\u001b[39;00m cv_results[\u001b[38;5;124m\"\u001b[39m\u001b[38;5;124mtest_score\u001b[39m\u001b[38;5;124m\"\u001b[39m]\n",
      "File \u001b[1;32m~\\anaconda3\\Lib\\site-packages\\sklearn\\utils\\_param_validation.py:211\u001b[0m, in \u001b[0;36mvalidate_params.<locals>.decorator.<locals>.wrapper\u001b[1;34m(*args, **kwargs)\u001b[0m\n\u001b[0;32m    205\u001b[0m \u001b[38;5;28;01mtry\u001b[39;00m:\n\u001b[0;32m    206\u001b[0m     \u001b[38;5;28;01mwith\u001b[39;00m config_context(\n\u001b[0;32m    207\u001b[0m         skip_parameter_validation\u001b[38;5;241m=\u001b[39m(\n\u001b[0;32m    208\u001b[0m             prefer_skip_nested_validation \u001b[38;5;129;01mor\u001b[39;00m global_skip_validation\n\u001b[0;32m    209\u001b[0m         )\n\u001b[0;32m    210\u001b[0m     ):\n\u001b[1;32m--> 211\u001b[0m         \u001b[38;5;28;01mreturn\u001b[39;00m func(\u001b[38;5;241m*\u001b[39margs, \u001b[38;5;241m*\u001b[39m\u001b[38;5;241m*\u001b[39mkwargs)\n\u001b[0;32m    212\u001b[0m \u001b[38;5;28;01mexcept\u001b[39;00m InvalidParameterError \u001b[38;5;28;01mas\u001b[39;00m e:\n\u001b[0;32m    213\u001b[0m     \u001b[38;5;66;03m# When the function is just a wrapper around an estimator, we allow\u001b[39;00m\n\u001b[0;32m    214\u001b[0m     \u001b[38;5;66;03m# the function to delegate validation to the estimator, but we replace\u001b[39;00m\n\u001b[0;32m    215\u001b[0m     \u001b[38;5;66;03m# the name of the estimator by the name of the function in the error\u001b[39;00m\n\u001b[0;32m    216\u001b[0m     \u001b[38;5;66;03m# message to avoid confusion.\u001b[39;00m\n\u001b[0;32m    217\u001b[0m     msg \u001b[38;5;241m=\u001b[39m re\u001b[38;5;241m.\u001b[39msub(\n\u001b[0;32m    218\u001b[0m         \u001b[38;5;124mr\u001b[39m\u001b[38;5;124m\"\u001b[39m\u001b[38;5;124mparameter of \u001b[39m\u001b[38;5;124m\\\u001b[39m\u001b[38;5;124mw+ must be\u001b[39m\u001b[38;5;124m\"\u001b[39m,\n\u001b[0;32m    219\u001b[0m         \u001b[38;5;124mf\u001b[39m\u001b[38;5;124m\"\u001b[39m\u001b[38;5;124mparameter of \u001b[39m\u001b[38;5;132;01m{\u001b[39;00mfunc\u001b[38;5;241m.\u001b[39m\u001b[38;5;18m__qualname__\u001b[39m\u001b[38;5;132;01m}\u001b[39;00m\u001b[38;5;124m must be\u001b[39m\u001b[38;5;124m\"\u001b[39m,\n\u001b[0;32m    220\u001b[0m         \u001b[38;5;28mstr\u001b[39m(e),\n\u001b[0;32m    221\u001b[0m     )\n",
      "File \u001b[1;32m~\\anaconda3\\Lib\\site-packages\\sklearn\\model_selection\\_validation.py:309\u001b[0m, in \u001b[0;36mcross_validate\u001b[1;34m(estimator, X, y, groups, scoring, cv, n_jobs, verbose, fit_params, pre_dispatch, return_train_score, return_estimator, return_indices, error_score)\u001b[0m\n\u001b[0;32m    306\u001b[0m \u001b[38;5;66;03m# We clone the estimator to make sure that all the folds are\u001b[39;00m\n\u001b[0;32m    307\u001b[0m \u001b[38;5;66;03m# independent, and that it is pickle-able.\u001b[39;00m\n\u001b[0;32m    308\u001b[0m parallel \u001b[38;5;241m=\u001b[39m Parallel(n_jobs\u001b[38;5;241m=\u001b[39mn_jobs, verbose\u001b[38;5;241m=\u001b[39mverbose, pre_dispatch\u001b[38;5;241m=\u001b[39mpre_dispatch)\n\u001b[1;32m--> 309\u001b[0m results \u001b[38;5;241m=\u001b[39m parallel(\n\u001b[0;32m    310\u001b[0m     delayed(_fit_and_score)(\n\u001b[0;32m    311\u001b[0m         clone(estimator),\n\u001b[0;32m    312\u001b[0m         X,\n\u001b[0;32m    313\u001b[0m         y,\n\u001b[0;32m    314\u001b[0m         scorers,\n\u001b[0;32m    315\u001b[0m         train,\n\u001b[0;32m    316\u001b[0m         test,\n\u001b[0;32m    317\u001b[0m         verbose,\n\u001b[0;32m    318\u001b[0m         \u001b[38;5;28;01mNone\u001b[39;00m,\n\u001b[0;32m    319\u001b[0m         fit_params,\n\u001b[0;32m    320\u001b[0m         return_train_score\u001b[38;5;241m=\u001b[39mreturn_train_score,\n\u001b[0;32m    321\u001b[0m         return_times\u001b[38;5;241m=\u001b[39m\u001b[38;5;28;01mTrue\u001b[39;00m,\n\u001b[0;32m    322\u001b[0m         return_estimator\u001b[38;5;241m=\u001b[39mreturn_estimator,\n\u001b[0;32m    323\u001b[0m         error_score\u001b[38;5;241m=\u001b[39merror_score,\n\u001b[0;32m    324\u001b[0m     )\n\u001b[0;32m    325\u001b[0m     \u001b[38;5;28;01mfor\u001b[39;00m train, test \u001b[38;5;129;01min\u001b[39;00m indices\n\u001b[0;32m    326\u001b[0m )\n\u001b[0;32m    328\u001b[0m _warn_or_raise_about_fit_failures(results, error_score)\n\u001b[0;32m    330\u001b[0m \u001b[38;5;66;03m# For callable scoring, the return type is only know after calling. If the\u001b[39;00m\n\u001b[0;32m    331\u001b[0m \u001b[38;5;66;03m# return type is a dictionary, the error scores can now be inserted with\u001b[39;00m\n\u001b[0;32m    332\u001b[0m \u001b[38;5;66;03m# the correct key.\u001b[39;00m\n",
      "File \u001b[1;32m~\\anaconda3\\Lib\\site-packages\\sklearn\\utils\\parallel.py:65\u001b[0m, in \u001b[0;36mParallel.__call__\u001b[1;34m(self, iterable)\u001b[0m\n\u001b[0;32m     60\u001b[0m config \u001b[38;5;241m=\u001b[39m get_config()\n\u001b[0;32m     61\u001b[0m iterable_with_config \u001b[38;5;241m=\u001b[39m (\n\u001b[0;32m     62\u001b[0m     (_with_config(delayed_func, config), args, kwargs)\n\u001b[0;32m     63\u001b[0m     \u001b[38;5;28;01mfor\u001b[39;00m delayed_func, args, kwargs \u001b[38;5;129;01min\u001b[39;00m iterable\n\u001b[0;32m     64\u001b[0m )\n\u001b[1;32m---> 65\u001b[0m \u001b[38;5;28;01mreturn\u001b[39;00m \u001b[38;5;28msuper\u001b[39m()\u001b[38;5;241m.\u001b[39m\u001b[38;5;21m__call__\u001b[39m(iterable_with_config)\n",
      "File \u001b[1;32m~\\anaconda3\\Lib\\site-packages\\joblib\\parallel.py:1088\u001b[0m, in \u001b[0;36mParallel.__call__\u001b[1;34m(self, iterable)\u001b[0m\n\u001b[0;32m   1085\u001b[0m \u001b[38;5;28;01mif\u001b[39;00m \u001b[38;5;28mself\u001b[39m\u001b[38;5;241m.\u001b[39mdispatch_one_batch(iterator):\n\u001b[0;32m   1086\u001b[0m     \u001b[38;5;28mself\u001b[39m\u001b[38;5;241m.\u001b[39m_iterating \u001b[38;5;241m=\u001b[39m \u001b[38;5;28mself\u001b[39m\u001b[38;5;241m.\u001b[39m_original_iterator \u001b[38;5;129;01mis\u001b[39;00m \u001b[38;5;129;01mnot\u001b[39;00m \u001b[38;5;28;01mNone\u001b[39;00m\n\u001b[1;32m-> 1088\u001b[0m \u001b[38;5;28;01mwhile\u001b[39;00m \u001b[38;5;28mself\u001b[39m\u001b[38;5;241m.\u001b[39mdispatch_one_batch(iterator):\n\u001b[0;32m   1089\u001b[0m     \u001b[38;5;28;01mpass\u001b[39;00m\n\u001b[0;32m   1091\u001b[0m \u001b[38;5;28;01mif\u001b[39;00m pre_dispatch \u001b[38;5;241m==\u001b[39m \u001b[38;5;124m\"\u001b[39m\u001b[38;5;124mall\u001b[39m\u001b[38;5;124m\"\u001b[39m \u001b[38;5;129;01mor\u001b[39;00m n_jobs \u001b[38;5;241m==\u001b[39m \u001b[38;5;241m1\u001b[39m:\n\u001b[0;32m   1092\u001b[0m     \u001b[38;5;66;03m# The iterable was consumed all at once by the above for loop.\u001b[39;00m\n\u001b[0;32m   1093\u001b[0m     \u001b[38;5;66;03m# No need to wait for async callbacks to trigger to\u001b[39;00m\n\u001b[0;32m   1094\u001b[0m     \u001b[38;5;66;03m# consumption.\u001b[39;00m\n",
      "File \u001b[1;32m~\\anaconda3\\Lib\\site-packages\\joblib\\parallel.py:901\u001b[0m, in \u001b[0;36mParallel.dispatch_one_batch\u001b[1;34m(self, iterator)\u001b[0m\n\u001b[0;32m    899\u001b[0m     \u001b[38;5;28;01mreturn\u001b[39;00m \u001b[38;5;28;01mFalse\u001b[39;00m\n\u001b[0;32m    900\u001b[0m \u001b[38;5;28;01melse\u001b[39;00m:\n\u001b[1;32m--> 901\u001b[0m     \u001b[38;5;28mself\u001b[39m\u001b[38;5;241m.\u001b[39m_dispatch(tasks)\n\u001b[0;32m    902\u001b[0m     \u001b[38;5;28;01mreturn\u001b[39;00m \u001b[38;5;28;01mTrue\u001b[39;00m\n",
      "File \u001b[1;32m~\\anaconda3\\Lib\\site-packages\\joblib\\parallel.py:819\u001b[0m, in \u001b[0;36mParallel._dispatch\u001b[1;34m(self, batch)\u001b[0m\n\u001b[0;32m    817\u001b[0m \u001b[38;5;28;01mwith\u001b[39;00m \u001b[38;5;28mself\u001b[39m\u001b[38;5;241m.\u001b[39m_lock:\n\u001b[0;32m    818\u001b[0m     job_idx \u001b[38;5;241m=\u001b[39m \u001b[38;5;28mlen\u001b[39m(\u001b[38;5;28mself\u001b[39m\u001b[38;5;241m.\u001b[39m_jobs)\n\u001b[1;32m--> 819\u001b[0m     job \u001b[38;5;241m=\u001b[39m \u001b[38;5;28mself\u001b[39m\u001b[38;5;241m.\u001b[39m_backend\u001b[38;5;241m.\u001b[39mapply_async(batch, callback\u001b[38;5;241m=\u001b[39mcb)\n\u001b[0;32m    820\u001b[0m     \u001b[38;5;66;03m# A job can complete so quickly than its callback is\u001b[39;00m\n\u001b[0;32m    821\u001b[0m     \u001b[38;5;66;03m# called before we get here, causing self._jobs to\u001b[39;00m\n\u001b[0;32m    822\u001b[0m     \u001b[38;5;66;03m# grow. To ensure correct results ordering, .insert is\u001b[39;00m\n\u001b[0;32m    823\u001b[0m     \u001b[38;5;66;03m# used (rather than .append) in the following line\u001b[39;00m\n\u001b[0;32m    824\u001b[0m     \u001b[38;5;28mself\u001b[39m\u001b[38;5;241m.\u001b[39m_jobs\u001b[38;5;241m.\u001b[39minsert(job_idx, job)\n",
      "File \u001b[1;32m~\\anaconda3\\Lib\\site-packages\\joblib\\_parallel_backends.py:208\u001b[0m, in \u001b[0;36mSequentialBackend.apply_async\u001b[1;34m(self, func, callback)\u001b[0m\n\u001b[0;32m    206\u001b[0m \u001b[38;5;28;01mdef\u001b[39;00m \u001b[38;5;21mapply_async\u001b[39m(\u001b[38;5;28mself\u001b[39m, func, callback\u001b[38;5;241m=\u001b[39m\u001b[38;5;28;01mNone\u001b[39;00m):\n\u001b[0;32m    207\u001b[0m \u001b[38;5;250m    \u001b[39m\u001b[38;5;124;03m\"\"\"Schedule a func to be run\"\"\"\u001b[39;00m\n\u001b[1;32m--> 208\u001b[0m     result \u001b[38;5;241m=\u001b[39m ImmediateResult(func)\n\u001b[0;32m    209\u001b[0m     \u001b[38;5;28;01mif\u001b[39;00m callback:\n\u001b[0;32m    210\u001b[0m         callback(result)\n",
      "File \u001b[1;32m~\\anaconda3\\Lib\\site-packages\\joblib\\_parallel_backends.py:597\u001b[0m, in \u001b[0;36mImmediateResult.__init__\u001b[1;34m(self, batch)\u001b[0m\n\u001b[0;32m    594\u001b[0m \u001b[38;5;28;01mdef\u001b[39;00m \u001b[38;5;21m__init__\u001b[39m(\u001b[38;5;28mself\u001b[39m, batch):\n\u001b[0;32m    595\u001b[0m     \u001b[38;5;66;03m# Don't delay the application, to avoid keeping the input\u001b[39;00m\n\u001b[0;32m    596\u001b[0m     \u001b[38;5;66;03m# arguments in memory\u001b[39;00m\n\u001b[1;32m--> 597\u001b[0m     \u001b[38;5;28mself\u001b[39m\u001b[38;5;241m.\u001b[39mresults \u001b[38;5;241m=\u001b[39m batch()\n",
      "File \u001b[1;32m~\\anaconda3\\Lib\\site-packages\\joblib\\parallel.py:288\u001b[0m, in \u001b[0;36mBatchedCalls.__call__\u001b[1;34m(self)\u001b[0m\n\u001b[0;32m    284\u001b[0m \u001b[38;5;28;01mdef\u001b[39;00m \u001b[38;5;21m__call__\u001b[39m(\u001b[38;5;28mself\u001b[39m):\n\u001b[0;32m    285\u001b[0m     \u001b[38;5;66;03m# Set the default nested backend to self._backend but do not set the\u001b[39;00m\n\u001b[0;32m    286\u001b[0m     \u001b[38;5;66;03m# change the default number of processes to -1\u001b[39;00m\n\u001b[0;32m    287\u001b[0m     \u001b[38;5;28;01mwith\u001b[39;00m parallel_backend(\u001b[38;5;28mself\u001b[39m\u001b[38;5;241m.\u001b[39m_backend, n_jobs\u001b[38;5;241m=\u001b[39m\u001b[38;5;28mself\u001b[39m\u001b[38;5;241m.\u001b[39m_n_jobs):\n\u001b[1;32m--> 288\u001b[0m         \u001b[38;5;28;01mreturn\u001b[39;00m [func(\u001b[38;5;241m*\u001b[39margs, \u001b[38;5;241m*\u001b[39m\u001b[38;5;241m*\u001b[39mkwargs)\n\u001b[0;32m    289\u001b[0m                 \u001b[38;5;28;01mfor\u001b[39;00m func, args, kwargs \u001b[38;5;129;01min\u001b[39;00m \u001b[38;5;28mself\u001b[39m\u001b[38;5;241m.\u001b[39mitems]\n",
      "File \u001b[1;32m~\\anaconda3\\Lib\\site-packages\\joblib\\parallel.py:288\u001b[0m, in \u001b[0;36m<listcomp>\u001b[1;34m(.0)\u001b[0m\n\u001b[0;32m    284\u001b[0m \u001b[38;5;28;01mdef\u001b[39;00m \u001b[38;5;21m__call__\u001b[39m(\u001b[38;5;28mself\u001b[39m):\n\u001b[0;32m    285\u001b[0m     \u001b[38;5;66;03m# Set the default nested backend to self._backend but do not set the\u001b[39;00m\n\u001b[0;32m    286\u001b[0m     \u001b[38;5;66;03m# change the default number of processes to -1\u001b[39;00m\n\u001b[0;32m    287\u001b[0m     \u001b[38;5;28;01mwith\u001b[39;00m parallel_backend(\u001b[38;5;28mself\u001b[39m\u001b[38;5;241m.\u001b[39m_backend, n_jobs\u001b[38;5;241m=\u001b[39m\u001b[38;5;28mself\u001b[39m\u001b[38;5;241m.\u001b[39m_n_jobs):\n\u001b[1;32m--> 288\u001b[0m         \u001b[38;5;28;01mreturn\u001b[39;00m [func(\u001b[38;5;241m*\u001b[39margs, \u001b[38;5;241m*\u001b[39m\u001b[38;5;241m*\u001b[39mkwargs)\n\u001b[0;32m    289\u001b[0m                 \u001b[38;5;28;01mfor\u001b[39;00m func, args, kwargs \u001b[38;5;129;01min\u001b[39;00m \u001b[38;5;28mself\u001b[39m\u001b[38;5;241m.\u001b[39mitems]\n",
      "File \u001b[1;32m~\\anaconda3\\Lib\\site-packages\\sklearn\\utils\\parallel.py:127\u001b[0m, in \u001b[0;36m_FuncWrapper.__call__\u001b[1;34m(self, *args, **kwargs)\u001b[0m\n\u001b[0;32m    125\u001b[0m     config \u001b[38;5;241m=\u001b[39m {}\n\u001b[0;32m    126\u001b[0m \u001b[38;5;28;01mwith\u001b[39;00m config_context(\u001b[38;5;241m*\u001b[39m\u001b[38;5;241m*\u001b[39mconfig):\n\u001b[1;32m--> 127\u001b[0m     \u001b[38;5;28;01mreturn\u001b[39;00m \u001b[38;5;28mself\u001b[39m\u001b[38;5;241m.\u001b[39mfunction(\u001b[38;5;241m*\u001b[39margs, \u001b[38;5;241m*\u001b[39m\u001b[38;5;241m*\u001b[39mkwargs)\n",
      "File \u001b[1;32m~\\anaconda3\\Lib\\site-packages\\sklearn\\model_selection\\_validation.py:732\u001b[0m, in \u001b[0;36m_fit_and_score\u001b[1;34m(estimator, X, y, scorer, train, test, verbose, parameters, fit_params, return_train_score, return_parameters, return_n_test_samples, return_times, return_estimator, split_progress, candidate_progress, error_score)\u001b[0m\n\u001b[0;32m    730\u001b[0m         estimator\u001b[38;5;241m.\u001b[39mfit(X_train, \u001b[38;5;241m*\u001b[39m\u001b[38;5;241m*\u001b[39mfit_params)\n\u001b[0;32m    731\u001b[0m     \u001b[38;5;28;01melse\u001b[39;00m:\n\u001b[1;32m--> 732\u001b[0m         estimator\u001b[38;5;241m.\u001b[39mfit(X_train, y_train, \u001b[38;5;241m*\u001b[39m\u001b[38;5;241m*\u001b[39mfit_params)\n\u001b[0;32m    734\u001b[0m \u001b[38;5;28;01mexcept\u001b[39;00m \u001b[38;5;167;01mException\u001b[39;00m:\n\u001b[0;32m    735\u001b[0m     \u001b[38;5;66;03m# Note fit time as time until error\u001b[39;00m\n\u001b[0;32m    736\u001b[0m     fit_time \u001b[38;5;241m=\u001b[39m time\u001b[38;5;241m.\u001b[39mtime() \u001b[38;5;241m-\u001b[39m start_time\n",
      "File \u001b[1;32m~\\anaconda3\\Lib\\site-packages\\sklearn\\base.py:1151\u001b[0m, in \u001b[0;36m_fit_context.<locals>.decorator.<locals>.wrapper\u001b[1;34m(estimator, *args, **kwargs)\u001b[0m\n\u001b[0;32m   1144\u001b[0m     estimator\u001b[38;5;241m.\u001b[39m_validate_params()\n\u001b[0;32m   1146\u001b[0m \u001b[38;5;28;01mwith\u001b[39;00m config_context(\n\u001b[0;32m   1147\u001b[0m     skip_parameter_validation\u001b[38;5;241m=\u001b[39m(\n\u001b[0;32m   1148\u001b[0m         prefer_skip_nested_validation \u001b[38;5;129;01mor\u001b[39;00m global_skip_validation\n\u001b[0;32m   1149\u001b[0m     )\n\u001b[0;32m   1150\u001b[0m ):\n\u001b[1;32m-> 1151\u001b[0m     \u001b[38;5;28;01mreturn\u001b[39;00m fit_method(estimator, \u001b[38;5;241m*\u001b[39margs, \u001b[38;5;241m*\u001b[39m\u001b[38;5;241m*\u001b[39mkwargs)\n",
      "File \u001b[1;32m~\\anaconda3\\Lib\\site-packages\\sklearn\\tree\\_classes.py:959\u001b[0m, in \u001b[0;36mDecisionTreeClassifier.fit\u001b[1;34m(self, X, y, sample_weight, check_input)\u001b[0m\n\u001b[0;32m    928\u001b[0m \u001b[38;5;129m@_fit_context\u001b[39m(prefer_skip_nested_validation\u001b[38;5;241m=\u001b[39m\u001b[38;5;28;01mTrue\u001b[39;00m)\n\u001b[0;32m    929\u001b[0m \u001b[38;5;28;01mdef\u001b[39;00m \u001b[38;5;21mfit\u001b[39m(\u001b[38;5;28mself\u001b[39m, X, y, sample_weight\u001b[38;5;241m=\u001b[39m\u001b[38;5;28;01mNone\u001b[39;00m, check_input\u001b[38;5;241m=\u001b[39m\u001b[38;5;28;01mTrue\u001b[39;00m):\n\u001b[0;32m    930\u001b[0m \u001b[38;5;250m    \u001b[39m\u001b[38;5;124;03m\"\"\"Build a decision tree classifier from the training set (X, y).\u001b[39;00m\n\u001b[0;32m    931\u001b[0m \n\u001b[0;32m    932\u001b[0m \u001b[38;5;124;03m    Parameters\u001b[39;00m\n\u001b[1;32m   (...)\u001b[0m\n\u001b[0;32m    956\u001b[0m \u001b[38;5;124;03m        Fitted estimator.\u001b[39;00m\n\u001b[0;32m    957\u001b[0m \u001b[38;5;124;03m    \"\"\"\u001b[39;00m\n\u001b[1;32m--> 959\u001b[0m     \u001b[38;5;28msuper\u001b[39m()\u001b[38;5;241m.\u001b[39m_fit(\n\u001b[0;32m    960\u001b[0m         X,\n\u001b[0;32m    961\u001b[0m         y,\n\u001b[0;32m    962\u001b[0m         sample_weight\u001b[38;5;241m=\u001b[39msample_weight,\n\u001b[0;32m    963\u001b[0m         check_input\u001b[38;5;241m=\u001b[39mcheck_input,\n\u001b[0;32m    964\u001b[0m     )\n\u001b[0;32m    965\u001b[0m     \u001b[38;5;28;01mreturn\u001b[39;00m \u001b[38;5;28mself\u001b[39m\n",
      "File \u001b[1;32m~\\anaconda3\\Lib\\site-packages\\sklearn\\tree\\_classes.py:443\u001b[0m, in \u001b[0;36mBaseDecisionTree._fit\u001b[1;34m(self, X, y, sample_weight, check_input, missing_values_in_feature_mask)\u001b[0m\n\u001b[0;32m    432\u001b[0m \u001b[38;5;28;01melse\u001b[39;00m:\n\u001b[0;32m    433\u001b[0m     builder \u001b[38;5;241m=\u001b[39m BestFirstTreeBuilder(\n\u001b[0;32m    434\u001b[0m         splitter,\n\u001b[0;32m    435\u001b[0m         min_samples_split,\n\u001b[1;32m   (...)\u001b[0m\n\u001b[0;32m    440\u001b[0m         \u001b[38;5;28mself\u001b[39m\u001b[38;5;241m.\u001b[39mmin_impurity_decrease,\n\u001b[0;32m    441\u001b[0m     )\n\u001b[1;32m--> 443\u001b[0m builder\u001b[38;5;241m.\u001b[39mbuild(\u001b[38;5;28mself\u001b[39m\u001b[38;5;241m.\u001b[39mtree_, X, y, sample_weight, missing_values_in_feature_mask)\n\u001b[0;32m    445\u001b[0m \u001b[38;5;28;01mif\u001b[39;00m \u001b[38;5;28mself\u001b[39m\u001b[38;5;241m.\u001b[39mn_outputs_ \u001b[38;5;241m==\u001b[39m \u001b[38;5;241m1\u001b[39m \u001b[38;5;129;01mand\u001b[39;00m is_classifier(\u001b[38;5;28mself\u001b[39m):\n\u001b[0;32m    446\u001b[0m     \u001b[38;5;28mself\u001b[39m\u001b[38;5;241m.\u001b[39mn_classes_ \u001b[38;5;241m=\u001b[39m \u001b[38;5;28mself\u001b[39m\u001b[38;5;241m.\u001b[39mn_classes_[\u001b[38;5;241m0\u001b[39m]\n",
      "\u001b[1;31mKeyboardInterrupt\u001b[0m: "
     ]
    }
   ],
   "source": [
    "results = []\n",
    "names = []\n",
    "for name, model in models:\n",
    "\tkfold = StratifiedKFold(n_splits=10, random_state=1, shuffle=True)\n",
    "\tcv_results = cross_val_score(model, X_train, Y_train, cv=kfold, scoring='accuracy')\n",
    "\tresults.append(cv_results)\n",
    "\tnames.append(name)\n",
    "\tprint('%s: %f (%f)' % (name, cv_results.mean(), cv_results.std()))"
   ]
  },
  {
   "cell_type": "code",
   "execution_count": null,
   "id": "89235f78",
   "metadata": {},
   "outputs": [],
   "source": [
    "lllllllll"
   ]
  },
  {
   "cell_type": "code",
   "execution_count": null,
   "id": "e27d25e6",
   "metadata": {},
   "outputs": [],
   "source": [
    "llllllllllll"
   ]
  },
  {
   "cell_type": "code",
   "execution_count": null,
   "id": "f0d7eefd",
   "metadata": {},
   "outputs": [],
   "source": []
  },
  {
   "cell_type": "markdown",
   "id": "b47f0ac5",
   "metadata": {},
   "source": [
    "### Conclusion:"
   ]
  },
  {
   "cell_type": "markdown",
   "id": "08cc508b",
   "metadata": {},
   "source": [
    "The analysis allowed me to conclude that from the entire dataset, approximately 2% were related to component failure in specific components of the APS system. Focusing on this part, I obtained that ~26% of the components may have been working correctly without fail. Still, it is necessary to verify if this data results from a misfunction of the components or problems in the data collection or manipulation.\n",
    "\n",
    "On the other hand, around 74% of the components related to the APS system presented failure. Therefore, all 126 components need investment by the company in the upcoming year. However, considering that the highest failure tendency occurs in at least 11 components, these require significant attention as soon as possible because they may increase the risk to the safety of truck drivers because they are involved in main functions such as braking and gear changes."
   ]
  },
  {
   "cell_type": "markdown",
   "id": "ec87ded6",
   "metadata": {},
   "source": [
    "### References"
   ]
  },
  {
   "cell_type": "markdown",
   "id": "bdb570d5",
   "metadata": {},
   "source": [
    "Melina Panzner et al. (2022) ‘Characterization of Usage Data with the Help of Data Classifications’, *Journal of the Knowledge Economy* [Preprint]. Available at: https://search.ebscohost.com/login.aspx?direct=true&db=edsair&AN=edsair.doi...........8017c54a020b9debf67ec56928155640&site=eds-live&scope=site (Accessed: 25 October 2023).\n",
    "\n",
    "Noviyanti T M Sagala and Fonggi Yudi Aryatama (2022) ‘Exploratory Data Analysis (EDA): A Study of Olympic Medallist’, *Sistemasi: Jurnal Sistem Informasi*, 11(3), pp. 578–587. doi:10.32520/stmsi.v11i3.1857.\n",
    "\n",
    "Kabita Sahoo *et al*. (2019) “Exploratory Data Analysis using Python,” *Int. J. Innov. Technol. Explor. Eng.*, vol. 8, no. 12, pp. 4727–4735\n",
    "\n",
    "K. Muralidharan (2010). A Note on Transformation, Standardization and Normalization. *Social Science Research Network*, 9, pp.116–122.\n",
    "\n",
    "Lei Xu and Alan L. Yuille (1995) Robust principal component analysis by self-organizing rules based on statistical physics approach. *IEEE Transactions on Neural Networks*, 6(1), pp.131–143. doi:https://doi.org/10.1109/72.363442.\n",
    "\n",
    "Andreas C. Müller  and Sarah Guido (2017) 'Chapter 3: Unsupervised Learning and Prepocessing', in Schanafelt, D. (ed.) *Introduction to machine learning with Python: a guide for data scientists*. United States of America: O’reilly Media, pp.131-209.\n",
    "\n",
    "Isabella Lindgren (2020) Dealing with Highly Dimensional Data using Principal Component Analysis (PCA). Available at: https://towardsdatascience.com/dealing-with-highly-dimensional-data-using-principal-component-analysis-pca-fea1ca817fe6 \n",
    "(Accessed:30 October 2023).\n",
    "\n",
    "Nicholas, J. (1999). *Introduction to Descriptive Statistics*. Sydney: Mathematics Learning Centre, University Of Sydney. "
   ]
  },
  {
   "cell_type": "code",
   "execution_count": null,
   "id": "c07422c3",
   "metadata": {},
   "outputs": [],
   "source": []
  }
 ],
 "metadata": {
  "kernelspec": {
   "display_name": "Python 3 (ipykernel)",
   "language": "python",
   "name": "python3"
  },
  "language_info": {
   "codemirror_mode": {
    "name": "ipython",
    "version": 3
   },
   "file_extension": ".py",
   "mimetype": "text/x-python",
   "name": "python",
   "nbconvert_exporter": "python",
   "pygments_lexer": "ipython3",
   "version": "3.11.4"
  }
 },
 "nbformat": 4,
 "nbformat_minor": 5
}
