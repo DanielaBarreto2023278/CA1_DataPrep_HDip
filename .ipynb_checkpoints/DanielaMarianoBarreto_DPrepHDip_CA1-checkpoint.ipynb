{
 "cells": [
  {
   "cell_type": "markdown",
   "id": "6d07f04a",
   "metadata": {},
   "source": [
    "Primary I imported the Pandas library to use the functions and methods to manipulated the data in this library, and then I imported the Numpy to solve matematical problems."
   ]
  },
  {
   "cell_type": "code",
   "execution_count": 19,
   "id": "44693d50",
   "metadata": {},
   "outputs": [],
   "source": [
    "import pandas as pd\n",
    "import numpy as np"
   ]
  },
  {
   "cell_type": "markdown",
   "id": "9b05b46b",
   "metadata": {},
   "source": [
    "I used the 'pd.read_csv' method to access the file that I want to work with."
   ]
  },
  {
   "cell_type": "code",
   "execution_count": 20,
   "id": "8157cde2",
   "metadata": {},
   "outputs": [],
   "source": [
    "df = pd.read_csv(\"aps_failure_set.csv\")"
   ]
  },
  {
   "cell_type": "markdown",
   "id": "54bd9525",
   "metadata": {},
   "source": [
    "I used the 'head' method to view the file."
   ]
  },
  {
   "cell_type": "code",
   "execution_count": 21,
   "id": "0118be6e",
   "metadata": {},
   "outputs": [
    {
     "data": {
      "text/html": [
       "<div>\n",
       "<style scoped>\n",
       "    .dataframe tbody tr th:only-of-type {\n",
       "        vertical-align: middle;\n",
       "    }\n",
       "\n",
       "    .dataframe tbody tr th {\n",
       "        vertical-align: top;\n",
       "    }\n",
       "\n",
       "    .dataframe thead th {\n",
       "        text-align: right;\n",
       "    }\n",
       "</style>\n",
       "<table border=\"1\" class=\"dataframe\">\n",
       "  <thead>\n",
       "    <tr style=\"text-align: right;\">\n",
       "      <th></th>\n",
       "      <th>class</th>\n",
       "      <th>aa_000</th>\n",
       "      <th>ab_000</th>\n",
       "      <th>ac_000</th>\n",
       "      <th>ad_000</th>\n",
       "      <th>ae_000</th>\n",
       "      <th>af_000</th>\n",
       "      <th>ag_000</th>\n",
       "      <th>ag_001</th>\n",
       "      <th>ag_002</th>\n",
       "      <th>...</th>\n",
       "      <th>ee_002</th>\n",
       "      <th>ee_003</th>\n",
       "      <th>ee_004</th>\n",
       "      <th>ee_005</th>\n",
       "      <th>ee_006</th>\n",
       "      <th>ee_007</th>\n",
       "      <th>ee_008</th>\n",
       "      <th>ee_009</th>\n",
       "      <th>ef_000</th>\n",
       "      <th>eg_000</th>\n",
       "    </tr>\n",
       "  </thead>\n",
       "  <tbody>\n",
       "    <tr>\n",
       "      <th>0</th>\n",
       "      <td>neg</td>\n",
       "      <td>76698</td>\n",
       "      <td>na</td>\n",
       "      <td>2130706438</td>\n",
       "      <td>280</td>\n",
       "      <td>0</td>\n",
       "      <td>0</td>\n",
       "      <td>0</td>\n",
       "      <td>0</td>\n",
       "      <td>0</td>\n",
       "      <td>...</td>\n",
       "      <td>1240520</td>\n",
       "      <td>493384</td>\n",
       "      <td>721044</td>\n",
       "      <td>469792</td>\n",
       "      <td>339156</td>\n",
       "      <td>157956</td>\n",
       "      <td>73224</td>\n",
       "      <td>0</td>\n",
       "      <td>0</td>\n",
       "      <td>0</td>\n",
       "    </tr>\n",
       "    <tr>\n",
       "      <th>1</th>\n",
       "      <td>neg</td>\n",
       "      <td>33058</td>\n",
       "      <td>na</td>\n",
       "      <td>0</td>\n",
       "      <td>na</td>\n",
       "      <td>0</td>\n",
       "      <td>0</td>\n",
       "      <td>0</td>\n",
       "      <td>0</td>\n",
       "      <td>0</td>\n",
       "      <td>...</td>\n",
       "      <td>421400</td>\n",
       "      <td>178064</td>\n",
       "      <td>293306</td>\n",
       "      <td>245416</td>\n",
       "      <td>133654</td>\n",
       "      <td>81140</td>\n",
       "      <td>97576</td>\n",
       "      <td>1500</td>\n",
       "      <td>0</td>\n",
       "      <td>0</td>\n",
       "    </tr>\n",
       "    <tr>\n",
       "      <th>2</th>\n",
       "      <td>neg</td>\n",
       "      <td>41040</td>\n",
       "      <td>na</td>\n",
       "      <td>228</td>\n",
       "      <td>100</td>\n",
       "      <td>0</td>\n",
       "      <td>0</td>\n",
       "      <td>0</td>\n",
       "      <td>0</td>\n",
       "      <td>0</td>\n",
       "      <td>...</td>\n",
       "      <td>277378</td>\n",
       "      <td>159812</td>\n",
       "      <td>423992</td>\n",
       "      <td>409564</td>\n",
       "      <td>320746</td>\n",
       "      <td>158022</td>\n",
       "      <td>95128</td>\n",
       "      <td>514</td>\n",
       "      <td>0</td>\n",
       "      <td>0</td>\n",
       "    </tr>\n",
       "    <tr>\n",
       "      <th>3</th>\n",
       "      <td>neg</td>\n",
       "      <td>12</td>\n",
       "      <td>0</td>\n",
       "      <td>70</td>\n",
       "      <td>66</td>\n",
       "      <td>0</td>\n",
       "      <td>10</td>\n",
       "      <td>0</td>\n",
       "      <td>0</td>\n",
       "      <td>0</td>\n",
       "      <td>...</td>\n",
       "      <td>240</td>\n",
       "      <td>46</td>\n",
       "      <td>58</td>\n",
       "      <td>44</td>\n",
       "      <td>10</td>\n",
       "      <td>0</td>\n",
       "      <td>0</td>\n",
       "      <td>0</td>\n",
       "      <td>4</td>\n",
       "      <td>32</td>\n",
       "    </tr>\n",
       "    <tr>\n",
       "      <th>4</th>\n",
       "      <td>neg</td>\n",
       "      <td>60874</td>\n",
       "      <td>na</td>\n",
       "      <td>1368</td>\n",
       "      <td>458</td>\n",
       "      <td>0</td>\n",
       "      <td>0</td>\n",
       "      <td>0</td>\n",
       "      <td>0</td>\n",
       "      <td>0</td>\n",
       "      <td>...</td>\n",
       "      <td>622012</td>\n",
       "      <td>229790</td>\n",
       "      <td>405298</td>\n",
       "      <td>347188</td>\n",
       "      <td>286954</td>\n",
       "      <td>311560</td>\n",
       "      <td>433954</td>\n",
       "      <td>1218</td>\n",
       "      <td>0</td>\n",
       "      <td>0</td>\n",
       "    </tr>\n",
       "  </tbody>\n",
       "</table>\n",
       "<p>5 rows × 171 columns</p>\n",
       "</div>"
      ],
      "text/plain": [
       "  class  aa_000 ab_000      ac_000 ad_000 ae_000 af_000 ag_000 ag_001 ag_002  \\\n",
       "0   neg   76698     na  2130706438    280      0      0      0      0      0   \n",
       "1   neg   33058     na           0     na      0      0      0      0      0   \n",
       "2   neg   41040     na         228    100      0      0      0      0      0   \n",
       "3   neg      12      0          70     66      0     10      0      0      0   \n",
       "4   neg   60874     na        1368    458      0      0      0      0      0   \n",
       "\n",
       "   ...   ee_002  ee_003  ee_004  ee_005  ee_006  ee_007  ee_008 ee_009 ef_000  \\\n",
       "0  ...  1240520  493384  721044  469792  339156  157956   73224      0      0   \n",
       "1  ...   421400  178064  293306  245416  133654   81140   97576   1500      0   \n",
       "2  ...   277378  159812  423992  409564  320746  158022   95128    514      0   \n",
       "3  ...      240      46      58      44      10       0       0      0      4   \n",
       "4  ...   622012  229790  405298  347188  286954  311560  433954   1218      0   \n",
       "\n",
       "  eg_000  \n",
       "0      0  \n",
       "1      0  \n",
       "2      0  \n",
       "3     32  \n",
       "4      0  \n",
       "\n",
       "[5 rows x 171 columns]"
      ]
     },
     "execution_count": 21,
     "metadata": {},
     "output_type": "execute_result"
    }
   ],
   "source": [
    "df.head()"
   ]
  },
  {
   "cell_type": "markdown",
   "id": "ad04de27",
   "metadata": {},
   "source": [
    "I used the methop df.shape to have an idea of the dataset size. And I found that this dataset has 60000 rows and 171 columns."
   ]
  },
  {
   "cell_type": "code",
   "execution_count": 22,
   "id": "d4f81b97",
   "metadata": {},
   "outputs": [
    {
     "data": {
      "text/plain": [
       "(60000, 171)"
      ]
     },
     "execution_count": 22,
     "metadata": {},
     "output_type": "execute_result"
    }
   ],
   "source": [
    "df.shape"
   ]
  },
  {
   "cell_type": "markdown",
   "id": "4ed6d84d",
   "metadata": {},
   "source": [
    "The method df.info() gave me an idea about the values inside the dataset."
   ]
  },
  {
   "cell_type": "code",
   "execution_count": 23,
   "id": "9ff4d8ac",
   "metadata": {
    "scrolled": true
   },
   "outputs": [
    {
     "name": "stdout",
     "output_type": "stream",
     "text": [
      "<class 'pandas.core.frame.DataFrame'>\n",
      "RangeIndex: 60000 entries, 0 to 59999\n",
      "Columns: 171 entries, class to eg_000\n",
      "dtypes: int64(1), object(170)\n",
      "memory usage: 78.3+ MB\n"
     ]
    }
   ],
   "source": [
    "df.info()"
   ]
  },
  {
   "cell_type": "markdown",
   "id": "fba22b29",
   "metadata": {},
   "source": [
    "After run the df.info() method I realized that the dataset has 170 features denominated as object which means that in this feature there are values that are string or sinalized a 'NaN' by the programm for unkown values."
   ]
  },
  {
   "cell_type": "markdown",
   "id": "08ff8aa7",
   "metadata": {},
   "source": [
    "I used the unique() method to obtain all kind of data that there is inside de column \"class\". As a result is showed that I have strings in this column with two types: 'neg' and 'pos'. "
   ]
  },
  {
   "cell_type": "code",
   "execution_count": 24,
   "id": "7cf56310",
   "metadata": {},
   "outputs": [
    {
     "data": {
      "text/plain": [
       "array(['neg', 'pos'], dtype=object)"
      ]
     },
     "execution_count": 24,
     "metadata": {},
     "output_type": "execute_result"
    }
   ],
   "source": [
    "df[\"class\"].unique()"
   ]
  },
  {
   "cell_type": "markdown",
   "id": "1cedf395",
   "metadata": {},
   "source": [
    "The function miss_val_formats call a list of strings that have some possible formats that might be used to indicate missing or invalid data in the dataset. Then the code below will search on the entire dataset for all the data that are in the list 'miss_val_formats' which may represent missing or invalid data and place them with 'NaN', which means not a number."
   ]
  },
  {
   "cell_type": "code",
   "execution_count": 25,
   "id": "6d58af5f",
   "metadata": {},
   "outputs": [],
   "source": [
    "miss_val_formats = [\"n.a.\", \"?\", \"NA\", \"n/a\", \"na\", \"--\"]"
   ]
  },
  {
   "cell_type": "code",
   "execution_count": 26,
   "id": "960e6b98",
   "metadata": {},
   "outputs": [],
   "source": [
    "df = pd.read_csv(\"aps_failure_set.csv\", na_values=miss_val_formats)"
   ]
  },
  {
   "cell_type": "code",
   "execution_count": 27,
   "id": "f5ffcc54",
   "metadata": {},
   "outputs": [
    {
     "name": "stdout",
     "output_type": "stream",
     "text": [
      "<class 'pandas.core.frame.DataFrame'>\n",
      "RangeIndex: 60000 entries, 0 to 59999\n",
      "Columns: 171 entries, class to eg_000\n",
      "dtypes: float64(169), int64(1), object(1)\n",
      "memory usage: 78.3+ MB\n"
     ]
    }
   ],
   "source": [
    "df.info()"
   ]
  },
  {
   "cell_type": "markdown",
   "id": "1bb0621b",
   "metadata": {},
   "source": [
    "After run the method info() again I saw that the data types has changed. There are float, integer, and object (string), because probably there was missing or invalid data that was changing columns with float values in string columns."
   ]
  },
  {
   "cell_type": "markdown",
   "id": "43db8c96",
   "metadata": {},
   "source": [
    "Now I am using the code df.isnull().sum() to calculate the numbers of missing (null and NaN) values in all columns of the dataset. As result I found that there a lot of missing values, for example in the column ab_000 there are 46329 records missing (null and NaN). \n",
    "Considering that this dataset has a huge amount of missing values I will not allowed to use the code df.dropna(axis=0) because if I do it I will lose the confiability on the information that this dataset might have.\n",
    "Just for instance if I follow this pathway I will get a dataset with only 591 rows, which means that I would lose more than 99% of the dataset."
   ]
  },
  {
   "cell_type": "code",
   "execution_count": 28,
   "id": "26a4dad2",
   "metadata": {},
   "outputs": [
    {
     "data": {
      "text/plain": [
       "class         0\n",
       "aa_000        0\n",
       "ab_000    46329\n",
       "ac_000     3335\n",
       "ad_000    14861\n",
       "          ...  \n",
       "ee_007      671\n",
       "ee_008      671\n",
       "ee_009      671\n",
       "ef_000     2724\n",
       "eg_000     2723\n",
       "Length: 171, dtype: int64"
      ]
     },
     "execution_count": 28,
     "metadata": {},
     "output_type": "execute_result"
    }
   ],
   "source": [
    "df.isnull().sum()"
   ]
  },
  {
   "cell_type": "code",
   "execution_count": 29,
   "id": "7bd2cf4c",
   "metadata": {},
   "outputs": [],
   "source": [
    "new_df = df.dropna(axis=0)"
   ]
  },
  {
   "cell_type": "code",
   "execution_count": 30,
   "id": "0e1f0d12",
   "metadata": {},
   "outputs": [
    {
     "data": {
      "text/plain": [
       "class     0\n",
       "aa_000    0\n",
       "ab_000    0\n",
       "ac_000    0\n",
       "ad_000    0\n",
       "         ..\n",
       "ee_007    0\n",
       "ee_008    0\n",
       "ee_009    0\n",
       "ef_000    0\n",
       "eg_000    0\n",
       "Length: 171, dtype: int64"
      ]
     },
     "execution_count": 30,
     "metadata": {},
     "output_type": "execute_result"
    }
   ],
   "source": [
    "new_df.isnull().sum()"
   ]
  },
  {
   "cell_type": "code",
   "execution_count": 33,
   "id": "784dfd54",
   "metadata": {},
   "outputs": [
    {
     "data": {
      "text/plain": [
       "(591, 171)"
      ]
     },
     "execution_count": 33,
     "metadata": {},
     "output_type": "execute_result"
    }
   ],
   "source": [
    "new_df.shape"
   ]
  },
  {
   "cell_type": "markdown",
   "id": "cc3c0a36",
   "metadata": {},
   "source": [
    "Above is shown that after proceeding that pathway I ended up with only 591 records (rows). In this case I wil use another solution to replace those missing values."
   ]
  },
  {
   "cell_type": "code",
   "execution_count": null,
   "id": "338f1737",
   "metadata": {},
   "outputs": [],
   "source": []
  },
  {
   "cell_type": "code",
   "execution_count": null,
   "id": "1ef3ecb3",
   "metadata": {},
   "outputs": [],
   "source": []
  }
 ],
 "metadata": {
  "kernelspec": {
   "display_name": "Python 3 (ipykernel)",
   "language": "python",
   "name": "python3"
  },
  "language_info": {
   "codemirror_mode": {
    "name": "ipython",
    "version": 3
   },
   "file_extension": ".py",
   "mimetype": "text/x-python",
   "name": "python",
   "nbconvert_exporter": "python",
   "pygments_lexer": "ipython3",
   "version": "3.11.4"
  }
 },
 "nbformat": 4,
 "nbformat_minor": 5
}
